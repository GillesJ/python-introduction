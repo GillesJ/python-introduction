{
 "cells": [
  {
   "cell_type": "markdown",
   "metadata": {},
   "source": [
    "# Chapter 2: Collections"
   ]
  },
  {
   "cell_type": "markdown",
   "metadata": {},
   "source": [
    "-------------------------------"
   ]
  },
  {
   "cell_type": "markdown",
   "metadata": {},
   "source": [
    "## Methods"
   ]
  },
  {
   "cell_type": "markdown",
   "metadata": {},
   "source": [
    "Consider the sentence below:"
   ]
  },
  {
   "cell_type": "code",
   "execution_count": 38,
   "metadata": {
    "collapsed": false
   },
   "outputs": [],
   "source": [
    "sentence = \"Python's name is derived from the television series Monty Python's Flying Circus.\""
   ]
  },
  {
   "cell_type": "markdown",
   "metadata": {},
   "source": [
    "Words are made up of characters, and so are strings in Python, like the string stored in the variable `sentence` in the block above. For the sentence above, it might seem more natural for humans to describe it as a series of words, rather than as a series of characters. Say we want to access the first word in our sentence. If we type in:"
   ]
  },
  {
   "cell_type": "code",
   "execution_count": 2,
   "metadata": {
    "collapsed": false
   },
   "outputs": [
    {
     "name": "stdout",
     "output_type": "stream",
     "text": [
      "P\n"
     ]
    }
   ],
   "source": [
    "first_word = sentence[0]\n",
    "print(first_word)"
   ]
  },
  {
   "cell_type": "markdown",
   "metadata": {},
   "source": [
    "Python only prints the first *character* of our sentence. (Think about this if you do not understand why.) We can transform our sentence into a `list` of words (represented by strings) using the `split()` function as follows: "
   ]
  },
  {
   "cell_type": "code",
   "execution_count": 40,
   "metadata": {
    "collapsed": false
   },
   "outputs": [
    {
     "name": "stdout",
     "output_type": "stream",
     "text": [
      "[\"Python's\", 'name', 'is', 'derived', 'from', 'the', 'television', 'series', 'Monty', \"Python's\", 'Flying', 'Circus.']\n"
     ]
    }
   ],
   "source": [
    "words = sentence.split()\n",
    "print(words)"
   ]
  },
  {
   "cell_type": "markdown",
   "metadata": {},
   "source": [
    "Make sure that you understand the syntax of this code! We call things like `split()` 'functions': functions provide small pieces of helpful, ready-made functionality that we can use in our own code. Here, we apply the `split()` function to the variable `sentence` and we assign the result of the function (we call this the 'return value' of the function) to the new variable `words`.\n",
    "\n",
    "By default, the `split()` function in Python will split strings on whitespace between consecutive words and it will return a list of words. However, we can pass an argument to `split()` that explicitly specifies the string we would like to split on. In the code block below, we will split a string on commas, instead of spaces. Do you get the syntax?"
   ]
  },
  {
   "cell_type": "code",
   "execution_count": null,
   "metadata": {
    "collapsed": false
   },
   "outputs": [],
   "source": [
    "fruitstring = \"banana,pear,apple\"\n",
    "fruitlist = fruitstring.split(\",\")\n",
    "print(fruitlist)"
   ]
  },
  {
   "cell_type": "markdown",
   "metadata": {},
   "source": [
    "The reverse of the `split()` function can be accomplished with `join()`, it turns a list into a string, with a specific 'delimiter' or the string you want to use to join the items."
   ]
  },
  {
   "cell_type": "code",
   "execution_count": 29,
   "metadata": {
    "collapsed": false
   },
   "outputs": [
    {
     "name": "stdout",
     "output_type": "stream",
     "text": [
      "banana,pear,apple\n"
     ]
    }
   ],
   "source": [
    "print(\",\".join(['banana', 'pear', 'apple']))"
   ]
  },
  {
   "cell_type": "markdown",
   "metadata": {},
   "source": [
    "The above four lines can be accomplished in a single line if code, can you figure out how? (Tip: replace all variables by their values)"
   ]
  },
  {
   "cell_type": "code",
   "execution_count": 32,
   "metadata": {
    "collapsed": false
   },
   "outputs": [
    {
     "name": "stdout",
     "output_type": "stream",
     "text": [
      "['', \"'s name is derived from the television series Monty \", \"'s Flying Circus.\"]\n"
     ]
    }
   ],
   "source": [
    "# insert your oneliner here!\n",
    "sentence = \"Python's name is derived from the television series Monty Python's Flying Circus.\"\n",
    "name = \"Bart\"\n",
    "words = sentence.split(\"Python\")\n",
    "print(words)\n",
    "# print(name.join(words))\n"
   ]
  },
  {
   "cell_type": "markdown",
   "metadata": {},
   "source": [
    "As you can see, as a delimiter we now used a string containing both a comma and a space, instead of just a comma. By using a different delimiter than the one we used to split the original string, we have basically implemented the same functionality as what you can achieve with a search and replace operation in e.g. Microsoft Word.\n",
    "\n",
    "However, Python also provides an easier solution."
   ]
  },
  {
   "cell_type": "markdown",
   "metadata": {},
   "source": [
    "### replace()"
   ]
  },
  {
   "cell_type": "markdown",
   "metadata": {},
   "source": [
    "The `replace()` function is a function which can be called on a string. It will replace all occurrences of a specified substring with another string. Consider the lines in the code block below - and mind the order in which you pass the arguments to the function!"
   ]
  },
  {
   "cell_type": "code",
   "execution_count": 34,
   "metadata": {
    "collapsed": false
   },
   "outputs": [
    {
     "name": "stdout",
     "output_type": "stream",
     "text": [
      "You can compare apples and apples\n"
     ]
    }
   ],
   "source": [
    "text = \"You can not compare apples and pears\"\n",
    "text = text.replace(\"pears\", \"apples\")\n",
    "text = text.replace(\"not \", \"\")\n",
    "print(text)"
   ]
  },
  {
   "cell_type": "markdown",
   "metadata": {},
   "source": [
    "## DIY"
   ]
  },
  {
   "cell_type": "code",
   "execution_count": 35,
   "metadata": {
    "collapsed": false
   },
   "outputs": [
    {
     "name": "stdout",
     "output_type": "stream",
     "text": [
      "Reserch hs shown tht it is often still possible to understnd text even if ll vowels re removed\n",
      "Rsrch hs shown tht it is oftn still possibl to undrstnd txt vn if ll vowls r rmovd\n",
      "Rsrch hs shown tht t s oftn stll possbl to undrstnd txt vn f ll vowls r rmovd\n",
      "Rsrch hs shwn tht t s ftn stll pssbl t undrstnd txt vn f ll vwls r rmvd\n",
      "Rsrch hs shwn tht t s ftn stll pssbl t ndrstnd txt vn f ll vwls r rmvd\n"
     ]
    }
   ],
   "source": [
    "text = \"Research has shown that it is often still possible to understand text even if all vowels are removed\"\n",
    "# insert your code here.. I suppose it's obvious what we want you to do ;-)\n",
    "text = text.replace(\"a\", \"\")\n",
    "print(text)\n",
    "text = text.replace(\"e\", \"\")\n",
    "print(text)\n",
    "text = text.replace(\"i\", \"\")\n",
    "print(text)\n",
    "text = text.replace(\"o\", \"\")\n",
    "print(text)\n",
    "text = text.replace(\"u\", \"\")\n",
    "print(text)"
   ]
  },
  {
   "cell_type": "markdown",
   "metadata": {},
   "source": [
    "Python also has functions for changing the case of a string. `lower()` converts a string to lowercase characters and `upper()` returns an uppercased version:"
   ]
  },
  {
   "cell_type": "code",
   "execution_count": 36,
   "metadata": {
    "collapsed": false
   },
   "outputs": [
    {
     "name": "stdout",
     "output_type": "stream",
     "text": [
      "AllCaps\n",
      "ALLCAPS\n",
      "allcaps\n",
      "Allcaps\n"
     ]
    }
   ],
   "source": [
    "my_string = \"AllCaps\"\n",
    "print(my_string)\n",
    "my_string_upper = my_string.upper()\n",
    "print(my_string_upper)\n",
    "my_string_lower = my_string.lower()\n",
    "print(my_string_lower)\n",
    "my_string_capped = my_string.capitalize()\n",
    "print(my_string_capped)"
   ]
  },
  {
   "cell_type": "markdown",
   "metadata": {},
   "source": [
    "## DIY"
   ]
  },
  {
   "cell_type": "markdown",
   "metadata": {},
   "source": [
    "-  Can you come up with your own sentence `my_sentence` and split it into words along spaces? Print the new list of words.\n",
    "-  Is there a difference in length between the variables `sentence` and `words`? (Use functions to find this out!)"
   ]
  },
  {
   "cell_type": "code",
   "execution_count": null,
   "metadata": {
    "collapsed": false
   },
   "outputs": [],
   "source": [
    "# your DIY code goes here..."
   ]
  },
  {
   "cell_type": "markdown",
   "metadata": {},
   "source": [
    "You can recognize functions because they are always followed by (round brackets). Apart from the `split()` function, we already encountered other functions, also in the previous chapter. Can you think of some and describe their functionality? Do you notice any differences in terms of syntax when you compare these to how `split()` is used?\n",
    "\n",
    "Answer: examples of other functions include `len()` and `print()`. Like `split()`, they can take arguments between the round brackets. In the case of `len()`, the argument is the object of which you want to know the length, for `print()` it can be any number of objects you want to print. The syntax of `split()` is different because it cannot be used as a standalone function. Instead it must always be called on a string object. It is attached to this object using dot notation: `string.split()`, so e.g.:\n",
    "* `\"a,b,c\".split(\",\")`\n",
    "* `variable_containing_a_string.split(\",\")`\n",
    "\n",
    "We call these object-specific functions *methods* (but we may continue to use the term *function* to refer to functions and methods alike). You cannot use `split()` on other types of objects, such as ints or lists. Other examples of string methods are `.lower()` and `.replace()`. Similarly, list methods are methods that can only be called on lists. One example is `.join()`."
   ]
  },
  {
   "cell_type": "markdown",
   "metadata": {},
   "source": [
    "---\n",
    "\n",
    "## Lists\n",
    "\n",
    "By introducing `split()` and `join()`, we have started using a new type of object: the *list*.\n",
    "\n",
    "In many ways, lists are very similar to strings. We can for example access its components using indexes and we can use slice indexes to access parts of the list. Let's try this out.\n",
    "\n",
    "Write a small program that defines a variable `first_word` and assign to it the first word of our word list `words` from above. Do the same for the fifth word, the last word and the penultimate word. Also, try to extract a slice from `words` and isolate the string of words between `derived` and `Flying` (the slice should not include `derived` and `Flying`). Also, make a slice of words that is identical to the title of the television series in `words`.   "
   ]
  },
  {
   "cell_type": "code",
   "execution_count": 57,
   "metadata": {
    "collapsed": false
   },
   "outputs": [
    {
     "name": "stdout",
     "output_type": "stream",
     "text": [
      "ite\n",
      "[\"Python's\", 'name', 'is', 'derived', 'from', 'the', 'television', 'series', 'Monty', \"Python's\", 'Flying', 'Circus.']\n",
      "Python's\n",
      "[\"Python's\", 'name', 'is', 'derived', 'from', 'the', 'television', 'series', 'Monty', \"Python's\"]\n"
     ]
    }
   ],
   "source": [
    "# insert your code here\n",
    "name = \"Mr. White\"\n",
    "print(name[6:])\n",
    "l = [1,2,3]\n",
    "l.append(4)\n",
    "\n",
    "words = sentence.split()\n",
    "print(words)\n",
    "first_word = words[0]\n",
    "print(first_word)\n",
    "slice = words[:10]\n",
    "print(slice)"
   ]
  },
  {
   "cell_type": "markdown",
   "metadata": {},
   "source": [
    "A `list` acts like some kind of container in which we can store all kinds of information. We can access a list using indexes and slices. We can also add new items to a list. For that you use the `append()` method. Let's see how that works. Say we want to keep a list of all our good reads. We first declare an empty list using square brackets. Next, we add some books to the list:"
   ]
  },
  {
   "cell_type": "code",
   "execution_count": 93,
   "metadata": {
    "collapsed": false
   },
   "outputs": [
    {
     "name": "stdout",
     "output_type": "stream",
     "text": [
      "['a', 'e', 'i', 'o', 'u']\n",
      "['aeiou']\n"
     ]
    }
   ],
   "source": [
    "# start with an empty list\n",
    "good_reads = [\"1984\", \"1985\"]\n",
    "list_of_vowels = [\"a\", \"e\", \"i\", \"o\", \"u\"]\n",
    "print(list_of_vowels)\n",
    "list_of_vowels = [\"aeiou\"]\n",
    "empty_list = list()\n",
    "print(list_of_vowels)\n",
    "\n",
    "# print(good_reads)\n",
    "# good_reads += \"The Hunger Games\"\n",
    "# print(good_reads)\n",
    "# # print(good_reads)\n",
    "# # good_reads.append([\"A Clockwork Orange\", \"1986\"])\n",
    "# # print(good_reads)"
   ]
  },
  {
   "cell_type": "markdown",
   "metadata": {},
   "source": [
    "As a reminder: do you get the syntax that goes with the `append()` method? The list we wish to append the item to goes first and we join `append()` to this list using a dot (`.`). In between the round brackets that go with the function name, we place the actual string that we wish to add to the list. We call such an input value an *argument* or a *parameter* that we *pass* to a function. Next, the function may return a *return value*, i.e. an object that we can print or assign to a variable (like in `books = \", \".join(good_reads)`, where the return value is a string).\n",
    "Make sure that you are familiar with this terminology because you will often come across such terms when you look for help online!\n",
    "\n",
    "Now, if for some reason we don't like a particular book anymore, we can replace it with a new book as follows, using the old book's index:"
   ]
  },
  {
   "cell_type": "code",
   "execution_count": 85,
   "metadata": {
    "collapsed": false
   },
   "outputs": [
    {
     "name": "stdout",
     "output_type": "stream",
     "text": [
      "['1984', '1985']\n",
      "1985\n",
      "['1984', 'Pride and Prejudice']\n"
     ]
    }
   ],
   "source": [
    "print(good_reads)\n",
    "print(good_reads[1])\n",
    "good_reads[1] = \"Pride and Prejudice\"\n",
    "print(good_reads)"
   ]
  },
  {
   "cell_type": "markdown",
   "metadata": {},
   "source": [
    "As you see, it is no problem to reset or update an individual item in a list. This is different, however, for strings. Run the following code in which we try to change a single character in a string. This will raise an error: this is your computer signalling that something is wrong. This is because `strings` (and some other types) are *immutable*. That means that they cannot be changed using the index, as opposed to `list`s which *are* mutable."
   ]
  },
  {
   "cell_type": "code",
   "execution_count": 82,
   "metadata": {
    "collapsed": false
   },
   "outputs": [
    {
     "name": "stdout",
     "output_type": "stream",
     "text": [
      "\"['B', 'o', 'l', 'l', 'y']\"\n",
      "Bolly\n",
      "['B', 'o', 'l', 'l', 'y']\n",
      "['B', 'o', 'X', 'l', 'y']\n",
      "BoXly\n"
     ]
    }
   ],
   "source": [
    "name = list(\"Bonny\")\n",
    "name\n",
    "name[2] = \"l\"\n",
    "name\n",
    "name[3] = \"l\"\n",
    "print(repr(str(name)))\n",
    "print(\"\".join(name))\n",
    "# name[2] = \"X\" # This would raise a TypeError\n",
    "list_chars = list(name)\n",
    "print(list_chars)\n",
    "list_chars[2] = \"X\"\n",
    "print(list_chars)\n",
    "delimiter = \"\"\n",
    "print(delimiter.join(list_chars))"
   ]
  },
  {
   "cell_type": "markdown",
   "metadata": {},
   "source": [
    "## DIY"
   ]
  },
  {
   "cell_type": "markdown",
   "metadata": {},
   "source": [
    "Here's another small DIY! Add two new titles to the list of `good_reads`. Then, try to change the title of the second book in our good reads collection:"
   ]
  },
  {
   "cell_type": "code",
   "execution_count": 98,
   "metadata": {
    "collapsed": false
   },
   "outputs": [
    {
     "name": "stdout",
     "output_type": "stream",
     "text": [
      "['1984', '1985', '1989', '1989', '1990', '1989', '1990', '1989', '1990']\n",
      "<class 'list'>\n",
      "['1984', '1985', '1989', '1989', '1990', '1989', '1990', '1989', '1990', '1989', '1990']\n"
     ]
    }
   ],
   "source": [
    "# insert your code here\n",
    "print(good_reads)\n",
    "print(type(good_reads))\n",
    "good_reads.append(\"1989\")\n",
    "good_reads.append(\"1990\")\n",
    "print(good_reads)"
   ]
  },
  {
   "cell_type": "markdown",
   "metadata": {},
   "source": [
    "Lists are a really powerful way of dealing with your data in Python. Let's explore some other ways in which we can manipulate lists."
   ]
  },
  {
   "cell_type": "markdown",
   "metadata": {},
   "source": [
    "#### remove()"
   ]
  },
  {
   "cell_type": "markdown",
   "metadata": {},
   "source": [
    "Let's assume our good reads collection has grown a lot and we would like to remove some of the books from the list. Python provides the function `remove()` that you can call on a list and which takes as argument the item we would like to remove."
   ]
  },
  {
   "cell_type": "code",
   "execution_count": 99,
   "metadata": {
    "collapsed": false
   },
   "outputs": [
    {
     "name": "stdout",
     "output_type": "stream",
     "text": [
      "['The Hunger Games', 'A Clockwork Orange', 'Pride and Prejudice', 'Water for Elephants', 'Illias', 'Water for Elephants', 'Water for Elephants']\n",
      "['The Hunger Games', 'A Clockwork Orange', 'Pride and Prejudice', 'Illias', 'Water for Elephants', 'Water for Elephants']\n",
      "['The Hunger Games', 'A Clockwork Orange', 'Pride and Prejudice', 'Illias', 'Water for Elephants']\n"
     ]
    }
   ],
   "source": [
    "good_reads = [\"The Hunger Games\", \"A Clockwork Orange\", \n",
    "             \"Pride and Prejudice\", \"Water for Elephants\", \"Illias\", \"Water for Elephants\", \"Water for Elephants\"]\n",
    "print(good_reads)\n",
    "good_reads.remove(\"Water for Elephants\")\n",
    "print(good_reads)\n",
    "good_reads.remove(\"Water for Elephants\")\n",
    "print(good_reads)"
   ]
  },
  {
   "cell_type": "markdown",
   "metadata": {},
   "source": [
    "If we try to remove a book that is not in our collection, Python raises an error to signal that something is wrong."
   ]
  },
  {
   "cell_type": "code",
   "execution_count": 100,
   "metadata": {
    "collapsed": false
   },
   "outputs": [
    {
     "ename": "ValueError",
     "evalue": "list.remove(x): x not in list",
     "output_type": "error",
     "traceback": [
      "\u001b[0;31m---------------------------------------------------------------------------\u001b[0m",
      "\u001b[0;31mValueError\u001b[0m                                Traceback (most recent call last)",
      "\u001b[0;32m<ipython-input-100-f865fe533407>\u001b[0m in \u001b[0;36m<module>\u001b[0;34m()\u001b[0m\n\u001b[0;32m----> 1\u001b[0;31m \u001b[0mgood_reads\u001b[0m\u001b[0;34m.\u001b[0m\u001b[0mremove\u001b[0m\u001b[0;34m(\u001b[0m\u001b[0;34m\"White Oleander\"\u001b[0m\u001b[0;34m)\u001b[0m\u001b[0;34m\u001b[0m\u001b[0m\n\u001b[0m",
      "\u001b[0;31mValueError\u001b[0m: list.remove(x): x not in list"
     ]
    }
   ],
   "source": [
    "good_reads.remove(\"White Oleander\")"
   ]
  },
  {
   "cell_type": "markdown",
   "metadata": {},
   "source": [
    "Note, however, that `remove()` will only delete the *first* item in the list that is identical to the argument which you passed to the function. Execute the code in the block below and you will see that only the first instance of \"Pride and Prejudice\" gets deleted."
   ]
  },
  {
   "cell_type": "code",
   "execution_count": null,
   "metadata": {
    "collapsed": false
   },
   "outputs": [],
   "source": [
    "good_reads = [\"The Hunger Games\", \"A Clockwork Orange\", \n",
    "             \"Pride and Prejudice\", \"Water for Elephants\", \"Pride and Prejudice\"]\n",
    "good_reads.remove(\"Pride and Prejudice\")\n",
    "print(good_reads)"
   ]
  },
  {
   "cell_type": "markdown",
   "metadata": {},
   "source": [
    "Just as with strings, we can concatenate two lists using the `+` operator. Here is an example:"
   ]
  },
  {
   "cell_type": "code",
   "execution_count": 101,
   "metadata": {
    "collapsed": false
   },
   "outputs": [
    {
     "name": "stdout",
     "output_type": "stream",
     "text": [
      "['A Clockwork Orange', 'Pride and Prejudice', 'Water for Elephants', 'The Shadow of the Wind', 'Bel Canto', 'Fifty Shades of Grey', 'Twilight', 'The Hunger Games']\n",
      "['A Clockwork Orange', 'Pride and Prejudice', 'Water for Elephants', 'The Shadow of the Wind', 'Bel Canto', 'Fifty Shades of Grey', 'Twilight', 'The Hunger Games']\n"
     ]
    }
   ],
   "source": [
    "# first we specify two lists of strings:\n",
    "good_reads = [\"A Clockwork Orange\", \n",
    "              \"Pride and Prejudice\", \"Water for Elephants\",\n",
    "              \"The Shadow of the Wind\", \"Bel Canto\"]\n",
    "bad_reads = [\"Fifty Shades of Grey\", \"Twilight\", \"The Hunger Games\"]\n",
    "\n",
    "# then we combine them\n",
    "all_reads = good_reads + bad_reads\n",
    "print(all_reads)\n",
    "\n",
    "good_reads += bad_reads\n",
    "print(good_reads)"
   ]
  },
  {
   "cell_type": "markdown",
   "metadata": {},
   "source": [
    "#### sort() and sorted()"
   ]
  },
  {
   "cell_type": "markdown",
   "metadata": {},
   "source": [
    "It is always nice to organise your bookshelf. We can sort our collection alphabetically with the following expressions:"
   ]
  },
  {
   "cell_type": "code",
   "execution_count": 104,
   "metadata": {
    "collapsed": false
   },
   "outputs": [
    {
     "name": "stdout",
     "output_type": "stream",
     "text": [
      "['A Clockwork Orange', 'Bel Canto', 'Fifty Shades of Grey', 'Pride and Prejudice', 'The Hunger Games', 'The Shadow of the Wind', 'Twilight', 'Water for Elephants']\n",
      "['A Clockwork Orange', 'Bel Canto', 'Fifty Shades of Grey', 'Pride and Prejudice', 'The Hunger Games', 'The Shadow of the Wind', 'Twilight', 'Water for Elephants']\n",
      "['Water for Elephants', 'Twilight', 'The Shadow of the Wind', 'The Hunger Games', 'Pride and Prejudice', 'Fifty Shades of Grey', 'Bel Canto', 'A Clockwork Orange']\n"
     ]
    }
   ],
   "source": [
    "sorted_reads = sorted(good_reads)\n",
    "print(good_reads)\n",
    "print(sorted_reads)\n",
    "\n",
    "good_reads.reverse()\n",
    "print(good_reads)"
   ]
  },
  {
   "cell_type": "markdown",
   "metadata": {},
   "source": [
    "Can you spot the difference between `sort()` and `sorted()`?\n",
    "* `sorted()` is a function that can take an object (typically a list, but it works on strings too) and returns the sorted version, which you can assign to a variable. This does not change the original list!\n",
    "* `.sort()` is a list method. It does not return anything; instead, it sorts the list in-place (altering it). There is no need for assigning to a new variable. In fact, if you do, this new variable will contain `None` (since `.sort()` does not return anything). Don't worry if this confuses you - it is confusing at first. If you run into bugs in the future, just remember that it may be caused by this difference in behaviour."
   ]
  },
  {
   "cell_type": "markdown",
   "metadata": {},
   "source": [
    "#### nested lists"
   ]
  },
  {
   "cell_type": "markdown",
   "metadata": {},
   "source": [
    "Until now, our lists only consisted of strings. However, a list can contain all kinds of data types, such as integers and even lists! Do you understand what is happening in the following example? Have a close look at the square brackets used."
   ]
  },
  {
   "cell_type": "code",
   "execution_count": 111,
   "metadata": {
    "collapsed": false
   },
   "outputs": [
    {
     "name": "stdout",
     "output_type": "stream",
     "text": [
      "[1, 2, 3, 4, [5, 6, 7]]\n",
      "[1, 2, 3, 4, [5, 6, 7], 'string']\n"
     ]
    }
   ],
   "source": [
    "nested_list = [[1, 2, 3, 4], [5, 6, 7, 8]]\n",
    "\n",
    "l = [1,2,3,4]\n",
    "sublist = [5,6,7]\n",
    "l.append(sublist)\n",
    "print(l)\n",
    "l.append(\"string\")\n",
    "print(l)\n",
    "\n",
    "# print(nested_list[0])\n",
    "# print(nested_list[0][2])\n",
    "# print(nested_list[1][2])\n",
    "# print(nested_list[0][2])"
   ]
  },
  {
   "cell_type": "markdown",
   "metadata": {},
   "source": [
    "We can put this to use to enhance our good reads collection with a score for every book we have. An entry in our collection will consist of a score within the range of `1` to `10` and the title of our book. The first element is the title, the second the score: `[title, score]`. We initialize an empty list, and add two books to it:"
   ]
  },
  {
   "cell_type": "code",
   "execution_count": 112,
   "metadata": {
    "collapsed": false
   },
   "outputs": [
    {
     "name": "stdout",
     "output_type": "stream",
     "text": [
      "[['Pride and Prejudice', 8], ['A Clockwork Orange', 9]]\n"
     ]
    }
   ],
   "source": [
    "good_reads = []\n",
    "good_reads.append([\"Pride and Prejudice\", 8])\n",
    "good_reads.append([\"A Clockwork Orange\", 9])\n",
    "print(good_reads)"
   ]
  },
  {
   "cell_type": "markdown",
   "metadata": {},
   "source": [
    "## DIY"
   ]
  },
  {
   "cell_type": "markdown",
   "metadata": {},
   "source": [
    "Update the `good_reads` collection with some of your own books and give them all a score and a publication year by nesting lists. Can you print out the score you gave to the first book in the list? And the publication year of the third item in your list? (Hint: you can pile up indexes using square brackets!)"
   ]
  },
  {
   "cell_type": "code",
   "execution_count": 117,
   "metadata": {
    "collapsed": false
   },
   "outputs": [
    {
     "name": "stdout",
     "output_type": "stream",
     "text": [
      "[['Pride and Prejudice', 8, 1884], ['A Clockwork Orange', 9, 8909], ['Pride and Prejudice', 8, 1884], ['A Clockwork Orange', 9, 9080], ['Pride and Prejudice', 8, 1884], ['A Clockwork Orange', 9, 9080], ['Pride and Prejudice', 8, 1884], ['A Clockwork Orange', 9, 9080]]\n",
      "8\n"
     ]
    }
   ],
   "source": [
    "# insert your code here\n",
    "# print(good_reads)\n",
    "# # good_reads[0].append(1884)\n",
    "# good_reads[1].append(8909)\n",
    "# print(good_reads)\n",
    "good_reads.append([\"Pride and Prejudice\", 8, 1884])\n",
    "good_reads.append([\"A Clockwork Orange\", 9, 9080])\n",
    "print(good_reads)\n",
    "print(good_reads[2][1])"
   ]
  },
  {
   "cell_type": "markdown",
   "metadata": {},
   "source": [
    "##### What we have learnt"
   ]
  },
  {
   "cell_type": "markdown",
   "metadata": {},
   "source": [
    "To finish this section, here is an overview of the new concepts you have learnt. Go through them and make sure you understand them all.\n",
    "\n",
    "- function syntax \n",
    "- lists\n",
    "- nested lists\n",
    "- *mutable* versus *immutable*\n",
    "- `.split()` vs. `.join()`\n",
    "- `.append()`\n",
    "- `.remove()`\n",
    "- `.sort()`\n",
    "- `.upper()` vs. `.lower()`"
   ]
  },
  {
   "cell_type": "markdown",
   "metadata": {},
   "source": [
    "-------------"
   ]
  },
  {
   "cell_type": "markdown",
   "metadata": {},
   "source": [
    "## Dictionaries"
   ]
  },
  {
   "cell_type": "markdown",
   "metadata": {},
   "source": [
    "Our little good reads collection is starting to look quite impressive and we can perform all kinds of manipulations on it. Now, imagine that our list is large and we would like to look up the score we gave to a particular book. How are we going to find that book? For this purpose Python provides another more appropriate data structure, named `dictionary`, or `dict` for short. A `dictionary` is similar to the dictionaries you have at home. It consists of entries, or *keys*, that hold a value. Let's define one:"
   ]
  },
  {
   "cell_type": "code",
   "execution_count": null,
   "metadata": {
    "collapsed": false
   },
   "outputs": [],
   "source": [
    "my_dict = {\"book\": \"physical objects consisting of a number of pages bound together\",\n",
    "           \"sword\": \"a cutting or thrusting weapon that has a long metal blade\"}\n",
    "print(my_dict)"
   ]
  },
  {
   "cell_type": "markdown",
   "metadata": {},
   "source": [
    "Take a close look at the new syntax. Notice the curly brackets and the colons.\n",
    "\n",
    "You can define an empty dictionary with `my_dict = {}` or `my_dict = dict()`.\n",
    "\n",
    "To look up the value of a given key, we *index* the dictionary using that key (again, between square brackets):"
   ]
  },
  {
   "cell_type": "code",
   "execution_count": null,
   "metadata": {
    "collapsed": false
   },
   "outputs": [],
   "source": [
    "description = my_dict[\"sword\"]\n",
    "print(description)"
   ]
  },
  {
   "cell_type": "markdown",
   "metadata": {},
   "source": [
    "We can also add new entries, or update existing ones:"
   ]
  },
  {
   "cell_type": "code",
   "execution_count": null,
   "metadata": {
    "collapsed": false
   },
   "outputs": [],
   "source": [
    "my_dict[\"pie\"] = \"dish baked in pastry-lined pan often with a pastry top\"\n",
    "print(my_dict)\n",
    "my_dict[\"sword\"] = \"a pointy metal stick\"\n",
    "print(my_dict)"
   ]
  },
  {
   "cell_type": "markdown",
   "metadata": {},
   "source": [
    "Like lists, dictionaries are mutable which means we can add and remove entries from it. Let's define an empty dictionary and add some books to it. The titles will be our keys and the scores their values."
   ]
  },
  {
   "cell_type": "code",
   "execution_count": null,
   "metadata": {
    "collapsed": false
   },
   "outputs": [],
   "source": [
    "good_reads = {}\n",
    "good_reads[\"Pride and Prejudice\"] = 8\n",
    "good_reads[\"A Clockwork Orange\"] = 9\n",
    "print(good_reads[\"Pride and Prejudice\"])"
   ]
  },
  {
   "cell_type": "markdown",
   "metadata": {},
   "source": [
    "In a way, this is similar to what we have seen before when we altered our book `list`. There we indexed the list using a integer to access a particular book. Here we directly use the title of the book. Note that the keys in a dictionary must be unique: why would that be?"
   ]
  },
  {
   "cell_type": "markdown",
   "metadata": {},
   "source": [
    "## DIY"
   ]
  },
  {
   "cell_type": "markdown",
   "metadata": {},
   "source": [
    "Update the new good reads data structure with your own books. Try to print out the score you gave for one of the books which you added."
   ]
  },
  {
   "cell_type": "code",
   "execution_count": null,
   "metadata": {
    "collapsed": false
   },
   "outputs": [],
   "source": [
    "# put your code here"
   ]
  },
  {
   "cell_type": "markdown",
   "metadata": {},
   "source": [
    "#### keys(), values()"
   ]
  },
  {
   "cell_type": "markdown",
   "metadata": {},
   "source": [
    "To retrieve a list of all the books we have in our collection, we can ask the dictionary to return its keys as a list:"
   ]
  },
  {
   "cell_type": "code",
   "execution_count": null,
   "metadata": {
    "collapsed": false
   },
   "outputs": [],
   "source": [
    "keys = good_reads.keys()\n",
    "print(keys) # You can see that the dictionary method .keys() does not really return a list\n",
    "keys = list(keys) # But we can cast the dict_keys object as a list\n",
    "print(keys)"
   ]
  },
  {
   "cell_type": "markdown",
   "metadata": {},
   "source": [
    "Similarly we can ask for the values:"
   ]
  },
  {
   "cell_type": "code",
   "execution_count": null,
   "metadata": {
    "collapsed": false
   },
   "outputs": [],
   "source": [
    "print(list(good_reads.values()))"
   ]
  },
  {
   "cell_type": "markdown",
   "metadata": {},
   "source": [
    "An important property of dictionaries that you should keep in mind, is that they have no concept of order. Unlike lists, which remember the order of the elements it contains, **dictionaries are unordered**. The reason for this is mainly technical (it makes dictionary lookup much much faster), and in practice it does not usually matter (because you will typically look up things in the dictionary instead of reading it from beginning to end). Just keep it in mind when you use the `.keys()` and `.values()` methods: the order in which they present the results is semi-random."
   ]
  },
  {
   "cell_type": "markdown",
   "metadata": {},
   "source": [
    "##### What we have learnt"
   ]
  },
  {
   "cell_type": "markdown",
   "metadata": {},
   "source": [
    "To finish this section, here is an overview of the new concepts and functions you have learnt. Make sure you understand them all.\n",
    "\n",
    "-  dictionary\n",
    "-  indexing dictionaries and accessing values through their keys\n",
    "-  adding items to a dictionary\n",
    "-  `.keys()`\n",
    "-  `.values()`\n",
    "\n",
    "------------------------------------"
   ]
  },
  {
   "cell_type": "markdown",
   "metadata": {},
   "source": [
    "## Final Exercises Chapter 2"
   ]
  },
  {
   "cell_type": "markdown",
   "metadata": {},
   "source": [
    "Inspired by *Think Python* by Allen B. Downey (http://thinkpython.com), *Introduction to Programming Using Python* by Y. Liang (Pearson, 2013). Some exercises below have been taken from: http://www.ling.gu.se/~lager/python_exercises.html."
   ]
  },
  {
   "cell_type": "markdown",
   "metadata": {},
   "source": [
    "- Ex. 1: Consider the strings `sentence1 = \"Brad and Angelina kick the bucket\"` and `sentence2 = \"Bonny and Clyde are really famous\"`. Split these strings into words and create the following strings via list manipulation: `sentence3 = \"Brad and Angelina are really famous\"` and `sentence4=\"Bonny+and+Clyde+kick+the+bucket\"` (mind the plus signs!). Can you print the middle letter of the fourth sentence?"
   ]
  },
  {
   "cell_type": "code",
   "execution_count": null,
   "metadata": {
    "collapsed": false
   },
   "outputs": [],
   "source": [
    "# sentences"
   ]
  },
  {
   "cell_type": "markdown",
   "metadata": {},
   "source": [
    "-  Ex. 2: Consider the `lookup` dictionary below. The following letters are still missing from it: `'k':'kilo', 'l':'lima', 'm':'mike'`. Add them to `lookup` one by one! Could you spell the word \"marvellous\" in code language now? Collect these codes into a list object called `msg`. Next, join the items in this list together with a comma and print the spelled out version!"
   ]
  },
  {
   "cell_type": "code",
   "execution_count": null,
   "metadata": {
    "collapsed": false
   },
   "outputs": [],
   "source": [
    "# lookup code\n",
    "lookup = {'a':'alfa', 'b':'bravo', 'c':'charlie', 'd':'delta', 'e':'echo',\n",
    "          'f':'foxtrot', 'g':'golf', 'h':'hotel', 'i':'india', 'j':'juliett',\n",
    "          'n':'november', 'o':'oscar', 'p':'papa', 'q':'quebec', 'r':'romeo',\n",
    "          's':'sierra', 't':'tango', 'u':'uniform', 'v':'victor', 'w':'whiskey',\n",
    "          'x':'x-ray', 'y':'yankee', 'z':'zulu'} # Don't change this line"
   ]
  },
  {
   "cell_type": "markdown",
   "metadata": {},
   "source": [
    "-  Ex. 3: Collect the code terms in the lookup dict (`alpha`, `bravo`, ...) from the previous exercise into a list called `code_words`. Is this list alphabetically sorted? No? Then make sure that this list is sorted alphabetically. Now remove the items `victor`, `india` and `papa`. Append the words `pigeon` and `potato` at the end of this list. Combine this new list of items into a single string, using a semicolon as a delimiter and print this string. "
   ]
  },
  {
   "cell_type": "code",
   "execution_count": null,
   "metadata": {
    "collapsed": false
   },
   "outputs": [],
   "source": [
    "# follow-up lookup code"
   ]
  },
  {
   "cell_type": "markdown",
   "metadata": {},
   "source": [
    "-----------------------------------------------------------------\n",
    "\n",
    "You've reached the end of Chapter 2! Ignore the code block below -- it's only there to make the page prettier."
   ]
  },
  {
   "cell_type": "code",
   "execution_count": null,
   "metadata": {
    "collapsed": false
   },
   "outputs": [],
   "source": [
    "from IPython.core.display import HTML\n",
    "def css_styling():\n",
    "    styles = open(\"styles/custom.css\", \"r\").read()\n",
    "    return HTML(styles)\n",
    "css_styling()"
   ]
  }
 ],
 "metadata": {
  "kernelspec": {
   "display_name": "Python 3",
   "language": "python",
   "name": "python3"
  },
  "language_info": {
   "codemirror_mode": {
    "name": "ipython",
    "version": 3
   },
   "file_extension": ".py",
   "mimetype": "text/x-python",
   "name": "python",
   "nbconvert_exporter": "python",
   "pygments_lexer": "ipython3",
   "version": "3.5.2"
  }
 },
 "nbformat": 4,
 "nbformat_minor": 0
}
