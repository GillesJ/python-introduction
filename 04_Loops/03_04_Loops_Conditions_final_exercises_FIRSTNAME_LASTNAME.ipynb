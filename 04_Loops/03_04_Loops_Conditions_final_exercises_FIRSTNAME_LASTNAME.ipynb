{
 "cells": [
  {
   "cell_type": "markdown",
   "metadata": {},
   "source": [
    "# Chapter 3: Conditions"
   ]
  },
  {
   "cell_type": "markdown",
   "metadata": {},
   "source": [
    "## Final Exercises Chapter 3"
   ]
  },
  {
   "cell_type": "markdown",
   "metadata": {},
   "source": [
    "Inspired by *Think Python* by Allen B. Downey (http://thinkpython.com), *Introduction to Programming Using Python* by Y. Liang (Pearson, 2013). Some exercises below have been taken from: http://www.ling.gu.se/~lager/python_exercises.html."
   ]
  },
  {
   "cell_type": "markdown",
   "metadata": {},
   "source": [
    "- Ex. 1: Write a grading application for teachers. You start with an input field where the teachers have to fill in the score. The score has to be an integer between 0 and 20 (no .5 or letters are allowed). If they fill in something different, they should receive a warning message. After this, the program will render (print) the score as 'D' (less than 10/20), 'C' (higher than 10), 'B' (higher than 13) or 'A' (higher than 16). "
   ]
  },
  {
   "cell_type": "code",
   "execution_count": null,
   "metadata": {
    "collapsed": true
   },
   "outputs": [],
   "source": [
    "# grading system\n",
    "score = input(\"score \")"
   ]
  },
  {
   "cell_type": "markdown",
   "metadata": {},
   "source": [
    "-  Ex. 2: Can you spot the reasoning error in the following code?"
   ]
  },
  {
   "cell_type": "code",
   "execution_count": null,
   "metadata": {
    "collapsed": true
   },
   "outputs": [],
   "source": [
    "score = 98.0\n",
    "if score >= 60.0:\n",
    "    grade = 'D'\n",
    "elif score >= 70.0:\n",
    "    grade = 'C'\n",
    "elif score >= 80.0:\n",
    "    grade = 'B'\n",
    "elif score >= 90.0:\n",
    "    grade = 'A'\n",
    "else:\n",
    "    grade = 'F'\n",
    "print(grade)"
   ]
  },
  {
   "cell_type": "markdown",
   "metadata": {},
   "source": [
    "- Ex. 3: Write a script that generates a personal title in English. When the addressee is a male person, we will use \"Mr.\", when it is a young girl \"Miss\", when it is a married woman \"Mrs.\" plus the name of her husband, and when the marital status is unknown or we think that a neutral title is better, \"Ms.\"."
   ]
  },
  {
   "cell_type": "code",
   "execution_count": null,
   "metadata": {
    "collapsed": true
   },
   "outputs": [],
   "source": [
    "name = \"\"\n",
    "name_partner = \"\"\n",
    "gender = \"\" # Choose between M and F\n",
    "status = \"\" #choose between 'young', 'unknown', 'neutral' or 'married'"
   ]
  },
  {
   "cell_type": "markdown",
   "metadata": {},
   "source": [
    "---"
   ]
  },
  {
   "cell_type": "markdown",
   "metadata": {},
   "source": [
    "Congrats: you've reached the end of Chapter 3! Ignore the code block below; it's only here to make the page prettier."
   ]
  },
  {
   "cell_type": "code",
   "execution_count": null,
   "metadata": {
    "collapsed": true
   },
   "outputs": [],
   "source": [
    "from IPython.core.display import HTML\n",
    "def css_styling():\n",
    "    styles = open(\"styles/custom.css\", \"r\").read()\n",
    "    return HTML(styles)\n",
    "css_styling()"
   ]
  },
  {
   "cell_type": "markdown",
   "metadata": {},
   "source": [
    "# Chapter 4: Loops"
   ]
  },
  {
   "cell_type": "markdown",
   "metadata": {},
   "source": [
    "## Final Exercises Chapter 4"
   ]
  },
  {
   "cell_type": "markdown",
   "metadata": {},
   "source": [
    "Inspired by *Think Python* by Allen B. Downey (http://thinkpython.com), *Introduction to Programming Using Python* by Y. Liang (Pearson, 2013). Some exercises below have been taken from: http://www.ling.gu.se/~lager/python_exercises.html."
   ]
  },
  {
   "cell_type": "markdown",
   "metadata": {},
   "source": [
    "-  Ex. 1: Lowercase `sentence` and split it into words along whitespace. Now fill a dictionary that holds the frequency (value) for each word (key) in the sentence. You should first check whether a word is already present in your dictionary. If it is, update its frequency. Else, you should first initialize its frequency."
   ]
  },
  {
   "cell_type": "code",
   "execution_count": null,
   "metadata": {
    "collapsed": true
   },
   "outputs": [],
   "source": [
    "sentence = \"Si six scies scient six cyprès , six cent six scies scient six cent six cyprès .\" * 1000\n",
    "# fill dictionary code\n",
    "words = sentence.lower().split()\n",
    "# print(words)\n",
    "freq_dict = {}\n",
    "for word in words:\n",
    "    if word not in freq_dict:\n",
    "        freq_dict[word] += 1\n",
    "    else:\n",
    "        freq_dict[word] = 1\n",
    "#     freq_dict[word] = words.count(word)\n",
    "print(freq_dict)"
   ]
  },
  {
   "cell_type": "markdown",
   "metadata": {},
   "source": [
    "-  Ex. 2: By now, you already know that Python has the `len()` function built-in, but can you write a code block yourself that prints the length of the string `lengthy_word`? Use a `for` loop, but don't use the `len()` function!"
   ]
  },
  {
   "cell_type": "code",
   "execution_count": null,
   "metadata": {
    "collapsed": true
   },
   "outputs": [],
   "source": [
    "lengthy_word = \"supercalifragilisticexpialidocious\"\n",
    "# lengthy word (1) code"
   ]
  },
  {
   "cell_type": "markdown",
   "metadata": {},
   "source": [
    "- Ex. 3: Have another look at the string variable `lenghty_word` that you defined in the previous exercise. Can you write a code block that fills a dictionary `char_freqs` containing the frequency of the different individual characters in `lengthy_word`?"
   ]
  },
  {
   "cell_type": "code",
   "execution_count": null,
   "metadata": {
    "collapsed": true
   },
   "outputs": [],
   "source": [
    "# lengty_word (2) code"
   ]
  },
  {
   "cell_type": "markdown",
   "metadata": {},
   "source": [
    "- Ex. 4: Write a code block that defines a list of integers and prints them as a histogram to the screen. For example, for `histogram = [4, 9, 7, 2, 16, 8, 3]`, the code should print the following:\n",
    "\n",
    "`++++\n",
    "+++++++++\n",
    "+++++++\n",
    "++\n",
    "++++++++++++++++\n",
    "++++++++\n",
    "+++`"
   ]
  },
  {
   "cell_type": "code",
   "execution_count": null,
   "metadata": {
    "collapsed": true
   },
   "outputs": [],
   "source": [
    "# histogram"
   ]
  },
  {
   "cell_type": "markdown",
   "metadata": {},
   "source": [
    "- Ex. 5: \"99 Bottles of Beer\" is a traditional song in the United States and Canada. It is popular to sing on long trips, as it has a very repetitive format which is easy to memorize, and can take a long time to sing. The song's simple lyrics are as follows: \"99 bottles of beer on the wall, 99 bottles of beer. Take one down, pass it around, 98 bottles of beer on the wall.\" The same verse is repeated, each time with one fewer bottle. The song is completed when the singer or singers reach zero. Your task here is to write a Python code block capable of generating all the verses of the song. Use a `counter` integer variable and a `while` loop. Make sure that your loop will come to an end and that the inflection of the word bottle is adapted to the counter!\n"
   ]
  },
  {
   "cell_type": "code",
   "execution_count": null,
   "metadata": {
    "collapsed": true
   },
   "outputs": [],
   "source": [
    "# bottles of beer"
   ]
  },
  {
   "cell_type": "markdown",
   "metadata": {},
   "source": [
    "- Ex. 6: The third person singular verb form in English is distinguished by the suffix -s, which is added to the stem of the infinitive form: run -> runs. A simple set of rules can be given as follows: \"If the verb ends in y, remove it and add ies. If the verb ends in o, ch, s, sh, x or z, add es. By default just add s.\" Your task in this exercise is to write a code block which given a verb in infinitive form, prints its third person singular form. Test your function with words like \"try\", \"brush\", \"run\" and \"fix\". Can you think of verbs for which your code doesn't work? Check out the string method `.endswith()` online!\n"
   ]
  },
  {
   "cell_type": "code",
   "execution_count": null,
   "metadata": {
    "collapsed": true
   },
   "outputs": [],
   "source": [
    "# verbs code"
   ]
  },
  {
   "cell_type": "markdown",
   "metadata": {},
   "source": [
    "- Ex. 7: ROT13, or Caesar cipher, is a way to encode secret messages in cryptography. The name comes from Julius Caesar, who used it to communicate with his generals. ROT13 (\"rotate by 13 places\") is a widely used example of a Caesar cipher. The idea is to rotate or augment the position of each character in the alphabet with thirteen places, wrapping back to the beginning if necessary. Because the alphabet has 26 characters, the encryption is symmetric: you can map the first 13 to the last 13, and the last 13 to the first 13. Your task in this exercise is to implement an encoder/decoder of ROT13. For this, you will need to create a list containing each letter in the (lowercase) roman alphabet. Next, you create a `rot13_dict` that maps each character to its corresponding letter 13 letters up or down the alphabet. Any character that is not in the alphabet (such as spaces and punctuation marks) should be left as-is. Once you're done, you will be able to read the following secret message: `\"Pnrfne pvcure? V zhpu cersre Pnrfne fnynq!\"` (Hint: you can use `.index()` to retrieve the position of an item in a list)"
   ]
  },
  {
   "cell_type": "code",
   "execution_count": null,
   "metadata": {
    "collapsed": true
   },
   "outputs": [],
   "source": [
    "# Caesar code"
   ]
  },
  {
   "cell_type": "markdown",
   "metadata": {},
   "source": [
    "---"
   ]
  },
  {
   "cell_type": "markdown",
   "metadata": {},
   "source": [
    "Congrats: you've reached the end of Chapter 4! Ignore the code block below; it's only here to make the page prettier."
   ]
  },
  {
   "cell_type": "code",
   "execution_count": null,
   "metadata": {
    "collapsed": true
   },
   "outputs": [],
   "source": [
    "from IPython.core.display import HTML\n",
    "def css_styling():\n",
    "    styles = open(\"styles/custom.css\", \"r\").read()\n",
    "    return HTML(styles)\n",
    "css_styling()"
   ]
  }
 ],
 "metadata": {
  "kernelspec": {
   "display_name": "Python 3",
   "language": "python",
   "name": "python3"
  },
  "language_info": {
   "codemirror_mode": {
    "name": "ipython",
    "version": 3
   },
   "file_extension": ".py",
   "mimetype": "text/x-python",
   "name": "python",
   "nbconvert_exporter": "python",
   "pygments_lexer": "ipython3",
   "version": "3.6.1"
  },
  "name": "_joined"
 },
 "nbformat": 4,
 "nbformat_minor": 1
}
