{
 "cells": [
  {
   "cell_type": "markdown",
   "metadata": {},
   "source": [
    "# Chapter 3: Conditions"
   ]
  },
  {
   "cell_type": "markdown",
   "metadata": {},
   "source": [
    "## Final Exercises Chapter 3"
   ]
  },
  {
   "cell_type": "markdown",
   "metadata": {},
   "source": [
    "Inspired by *Think Python* by Allen B. Downey (http://thinkpython.com), *Introduction to Programming Using Python* by Y. Liang (Pearson, 2013). Some exercises below have been taken from: http://www.ling.gu.se/~lager/python_exercises.html."
   ]
  },
  {
   "cell_type": "markdown",
   "metadata": {},
   "source": [
    "- Ex. 1: Write a grading application for teachers. You start with an input field where the teachers have to fill in the score. The score has to be an integer between 0 and 20 (no .5 or letters are allowed). If they fill in something different, they should receive a warning message. After this, the program will render (print) the score as 'D' (less than 10/20), 'C' (higher than 10), 'B' (higher than 13) or 'A' (higher than 16). "
   ]
  },
  {
   "cell_type": "code",
   "execution_count": 4,
   "metadata": {},
   "outputs": [
    {
     "name": "stdout",
     "output_type": "stream",
     "text": [
      "Enter a score between 0 and 20 without decimals: 18\n",
      "The result is A.\n"
     ]
    }
   ],
   "source": [
    "#GRADED\n",
    "# grading system\n",
    "score = int(input(\"Enter a score between 0 and 20 without decimals: \"))\n",
    "\n",
    "if score <0 or score >20:\n",
    "    print('Oops, you did not enter a number between 0 and 20 without decimals. Try again.')\n",
    "if score >0 and score < 21:\n",
    "    if score<10:\n",
    "        result = 'D'   \n",
    "    elif score>=10 and score <=13: #ik zet 10 hier bij, anders is er geen score aan 10 toegekend\n",
    "        result = 'C'   \n",
    "    elif score>13 and score <=16:\n",
    "       result = 'B'    \n",
    "    else:\n",
    "        result = 'A'\n",
    "    print('The result is ' + result + '.')"
   ]
  },
  {
   "cell_type": "markdown",
   "metadata": {},
   "source": [
    "-  Ex. 2: Can you spot the reasoning error in the following code?"
   ]
  },
  {
   "cell_type": "code",
   "execution_count": null,
   "metadata": {
    "collapsed": true
   },
   "outputs": [],
   "source": [
    "#GRADED\n",
    "\n",
    "#the first if statement evaluates to true and therefor the others aren't checked\n",
    "\n",
    "score = 98.0\n",
    "if score >= 60.0: \n",
    "    grade = 'D'\n",
    "elif score >= 70.0:\n",
    "    grade = 'C'\n",
    "elif score >= 80.0:\n",
    "    grade = 'B'\n",
    "elif score >= 90.0:\n",
    "    grade = 'A'\n",
    "else:\n",
    "    grade = 'F'\n",
    "print(grade)\n",
    "\n",
    "#a solution would be do add an 'and' everywhere\n",
    "\n",
    "score_corrected = 98\n",
    "if score_corrected >= 60.0 and score_corrected<70: \n",
    "    grade = 'D'\n",
    "elif score_corrected >= 70.0 and score_corrected<80:\n",
    "    grade = 'C'\n",
    "elif score_corrected >= 80.0 and score_corrected<90:\n",
    "    grade = 'B'\n",
    "elif score_corrected >= 90.0:\n",
    "    grade = 'A'\n",
    "else:\n",
    "    grade = 'F'\n",
    "print(\"Corrected: \" + grade)"
   ]
  },
  {
   "cell_type": "markdown",
   "metadata": {},
   "source": [
    "- Ex. 3: Write a script that generates a personal title in English. When the addressee is a male person, we will use \"Mr.\", when it is a young girl \"Miss\", when it is a married woman \"Mrs.\" plus the name of her husband, and when the marital status is unknown or we think that a neutral title is better, \"Ms.\"."
   ]
  },
  {
   "cell_type": "code",
   "execution_count": 5,
   "metadata": {},
   "outputs": [
    {
     "name": "stdout",
     "output_type": "stream",
     "text": [
      "Miss Smit\n"
     ]
    }
   ],
   "source": [
    "#GRADED\n",
    "\n",
    "name = \"Smit\"\n",
    "name_partner = \"Bekaert\"\n",
    "gender = \"F\" # Choose between M and F\n",
    "status = \"young\" #choose between 'young', 'unknown', 'neutral' or 'married'\n",
    "\n",
    "if gender == \"M\":\n",
    "    print(\"Mr. \" + name)\n",
    "elif gender == \"F\":\n",
    "    if status == \"young\":\n",
    "        print(\"Miss \" + name)\n",
    "    if status == \"married\":\n",
    "        print(\"Mrs. \" + name_partner)\n",
    "    if status != \"married\" and status != \"young\":\n",
    "        print(\"Ms. \" + name)\n",
    "   "
   ]
  },
  {
   "cell_type": "markdown",
   "metadata": {},
   "source": [
    "---"
   ]
  },
  {
   "cell_type": "markdown",
   "metadata": {},
   "source": [
    "Congrats: you've reached the end of Chapter 3! Ignore the code block below; it's only here to make the page prettier."
   ]
  },
  {
   "cell_type": "code",
   "execution_count": null,
   "metadata": {
    "collapsed": true
   },
   "outputs": [],
   "source": [
    "from IPython.core.display import HTML\n",
    "def css_styling():\n",
    "    styles = open(\"styles/custom.css\", \"r\").read()\n",
    "    return HTML(styles)\n",
    "css_styling()"
   ]
  },
  {
   "cell_type": "markdown",
   "metadata": {},
   "source": [
    "# Chapter 4: Loops"
   ]
  },
  {
   "cell_type": "markdown",
   "metadata": {},
   "source": [
    "## Final Exercises Chapter 4"
   ]
  },
  {
   "cell_type": "markdown",
   "metadata": {},
   "source": [
    "Inspired by *Think Python* by Allen B. Downey (http://thinkpython.com), *Introduction to Programming Using Python* by Y. Liang (Pearson, 2013). Some exercises below have been taken from: http://www.ling.gu.se/~lager/python_exercises.html."
   ]
  },
  {
   "cell_type": "markdown",
   "metadata": {},
   "source": [
    "-  Ex. 1: Lowercase `sentence` and split it into words along whitespace. Now fill a dictionary that holds the frequency (value) for each word (key) in the sentence. You should first check whether a word is already present in your dictionary. If it is, update its frequency. Else, you should first initialize its frequency."
   ]
  },
  {
   "cell_type": "code",
   "execution_count": 6,
   "metadata": {},
   "outputs": [
    {
     "name": "stdout",
     "output_type": "stream",
     "text": [
      "['si', 'six', 'scies', 'scient', 'six', 'cyprès', ',', 'six', 'cent', 'six', 'scies', 'scient', 'six', 'cent', 'six', 'cyprès', '.']\n"
     ]
    },
    {
     "ename": "KeyError",
     "evalue": "'si'",
     "output_type": "error",
     "traceback": [
      "\u001b[0;31m---------------------------------------------------------------------------\u001b[0m",
      "\u001b[0;31mKeyError\u001b[0m                                  Traceback (most recent call last)",
      "\u001b[0;32m<ipython-input-6-22504e5aa304>\u001b[0m in \u001b[0;36m<module>\u001b[0;34m()\u001b[0m\n\u001b[1;32m      7\u001b[0m \u001b[0;32mfor\u001b[0m \u001b[0mword\u001b[0m \u001b[0;32min\u001b[0m \u001b[0mwords\u001b[0m\u001b[0;34m:\u001b[0m\u001b[0;34m\u001b[0m\u001b[0m\n\u001b[1;32m      8\u001b[0m     \u001b[0;32mif\u001b[0m \u001b[0mword\u001b[0m \u001b[0;32mnot\u001b[0m \u001b[0;32min\u001b[0m \u001b[0mfreq_dict\u001b[0m\u001b[0;34m:\u001b[0m\u001b[0;34m\u001b[0m\u001b[0m\n\u001b[0;32m----> 9\u001b[0;31m         \u001b[0mfreq_dict\u001b[0m\u001b[0;34m[\u001b[0m\u001b[0mword\u001b[0m\u001b[0;34m]\u001b[0m \u001b[0;34m+=\u001b[0m \u001b[0;36m1\u001b[0m\u001b[0;34m\u001b[0m\u001b[0m\n\u001b[0m\u001b[1;32m     10\u001b[0m     \u001b[0;32melse\u001b[0m\u001b[0;34m:\u001b[0m\u001b[0;34m\u001b[0m\u001b[0m\n\u001b[1;32m     11\u001b[0m         \u001b[0mfreq_dict\u001b[0m\u001b[0;34m[\u001b[0m\u001b[0mword\u001b[0m\u001b[0;34m]\u001b[0m \u001b[0;34m=\u001b[0m \u001b[0;36m1\u001b[0m\u001b[0;34m\u001b[0m\u001b[0m\n",
      "\u001b[0;31mKeyError\u001b[0m: 'si'"
     ]
    }
   ],
   "source": [
    "sentence = \"Si six scies scient six cyprès , six cent six scies scient six cent six cyprès .\" #* 1000\n",
    "words = sentence.lower().split()\n",
    "print(words)\n",
    "\n",
    "freq_dict = {}\n",
    "\n",
    "for word in words:\n",
    "    if word not in freq_dict:\n",
    "        freq_dict[word] += 1\n",
    "    else:\n",
    "        freq_dict[word] = 1\n",
    "\n",
    "    freq_dict[word] = words.count(word)\n",
    "\n",
    "print(freq_dict)\n"
   ]
  },
  {
   "cell_type": "markdown",
   "metadata": {},
   "source": [
    "-  Ex. 2: By now, you already know that Python has the `len()` function built-in, but can you write a code block yourself that prints the length of the string `lengthy_word`? Use a `for` loop, but don't use the `len()` function!"
   ]
  },
  {
   "cell_type": "code",
   "execution_count": 8,
   "metadata": {},
   "outputs": [
    {
     "name": "stdout",
     "output_type": "stream",
     "text": [
      "34\n",
      "34\n"
     ]
    }
   ],
   "source": [
    "#GRADED\n",
    "\n",
    "lengthy_word = \"supercalifragilisticexpialidocious\"\n",
    "# lengthy word (1) code\n",
    "length_word = 0\n",
    "for letter in lengthy_word:\n",
    "    length_word += 1\n",
    "print(length_word)\n",
    "\n",
    "#correctness check\n",
    "print(len(\"supercalifragilisticexpialidocious\"))"
   ]
  },
  {
   "cell_type": "markdown",
   "metadata": {},
   "source": [
    "- Ex. 3: Have another look at the string variable `lenghty_word` that you defined in the previous exercise. Can you write a code block that fills a dictionary `char_freqs` containing the frequency of the different individual characters in `lengthy_word`?"
   ]
  },
  {
   "cell_type": "code",
   "execution_count": 9,
   "metadata": {},
   "outputs": [
    {
     "name": "stdout",
     "output_type": "stream",
     "text": [
      "{'s': 3, 'u': 2, 'p': 2, 'e': 2, 'r': 2, 'c': 3, 'a': 3, 'l': 3, 'i': 7, 'f': 1, 'g': 1, 't': 1, 'x': 1, 'd': 1, 'o': 2}\n"
     ]
    }
   ],
   "source": [
    "#GRADED\n",
    "\n",
    "# lengty_word (2) code\n",
    "char_freqs = {}\n",
    "for letter in lengthy_word:\n",
    "    freq = lengthy_word.count(letter)\n",
    "    char_freqs[letter] = freq\n",
    "print(char_freqs)"
   ]
  },
  {
   "cell_type": "markdown",
   "metadata": {},
   "source": [
    "- Ex. 4: Write a code block that defines a list of integers and prints them as a histogram to the screen. For example, for `histogram = [4, 9, 7, 2, 16, 8, 3]`, the code should print the following:\n",
    "\n",
    "`++++\n",
    "+++++++++\n",
    "+++++++\n",
    "++\n",
    "++++++++++++++++\n",
    "++++++++\n",
    "+++`"
   ]
  },
  {
   "cell_type": "code",
   "execution_count": 10,
   "metadata": {},
   "outputs": [
    {
     "name": "stdout",
     "output_type": "stream",
     "text": [
      "+\n",
      "+++\n",
      "+++++++++++++++++++++++\n",
      "+++++++\n",
      "+++++++++++++++\n"
     ]
    }
   ],
   "source": [
    "#GRADED \n",
    "\n",
    "# histogram\n",
    "histogram = [1, 3, 23, 7, 15]\n",
    "\n",
    "for number in histogram:\n",
    "    output = \"+\"*number\n",
    "    print(output)\n"
   ]
  },
  {
   "cell_type": "markdown",
   "metadata": {},
   "source": [
    "- Ex. 5: \"99 Bottles of Beer\" is a traditional song in the United States and Canada. It is popular to sing on long trips, as it has a very repetitive format which is easy to memorize, and can take a long time to sing. The song's simple lyrics are as follows: \"99 bottles of beer on the wall, 99 bottles of beer. Take one down, pass it around, 98 bottles of beer on the wall.\" The same verse is repeated, each time with one fewer bottle. The song is completed when the singer or singers reach zero. Your task here is to write a Python code block capable of generating all the verses of the song. Use a `counter` integer variable and a `while` loop. Make sure that your loop will come to an end and that the inflection of the word bottle is adapted to the counter!\n"
   ]
  },
  {
   "cell_type": "code",
   "execution_count": 11,
   "metadata": {},
   "outputs": [
    {
     "name": "stdout",
     "output_type": "stream",
     "text": [
      "99 bottles of beer on the wall, 99 bottles of beer. Take one down, pass it around, 98 bottles of beer on the wall.\n",
      "98 bottles of beer on the wall, 98 bottles of beer. Take one down, pass it around, 97 bottles of beer on the wall.\n",
      "97 bottles of beer on the wall, 97 bottles of beer. Take one down, pass it around, 96 bottles of beer on the wall.\n",
      "96 bottles of beer on the wall, 96 bottles of beer. Take one down, pass it around, 95 bottles of beer on the wall.\n",
      "95 bottles of beer on the wall, 95 bottles of beer. Take one down, pass it around, 94 bottles of beer on the wall.\n",
      "94 bottles of beer on the wall, 94 bottles of beer. Take one down, pass it around, 93 bottles of beer on the wall.\n",
      "93 bottles of beer on the wall, 93 bottles of beer. Take one down, pass it around, 92 bottles of beer on the wall.\n",
      "92 bottles of beer on the wall, 92 bottles of beer. Take one down, pass it around, 91 bottles of beer on the wall.\n",
      "91 bottles of beer on the wall, 91 bottles of beer. Take one down, pass it around, 90 bottles of beer on the wall.\n",
      "90 bottles of beer on the wall, 90 bottles of beer. Take one down, pass it around, 89 bottles of beer on the wall.\n",
      "89 bottles of beer on the wall, 89 bottles of beer. Take one down, pass it around, 88 bottles of beer on the wall.\n",
      "88 bottles of beer on the wall, 88 bottles of beer. Take one down, pass it around, 87 bottles of beer on the wall.\n",
      "87 bottles of beer on the wall, 87 bottles of beer. Take one down, pass it around, 86 bottles of beer on the wall.\n",
      "86 bottles of beer on the wall, 86 bottles of beer. Take one down, pass it around, 85 bottles of beer on the wall.\n",
      "85 bottles of beer on the wall, 85 bottles of beer. Take one down, pass it around, 84 bottles of beer on the wall.\n",
      "84 bottles of beer on the wall, 84 bottles of beer. Take one down, pass it around, 83 bottles of beer on the wall.\n",
      "83 bottles of beer on the wall, 83 bottles of beer. Take one down, pass it around, 82 bottles of beer on the wall.\n",
      "82 bottles of beer on the wall, 82 bottles of beer. Take one down, pass it around, 81 bottles of beer on the wall.\n",
      "81 bottles of beer on the wall, 81 bottles of beer. Take one down, pass it around, 80 bottles of beer on the wall.\n",
      "80 bottles of beer on the wall, 80 bottles of beer. Take one down, pass it around, 79 bottles of beer on the wall.\n",
      "79 bottles of beer on the wall, 79 bottles of beer. Take one down, pass it around, 78 bottles of beer on the wall.\n",
      "78 bottles of beer on the wall, 78 bottles of beer. Take one down, pass it around, 77 bottles of beer on the wall.\n",
      "77 bottles of beer on the wall, 77 bottles of beer. Take one down, pass it around, 76 bottles of beer on the wall.\n",
      "76 bottles of beer on the wall, 76 bottles of beer. Take one down, pass it around, 75 bottles of beer on the wall.\n",
      "75 bottles of beer on the wall, 75 bottles of beer. Take one down, pass it around, 74 bottles of beer on the wall.\n",
      "74 bottles of beer on the wall, 74 bottles of beer. Take one down, pass it around, 73 bottles of beer on the wall.\n",
      "73 bottles of beer on the wall, 73 bottles of beer. Take one down, pass it around, 72 bottles of beer on the wall.\n",
      "72 bottles of beer on the wall, 72 bottles of beer. Take one down, pass it around, 71 bottles of beer on the wall.\n",
      "71 bottles of beer on the wall, 71 bottles of beer. Take one down, pass it around, 70 bottles of beer on the wall.\n",
      "70 bottles of beer on the wall, 70 bottles of beer. Take one down, pass it around, 69 bottles of beer on the wall.\n",
      "69 bottles of beer on the wall, 69 bottles of beer. Take one down, pass it around, 68 bottles of beer on the wall.\n",
      "68 bottles of beer on the wall, 68 bottles of beer. Take one down, pass it around, 67 bottles of beer on the wall.\n",
      "67 bottles of beer on the wall, 67 bottles of beer. Take one down, pass it around, 66 bottles of beer on the wall.\n",
      "66 bottles of beer on the wall, 66 bottles of beer. Take one down, pass it around, 65 bottles of beer on the wall.\n",
      "65 bottles of beer on the wall, 65 bottles of beer. Take one down, pass it around, 64 bottles of beer on the wall.\n",
      "64 bottles of beer on the wall, 64 bottles of beer. Take one down, pass it around, 63 bottles of beer on the wall.\n",
      "63 bottles of beer on the wall, 63 bottles of beer. Take one down, pass it around, 62 bottles of beer on the wall.\n",
      "62 bottles of beer on the wall, 62 bottles of beer. Take one down, pass it around, 61 bottles of beer on the wall.\n",
      "61 bottles of beer on the wall, 61 bottles of beer. Take one down, pass it around, 60 bottles of beer on the wall.\n",
      "60 bottles of beer on the wall, 60 bottles of beer. Take one down, pass it around, 59 bottles of beer on the wall.\n",
      "59 bottles of beer on the wall, 59 bottles of beer. Take one down, pass it around, 58 bottles of beer on the wall.\n",
      "58 bottles of beer on the wall, 58 bottles of beer. Take one down, pass it around, 57 bottles of beer on the wall.\n",
      "57 bottles of beer on the wall, 57 bottles of beer. Take one down, pass it around, 56 bottles of beer on the wall.\n",
      "56 bottles of beer on the wall, 56 bottles of beer. Take one down, pass it around, 55 bottles of beer on the wall.\n",
      "55 bottles of beer on the wall, 55 bottles of beer. Take one down, pass it around, 54 bottles of beer on the wall.\n",
      "54 bottles of beer on the wall, 54 bottles of beer. Take one down, pass it around, 53 bottles of beer on the wall.\n",
      "53 bottles of beer on the wall, 53 bottles of beer. Take one down, pass it around, 52 bottles of beer on the wall.\n",
      "52 bottles of beer on the wall, 52 bottles of beer. Take one down, pass it around, 51 bottles of beer on the wall.\n",
      "51 bottles of beer on the wall, 51 bottles of beer. Take one down, pass it around, 50 bottles of beer on the wall.\n",
      "50 bottles of beer on the wall, 50 bottles of beer. Take one down, pass it around, 49 bottles of beer on the wall.\n",
      "49 bottles of beer on the wall, 49 bottles of beer. Take one down, pass it around, 48 bottles of beer on the wall.\n",
      "48 bottles of beer on the wall, 48 bottles of beer. Take one down, pass it around, 47 bottles of beer on the wall.\n",
      "47 bottles of beer on the wall, 47 bottles of beer. Take one down, pass it around, 46 bottles of beer on the wall.\n",
      "46 bottles of beer on the wall, 46 bottles of beer. Take one down, pass it around, 45 bottles of beer on the wall.\n",
      "45 bottles of beer on the wall, 45 bottles of beer. Take one down, pass it around, 44 bottles of beer on the wall.\n",
      "44 bottles of beer on the wall, 44 bottles of beer. Take one down, pass it around, 43 bottles of beer on the wall.\n",
      "43 bottles of beer on the wall, 43 bottles of beer. Take one down, pass it around, 42 bottles of beer on the wall.\n",
      "42 bottles of beer on the wall, 42 bottles of beer. Take one down, pass it around, 41 bottles of beer on the wall.\n",
      "41 bottles of beer on the wall, 41 bottles of beer. Take one down, pass it around, 40 bottles of beer on the wall.\n",
      "40 bottles of beer on the wall, 40 bottles of beer. Take one down, pass it around, 39 bottles of beer on the wall.\n",
      "39 bottles of beer on the wall, 39 bottles of beer. Take one down, pass it around, 38 bottles of beer on the wall.\n",
      "38 bottles of beer on the wall, 38 bottles of beer. Take one down, pass it around, 37 bottles of beer on the wall.\n",
      "37 bottles of beer on the wall, 37 bottles of beer. Take one down, pass it around, 36 bottles of beer on the wall.\n",
      "36 bottles of beer on the wall, 36 bottles of beer. Take one down, pass it around, 35 bottles of beer on the wall.\n",
      "35 bottles of beer on the wall, 35 bottles of beer. Take one down, pass it around, 34 bottles of beer on the wall.\n",
      "34 bottles of beer on the wall, 34 bottles of beer. Take one down, pass it around, 33 bottles of beer on the wall.\n",
      "33 bottles of beer on the wall, 33 bottles of beer. Take one down, pass it around, 32 bottles of beer on the wall.\n",
      "32 bottles of beer on the wall, 32 bottles of beer. Take one down, pass it around, 31 bottles of beer on the wall.\n",
      "31 bottles of beer on the wall, 31 bottles of beer. Take one down, pass it around, 30 bottles of beer on the wall.\n",
      "30 bottles of beer on the wall, 30 bottles of beer. Take one down, pass it around, 29 bottles of beer on the wall.\n",
      "29 bottles of beer on the wall, 29 bottles of beer. Take one down, pass it around, 28 bottles of beer on the wall.\n",
      "28 bottles of beer on the wall, 28 bottles of beer. Take one down, pass it around, 27 bottles of beer on the wall.\n",
      "27 bottles of beer on the wall, 27 bottles of beer. Take one down, pass it around, 26 bottles of beer on the wall.\n",
      "26 bottles of beer on the wall, 26 bottles of beer. Take one down, pass it around, 25 bottles of beer on the wall.\n",
      "25 bottles of beer on the wall, 25 bottles of beer. Take one down, pass it around, 24 bottles of beer on the wall.\n",
      "24 bottles of beer on the wall, 24 bottles of beer. Take one down, pass it around, 23 bottles of beer on the wall.\n",
      "23 bottles of beer on the wall, 23 bottles of beer. Take one down, pass it around, 22 bottles of beer on the wall.\n",
      "22 bottles of beer on the wall, 22 bottles of beer. Take one down, pass it around, 21 bottles of beer on the wall.\n",
      "21 bottles of beer on the wall, 21 bottles of beer. Take one down, pass it around, 20 bottles of beer on the wall.\n",
      "20 bottles of beer on the wall, 20 bottles of beer. Take one down, pass it around, 19 bottles of beer on the wall.\n",
      "19 bottles of beer on the wall, 19 bottles of beer. Take one down, pass it around, 18 bottles of beer on the wall.\n",
      "18 bottles of beer on the wall, 18 bottles of beer. Take one down, pass it around, 17 bottles of beer on the wall.\n",
      "17 bottles of beer on the wall, 17 bottles of beer. Take one down, pass it around, 16 bottles of beer on the wall.\n",
      "16 bottles of beer on the wall, 16 bottles of beer. Take one down, pass it around, 15 bottles of beer on the wall.\n",
      "15 bottles of beer on the wall, 15 bottles of beer. Take one down, pass it around, 14 bottles of beer on the wall.\n",
      "14 bottles of beer on the wall, 14 bottles of beer. Take one down, pass it around, 13 bottles of beer on the wall.\n",
      "13 bottles of beer on the wall, 13 bottles of beer. Take one down, pass it around, 12 bottles of beer on the wall.\n",
      "12 bottles of beer on the wall, 12 bottles of beer. Take one down, pass it around, 11 bottles of beer on the wall.\n",
      "11 bottles of beer on the wall, 11 bottles of beer. Take one down, pass it around, 10 bottles of beer on the wall.\n",
      "10 bottles of beer on the wall, 10 bottles of beer. Take one down, pass it around, 9 bottles of beer on the wall.\n",
      "9 bottles of beer on the wall, 9 bottles of beer. Take one down, pass it around, 8 bottles of beer on the wall.\n",
      "8 bottles of beer on the wall, 8 bottles of beer. Take one down, pass it around, 7 bottles of beer on the wall.\n",
      "7 bottles of beer on the wall, 7 bottles of beer. Take one down, pass it around, 6 bottles of beer on the wall.\n",
      "6 bottles of beer on the wall, 6 bottles of beer. Take one down, pass it around, 5 bottles of beer on the wall.\n",
      "5 bottles of beer on the wall, 5 bottles of beer. Take one down, pass it around, 4 bottles of beer on the wall.\n",
      "4 bottles of beer on the wall, 4 bottles of beer. Take one down, pass it around, 3 bottles of beer on the wall.\n",
      "3 bottles of beer on the wall, 3 bottles of beer. Take one down, pass it around, 2 bottles of beer on the wall.\n",
      "2 bottles of beer on the wall, 2 bottles of beer. Take one down, pass it around, 1 bottle of beer on the wall.\n",
      "1 bottle of beer on the wall, 1 bottle of beer. Take one down, pass it around, 0 bottles of beer on the wall.\n"
     ]
    }
   ],
   "source": [
    "#GRADED\n",
    "\n",
    "# bottles of beer\n",
    "counter = 100\n",
    "while counter >1:\n",
    "    counter -= 1\n",
    "    if counter >2:\n",
    "        print(str(counter) + \" bottles of beer on the wall, \" + str(counter) + \" bottles of beer. Take one down, pass it around, \" + str(counter - 1) + \" bottles of beer on the wall.\")\n",
    "    elif counter == 2:\n",
    "        print(str(counter) + \" bottles of beer on the wall, \" + str(counter) + \" bottles of beer. Take one down, pass it around, \" + str(counter - 1) + \" bottle of beer on the wall.\")\n",
    "    elif counter == 1:\n",
    "        print(str(counter) + \" bottle of beer on the wall, \" + str(counter) + \" bottle of beer. Take one down, pass it around, \" + str(counter - 1) + \" bottles of beer on the wall.\")\n",
    "    "
   ]
  },
  {
   "cell_type": "markdown",
   "metadata": {},
   "source": [
    "- Ex. 6: The third person singular verb form in English is distinguished by the suffix -s, which is added to the stem of the infinitive form: run -> runs. A simple set of rules can be given as follows: \"If the verb ends in y, remove it and add ies. If the verb ends in o, ch, s, sh, x or z, add es. By default just add s.\" Your task in this exercise is to write a code block which given a verb in infinitive form, prints its third person singular form. Test your function with words like \"try\", \"brush\", \"run\" and \"fix\". Can you think of verbs for which your code doesn't work? Check out the string method `.endswith()` online!\n"
   ]
  },
  {
   "cell_type": "code",
   "execution_count": 12,
   "metadata": {},
   "outputs": [
    {
     "name": "stdout",
     "output_type": "stream",
     "text": [
      "brush\n",
      "ends in: h\n",
      "third person: brushes\n"
     ]
    }
   ],
   "source": [
    "#GRADED\n",
    "\n",
    "# verbs code\n",
    "verb = \"brush\"\n",
    "print(verb)\n",
    "print(\"ends in: \" + verb[-1:])\n",
    "\n",
    "if verb[-1:] == \"y\":\n",
    "    third_person = verb[:-1] + \"ies\"\n",
    "elif verb.endswith((\"o\", \"s\", \"x\", \"z\", \"ch\", \"sh\")):\n",
    "    third_person = verb + \"es\"\n",
    "else:\n",
    "    third_person = verb + \"s\"\n",
    "    \n",
    "print(\"third person: \" + third_person)\n",
    "\n"
   ]
  },
  {
   "cell_type": "markdown",
   "metadata": {},
   "source": [
    "- Ex. 7: ROT13, or Caesar cipher, is a way to encode secret messages in cryptography. The name comes from Julius Caesar, who used it to communicate with his generals. ROT13 (\"rotate by 13 places\") is a widely used example of a Caesar cipher. The idea is to rotate or augment the position of each character in the alphabet with thirteen places, wrapping back to the beginning if necessary. Because the alphabet has 26 characters, the encryption is symmetric: you can map the first 13 to the last 13, and the last 13 to the first 13. Your task in this exercise is to implement an encoder/decoder of ROT13. For this, you will need to create a list containing each letter in the (lowercase) roman alphabet. Next, you create a `rot13_dict` that maps each character to its corresponding letter 13 letters up or down the alphabet. Any character that is not in the alphabet (such as spaces and punctuation marks) should be left as-is. Once you're done, you will be able to read the following secret message: `\"Pnrfne pvcure? V zhpu cersre Pnrfne fnynq!\"` (Hint: you can use `.index()` to retrieve the position of an item in a list)"
   ]
  },
  {
   "cell_type": "code",
   "execution_count": 28,
   "metadata": {},
   "outputs": [
    {
     "name": "stdout",
     "output_type": "stream",
     "text": [
      "{'a': 'n', 'b': 'o', 'c': 'p', 'd': 'q', 'e': 'r', 'f': 's', 'g': 't', 'h': 'u', 'i': 'v', 'j': 'w', 'k': 'x', 'l': 'y', 'm': 'z', 'n': 'a', 'o': 'b', 'p': 'c', 'q': 'd', 'r': 'e', 's': 'f', 't': 'g', 'u': 'h', 'v': 'i', 'w': 'j', 'x': 'k', 'y': 'l', 'z': 'm'}\n",
      "caesar cipher? i much prefer caesar salad!\n"
     ]
    }
   ],
   "source": [
    "#niet kunnen ontcijferen:\n",
    "\n",
    "# Caesar code\n",
    "alphabet = ['a', 'b', 'c', 'd', 'e', 'f', 'g', 'h', 'i', 'j', 'k', 'l', 'm', 'n', 'o', 'p', 'q', 'r', 's', 't', 'u', 'v', 'w', 'x', 'y', 'z']\n",
    "\n",
    "rot13_dict = {}\n",
    "\n",
    "for letter in alphabet:\n",
    "    if alphabet.index(letter) < 13:\n",
    "        index = alphabet.index(letter) + 13\n",
    "    else:\n",
    "        index = alphabet.index(letter) - 13\n",
    "    decode_letter = alphabet[index]\n",
    "    rot13_dict[letter] = decode_letter\n",
    "\n",
    "print(rot13_dict)\n",
    "  \n",
    "message = \"Pnrfne pvcure? V zhpu cersre Pnrfne fnynq!\".lower()\n",
    "\n",
    "deciphered = \"\"\n",
    "for character in message:\n",
    "    if character in [\" \", \"?\", \"!\"]:\n",
    "        deciphered += character\n",
    "    elif character in rot13_dict:\n",
    "        deciphered += rot13_dict[character]\n",
    "        \n",
    "print(deciphered)\n",
    "        "
   ]
  },
  {
   "cell_type": "code",
   "execution_count": 14,
   "metadata": {},
   "outputs": [
    {
     "name": "stdout",
     "output_type": "stream",
     "text": [
      "Caesar cipher? I much prefer Caesar salad!\n"
     ]
    }
   ],
   "source": [
    "#gevonden online - maar me niet helemaal duidelijk:\n",
    "\n",
    "def rot13(message):\n",
    "    result = \"\"\n",
    "\n",
    "    # Loop over characters.\n",
    "    for letter in message:\n",
    "        # Convert to number with ord.\n",
    "        cipher = ord(letter)\n",
    "\n",
    "        # Shift number back or forward.\n",
    "        if cipher >= ord('a') and cipher <= ord('z'):\n",
    "            if cipher > ord('m'):\n",
    "                cipher -= 13\n",
    "            else:\n",
    "                cipher += 13\n",
    "        elif cipher >= ord('A') and cipher <= ord('Z'):\n",
    "            if cipher > ord('M'):\n",
    "                cipher -= 13\n",
    "            else:\n",
    "                cipher += 13\n",
    "\n",
    "        # Append to result.\n",
    "        result += chr(cipher)\n",
    "\n",
    "    # Return transformation.\n",
    "    return result\n",
    "\n",
    "# Test method.\n",
    "print(rot13(\"Pnrfne pvcure? V zhpu cersre Pnrfne fnynq!\"))\n"
   ]
  },
  {
   "cell_type": "markdown",
   "metadata": {},
   "source": [
    "---"
   ]
  },
  {
   "cell_type": "markdown",
   "metadata": {},
   "source": [
    "Congrats: you've reached the end of Chapter 4! Ignore the code block below; it's only here to make the page prettier."
   ]
  },
  {
   "cell_type": "code",
   "execution_count": null,
   "metadata": {
    "collapsed": true
   },
   "outputs": [],
   "source": [
    "from IPython.core.display import HTML\n",
    "def css_styling():\n",
    "    styles = open(\"styles/custom.css\", \"r\").read()\n",
    "    return HTML(styles)\n",
    "css_styling()"
   ]
  }
 ],
 "metadata": {
  "kernelspec": {
   "display_name": "Python 3",
   "language": "python",
   "name": "python3"
  },
  "language_info": {
   "codemirror_mode": {
    "name": "ipython",
    "version": 3
   },
   "file_extension": ".py",
   "mimetype": "text/x-python",
   "name": "python",
   "nbconvert_exporter": "python",
   "pygments_lexer": "ipython3",
   "version": "3.6.1"
  },
  "name": "_joined"
 },
 "nbformat": 4,
 "nbformat_minor": 1
}
