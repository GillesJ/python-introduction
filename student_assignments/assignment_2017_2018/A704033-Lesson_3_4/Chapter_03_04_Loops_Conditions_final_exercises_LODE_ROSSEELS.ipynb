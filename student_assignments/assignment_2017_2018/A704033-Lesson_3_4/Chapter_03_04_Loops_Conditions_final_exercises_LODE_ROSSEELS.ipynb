{
 "cells": [
  {
   "cell_type": "markdown",
   "metadata": {},
   "source": [
    "# Chapter 3: Conditions"
   ]
  },
  {
   "cell_type": "markdown",
   "metadata": {},
   "source": [
    "## Final Exercises Chapter 3"
   ]
  },
  {
   "cell_type": "markdown",
   "metadata": {},
   "source": [
    "Inspired by *Think Python* by Allen B. Downey (http://thinkpython.com), *Introduction to Programming Using Python* by Y. Liang (Pearson, 2013). Some exercises below have been taken from: http://www.ling.gu.se/~lager/python_exercises.html."
   ]
  },
  {
   "cell_type": "markdown",
   "metadata": {},
   "source": [
    "- Ex. 1: Write a grading application for teachers. You start with an input field where the teachers have to fill in the score. The score has to be an integer between 0 and 20 (no .5 or letters are allowed). If they fill in something different, they should receive a warning message. After this, the program will render (print) the score as 'D' (less than 10/20), 'C' (higher than 10), 'B' (higher than 13) or 'A' (higher than 16). "
   ]
  },
  {
   "cell_type": "code",
   "execution_count": 13,
   "metadata": {},
   "outputs": [
    {
     "name": "stdout",
     "output_type": "stream",
     "text": [
      "Please enter a rounded number between or equal to 0 and 20: 19\n",
      "A\n"
     ]
    }
   ],
   "source": [
    "inputscore = input(\"Please enter a rounded number between or equal to 0 and 20: \")\n",
    "\n",
    "# EXTRA: exceptions capture all wrong inputs, providing an additional error message for non-integers.\n",
    "\n",
    "try:\n",
    "    if int(inputscore) >= 0 and int(inputscore) <= 20: #proper integer input\n",
    "        if int(inputscore) < 10:    \n",
    "            grade = \"D\"\n",
    "        elif int(inputscore) <= 13:    \n",
    "            grade = \"C\"\n",
    "        elif int(inputscore) <= 16:    \n",
    "            grade = \"B\"\n",
    "        elif int(inputscore) <= 20:    \n",
    "            grade = \"A\"\n",
    "        print(grade)\n",
    "    else: #out of bounds integer \n",
    "        print(\"Error: number needs to be between 0 and 20\")\n",
    "except ValueError: #non-integer\n",
    "    print(\"Error: please enter a rounded number\")    \n",
    "    "
   ]
  },
  {
   "cell_type": "markdown",
   "metadata": {},
   "source": [
    "-  Ex. 2: Can you spot the reasoning error in the following code?"
   ]
  },
  {
   "cell_type": "code",
   "execution_count": 14,
   "metadata": {},
   "outputs": [
    {
     "name": "stdout",
     "output_type": "stream",
     "text": [
      "score between 0 and 100: 40\n",
      "wrong grade: F\n",
      "recommended top-down '>=' cascade: F\n",
      "alternative bottom-up '<' cascade: F\n"
     ]
    }
   ],
   "source": [
    "score = input(\"score between 0 and 100: \")\n",
    "score = int(score)\n",
    "\n",
    "if score >= 60.0:\n",
    "    grade = 'D'\n",
    "elif score >= 70.0:\n",
    "    grade = 'C'\n",
    "elif score >= 80.0:\n",
    "    grade = 'B'\n",
    "elif score >= 90.0:\n",
    "    grade = 'A'\n",
    "else:\n",
    "    grade = 'F'\n",
    "print(\"wrong grade: \" + grade)\n",
    "\n",
    "# The problem here is that the filters are cascading in the wrong order. \n",
    "# All things equal, every value >= 60 is able to trigger any of the first 4 if statements. \n",
    "# Yet, if/else statements fire at the first true line and stop processing. They are not funnels that keep re-defining values.\n",
    "# Hence, any value higher than, or equal to 60 will stop processing and end at \"D\", disregarding later filters.\n",
    "# It is also illogical to treat the grades in order, but to treat 'F' at the other end of its logical place.\n",
    "\n",
    "# To use Else-If combinations most effectively, avoid overlapping IF-fields: \n",
    "# Going top-down and using >=, or bottom-up and using < avoids that a true statement is caught in the first if statement.\n",
    "# Using a > or < symbol in combination with the wrong order causes the IF-statements to overlap again.\n",
    "\n",
    "# Recommended: Top down with >= \n",
    "if score >= 90.0:\n",
    "    grade = 'A'\n",
    "elif score >= 80.0:\n",
    "    grade = 'B'\n",
    "elif score >= 70.0:\n",
    "    grade = 'C'\n",
    "elif score >= 60.0:\n",
    "    grade = 'D'\n",
    "else:\n",
    "    grade = 'F'\n",
    "print(\"recommended top-down '>=' cascade: \" + grade)"
   ]
  },
  {
   "cell_type": "markdown",
   "metadata": {},
   "source": [
    "- Ex. 3: Write a script that generates a personal title in English. When the addressee is a male person, we will use \"Mr.\", when it is a young girl \"Miss\", when it is a married woman \"Mrs.\" plus the name of her husband, and when the marital status is unknown or we think that a neutral title is better, \"Ms.\"."
   ]
  },
  {
   "cell_type": "code",
   "execution_count": 15,
   "metadata": {},
   "outputs": [
    {
     "name": "stdout",
     "output_type": "stream",
     "text": [
      "Welcome, Ms. \n"
     ]
    }
   ],
   "source": [
    "name = \"\"\n",
    "name_partner = \"\"\n",
    "gender = \"f\" # Choose between M and F\n",
    "status = \"\" #choose between 'young', 'unknown', 'neutral' or 'married'\n",
    "\n",
    "# EXTRA: Script elaborated to be able to handle empty and incorrect 'name', 'name_partner' and 'status' fields.\n",
    "if gender == \"f\" or gender == \"F\" or gender == \"female\":\n",
    "    if status == \"married\":\n",
    "        title = \"Mrs. \"+name_partner\n",
    "        print(\"welcome, \"+title)\n",
    "    elif status == \"young\":\n",
    "        title = \"Miss \"+name\n",
    "        print(\"Welcome, \"+title)\n",
    "    else: \n",
    "        title = \"Ms. \"+name    #empty, unknown or neutral\n",
    "        print(\"Welcome, \"+title)\n",
    "elif gender == \"m\" or gender == \"M\" or gender == \"male\":\n",
    "    title = \"Mr. \"+name\n",
    "    print(\"Welcome, \"+title)\n",
    "else:\n",
    "    print(\"Welcome! Please input your information.\")\n"
   ]
  },
  {
   "cell_type": "markdown",
   "metadata": {},
   "source": [
    "---"
   ]
  },
  {
   "cell_type": "markdown",
   "metadata": {},
   "source": [
    "Congrats: you've reached the end of Chapter 3! Ignore the code block below; it's only here to make the page prettier."
   ]
  },
  {
   "cell_type": "code",
   "execution_count": null,
   "metadata": {
    "collapsed": true
   },
   "outputs": [],
   "source": [
    "from IPython.core.display import HTML\n",
    "def css_styling():\n",
    "    styles = open(\"styles/custom.css\", \"r\").read()\n",
    "    return HTML(styles)\n",
    "css_styling()"
   ]
  },
  {
   "cell_type": "markdown",
   "metadata": {},
   "source": [
    "# Chapter 4: Loops"
   ]
  },
  {
   "cell_type": "markdown",
   "metadata": {},
   "source": [
    "## Final Exercises Chapter 4"
   ]
  },
  {
   "cell_type": "markdown",
   "metadata": {},
   "source": [
    "Inspired by *Think Python* by Allen B. Downey (http://thinkpython.com), *Introduction to Programming Using Python* by Y. Liang (Pearson, 2013). Some exercises below have been taken from: http://www.ling.gu.se/~lager/python_exercises.html."
   ]
  },
  {
   "cell_type": "markdown",
   "metadata": {},
   "source": [
    "-  Ex. 1: Lowercase `sentence` and split it into words along whitespace. Now fill a dictionary that holds the frequency (value) for each word (key) in the sentence. You should first check whether a word is already present in your dictionary. If it is, update its frequency. Else, you should first initialize its frequency."
   ]
  },
  {
   "cell_type": "code",
   "execution_count": 2,
   "metadata": {
    "collapsed": true
   },
   "outputs": [
    {
     "name": "stdout",
     "output_type": "stream",
     "text": [
      "{'si': 1, 'six': 6000, 'scies': 2000, 'scient': 2000, 'cyprès': 2000, ',': 1000, 'cent': 2000, '.si': 999, '.': 1}\n",
      "frequency of 'si': 1\n",
      "frequency of 'six': 6000\n",
      "frequency of 'scies': 2000\n",
      "frequency of 'scient': 2000\n",
      "frequency of 'cyprès': 2000\n",
      "frequency of ',': 1000\n",
      "frequency of 'cent': 2000\n",
      "frequency of '.si': 999\n",
      "frequency of '.': 1\n"
     ]
    }
   ],
   "source": [
    "#GRADE\n",
    "\n",
    "sentence = \"Si six scies scient six cyprès , six cent six scies scient six cent six cyprès .\" * 1000\n",
    "\n",
    "# IMPORTANT: the above sentence contains the string \".Si\" x999 because of the ending \"cyprès .\"\n",
    "# I could edit the sentence and add a space, but I consider this cheating....\n",
    "# If you intended for this to happen, the code below will solve the error.\n",
    "# BEWARE!!! theoretically, this works, but it may overload the kernel and/or exceed the data traffic limit! \n",
    "# If you did not intend for this \".Si\" to happen, please disable the following 2 lines of code to save time!\n",
    "\n",
    "# From here on onwards, the code assumes that the sentence ends in \"cyprès . \" with a space.   \n",
    "words = sentence.lower().split()\n",
    "freq_dict = {}\n",
    "\n",
    "# counting\n",
    "for word in words:\n",
    "    freq_dict[word] = words.count(word)    \n",
    "#alternative :\n",
    "#if word not in freq_dict:\n",
    "    #freq_dict[word] = 1\n",
    "#else:\n",
    "    #freq_dict += 1\n",
    "    \n",
    "print(freq_dict)\n",
    "    \n",
    "# output\n",
    "for key in freq_dict:\n",
    "    print(\"frequency of '\"+key+\"': \"+str(freq_dict[key]))\n"
   ]
  },
  {
   "cell_type": "markdown",
   "metadata": {},
   "source": [
    "-  Ex. 2: By now, you already know that Python has the `len()` function built-in, but can you write a code block yourself that prints the length of the string `lengthy_word`? Use a `for` loop, but don't use the `len()` function!"
   ]
  },
  {
   "cell_type": "code",
   "execution_count": 5,
   "metadata": {},
   "outputs": [
    {
     "name": "stdout",
     "output_type": "stream",
     "text": [
      "'supercalifragilisticexpialidocious' has 34 letters.\n"
     ]
    }
   ],
   "source": [
    "lengthy_word = \"supercalifragilisticexpialidocious\"\n",
    "length = 0\n",
    "\n",
    "# counting\n",
    "for character in lengthy_word:\n",
    "    length += 1\n",
    "    \n",
    "# output\n",
    "print(\"'\"+lengthy_word+\"' has \"+str(length)+\" letters.\")"
   ]
  },
  {
   "cell_type": "markdown",
   "metadata": {},
   "source": [
    "- Ex. 3: Have another look at the string variable `lenghty_word` that you defined in the previous exercise. Can you write a code block that fills a dictionary `char_freqs` containing the frequency of the different individual characters in `lengthy_word`?"
   ]
  },
  {
   "cell_type": "code",
   "execution_count": 6,
   "metadata": {},
   "outputs": [
    {
     "name": "stdout",
     "output_type": "stream",
     "text": [
      "Frequency Table:\n",
      "frequency of 's': 3\n",
      "frequency of 'u': 2\n",
      "frequency of 'p': 2\n",
      "frequency of 'e': 2\n",
      "frequency of 'r': 2\n",
      "frequency of 'c': 3\n",
      "frequency of 'a': 3\n",
      "frequency of 'l': 3\n",
      "frequency of 'i': 7\n",
      "frequency of 'f': 1\n",
      "frequency of 'g': 1\n",
      "frequency of 't': 1\n",
      "frequency of 'x': 1\n",
      "frequency of 'd': 1\n",
      "frequency of 'o': 2\n"
     ]
    }
   ],
   "source": [
    "#GRADE\n",
    "\n",
    "char_freqs = {}\n",
    "\n",
    "# dictionary input\n",
    "for character in lengthy_word:\n",
    "    char_freqs[character] = lengthy_word.count(character)\n",
    "\n",
    "# output\n",
    "print(\"Frequency Table:\")    \n",
    "for item in char_freqs:\n",
    "    print(\"frequency of '\"+str(item)+\"': \"+str(char_freqs[item]))\n"
   ]
  },
  {
   "cell_type": "markdown",
   "metadata": {},
   "source": [
    "- Ex. 4: Write a code block that defines a list of integers and prints them as a histogram to the screen. For example, for `histogram = [4, 9, 7, 2, 16, 8, 3]`, the code should print the following:\n",
    "\n",
    "`++++\n",
    "+++++++++\n",
    "+++++++\n",
    "++\n",
    "++++++++++++++++\n",
    "++++++++\n",
    "+++`"
   ]
  },
  {
   "cell_type": "code",
   "execution_count": null,
   "metadata": {
    "collapsed": true
   },
   "outputs": [],
   "source": [
    "#### GRADE\n",
    "\n",
    "lengthy_word = input(\"insert a very long word or phrase, like Pneumonoultramicroscopicsilicovolcanoconiosis!\")\n",
    "histogram = []\n",
    "counter = -1\n",
    "\n",
    "# EXTRA: added an input field and a nested list to be able to print an index on the y axis\n",
    "\n",
    "# creating nested histogram: [[letter,frequency],[letter frequency],...]\n",
    "for character in lengthy_word:\n",
    "    if character not in str(histogram):\n",
    "        histogram.append([character,(lengthy_word.count(character))*\"+\"])\n",
    "    else:\n",
    "        pass\n",
    "    \n",
    "# printing vertically\n",
    "print(\"Histogram of '\"+lengthy_word+\"':\")    \n",
    "for item in histogram:\n",
    "    counter += 1\n",
    "    print(histogram[counter][0]+\": \"+histogram[counter][1]) "
   ]
  },
  {
   "cell_type": "markdown",
   "metadata": {},
   "source": [
    "- Ex. 5: \"99 Bottles of Beer\" is a traditional song in the United States and Canada. It is popular to sing on long trips, as it has a very repetitive format which is easy to memorize, and can take a long time to sing. The song's simple lyrics are as follows: \"99 bottles of beer on the wall, 99 bottles of beer. Take one down, pass it around, 98 bottles of beer on the wall.\" The same verse is repeated, each time with one fewer bottle. The song is completed when the singer or singers reach zero. Your task here is to write a Python code block capable of generating all the verses of the song. Use a `counter` integer variable and a `while` loop. Make sure that your loop will come to an end and that the inflection of the word bottle is adapted to the counter!\n"
   ]
  },
  {
   "cell_type": "code",
   "execution_count": 8,
   "metadata": {
    "scrolled": true
   },
   "outputs": [
    {
     "name": "stdout",
     "output_type": "stream",
     "text": [
      "99 bottles of beer on the wall, 99 bottles of beer. Take one down, pass it around, 98 bottles of beer on the wall.\n",
      "98 bottles of beer on the wall, 98 bottles of beer. Take one down, pass it around, 97 bottles of beer on the wall.\n",
      "97 bottles of beer on the wall, 97 bottles of beer. Take one down, pass it around, 96 bottles of beer on the wall.\n",
      "96 bottles of beer on the wall, 96 bottles of beer. Take one down, pass it around, 95 bottles of beer on the wall.\n",
      "95 bottles of beer on the wall, 95 bottles of beer. Take one down, pass it around, 94 bottles of beer on the wall.\n",
      "94 bottles of beer on the wall, 94 bottles of beer. Take one down, pass it around, 93 bottles of beer on the wall.\n",
      "93 bottles of beer on the wall, 93 bottles of beer. Take one down, pass it around, 92 bottles of beer on the wall.\n",
      "92 bottles of beer on the wall, 92 bottles of beer. Take one down, pass it around, 91 bottles of beer on the wall.\n",
      "91 bottles of beer on the wall, 91 bottles of beer. Take one down, pass it around, 90 bottles of beer on the wall.\n",
      "90 bottles of beer on the wall, 90 bottles of beer. Take one down, pass it around, 89 bottles of beer on the wall.\n",
      "89 bottles of beer on the wall, 89 bottles of beer. Take one down, pass it around, 88 bottles of beer on the wall.\n",
      "88 bottles of beer on the wall, 88 bottles of beer. Take one down, pass it around, 87 bottles of beer on the wall.\n",
      "87 bottles of beer on the wall, 87 bottles of beer. Take one down, pass it around, 86 bottles of beer on the wall.\n",
      "86 bottles of beer on the wall, 86 bottles of beer. Take one down, pass it around, 85 bottles of beer on the wall.\n",
      "85 bottles of beer on the wall, 85 bottles of beer. Take one down, pass it around, 84 bottles of beer on the wall.\n",
      "84 bottles of beer on the wall, 84 bottles of beer. Take one down, pass it around, 83 bottles of beer on the wall.\n",
      "83 bottles of beer on the wall, 83 bottles of beer. Take one down, pass it around, 82 bottles of beer on the wall.\n",
      "82 bottles of beer on the wall, 82 bottles of beer. Take one down, pass it around, 81 bottles of beer on the wall.\n",
      "81 bottles of beer on the wall, 81 bottles of beer. Take one down, pass it around, 80 bottles of beer on the wall.\n",
      "80 bottles of beer on the wall, 80 bottles of beer. Take one down, pass it around, 79 bottles of beer on the wall.\n",
      "79 bottles of beer on the wall, 79 bottles of beer. Take one down, pass it around, 78 bottles of beer on the wall.\n",
      "78 bottles of beer on the wall, 78 bottles of beer. Take one down, pass it around, 77 bottles of beer on the wall.\n",
      "77 bottles of beer on the wall, 77 bottles of beer. Take one down, pass it around, 76 bottles of beer on the wall.\n",
      "76 bottles of beer on the wall, 76 bottles of beer. Take one down, pass it around, 75 bottles of beer on the wall.\n",
      "75 bottles of beer on the wall, 75 bottles of beer. Take one down, pass it around, 74 bottles of beer on the wall.\n",
      "74 bottles of beer on the wall, 74 bottles of beer. Take one down, pass it around, 73 bottles of beer on the wall.\n",
      "73 bottles of beer on the wall, 73 bottles of beer. Take one down, pass it around, 72 bottles of beer on the wall.\n",
      "72 bottles of beer on the wall, 72 bottles of beer. Take one down, pass it around, 71 bottles of beer on the wall.\n",
      "71 bottles of beer on the wall, 71 bottles of beer. Take one down, pass it around, 70 bottles of beer on the wall.\n",
      "70 bottles of beer on the wall, 70 bottles of beer. Take one down, pass it around, 69 bottles of beer on the wall.\n",
      "69 bottles of beer on the wall, 69 bottles of beer. Take one down, pass it around, 68 bottles of beer on the wall.\n",
      "68 bottles of beer on the wall, 68 bottles of beer. Take one down, pass it around, 67 bottles of beer on the wall.\n",
      "67 bottles of beer on the wall, 67 bottles of beer. Take one down, pass it around, 66 bottles of beer on the wall.\n",
      "66 bottles of beer on the wall, 66 bottles of beer. Take one down, pass it around, 65 bottles of beer on the wall.\n",
      "65 bottles of beer on the wall, 65 bottles of beer. Take one down, pass it around, 64 bottles of beer on the wall.\n",
      "64 bottles of beer on the wall, 64 bottles of beer. Take one down, pass it around, 63 bottles of beer on the wall.\n",
      "63 bottles of beer on the wall, 63 bottles of beer. Take one down, pass it around, 62 bottles of beer on the wall.\n",
      "62 bottles of beer on the wall, 62 bottles of beer. Take one down, pass it around, 61 bottles of beer on the wall.\n",
      "61 bottles of beer on the wall, 61 bottles of beer. Take one down, pass it around, 60 bottles of beer on the wall.\n",
      "60 bottles of beer on the wall, 60 bottles of beer. Take one down, pass it around, 59 bottles of beer on the wall.\n",
      "59 bottles of beer on the wall, 59 bottles of beer. Take one down, pass it around, 58 bottles of beer on the wall.\n",
      "58 bottles of beer on the wall, 58 bottles of beer. Take one down, pass it around, 57 bottles of beer on the wall.\n",
      "57 bottles of beer on the wall, 57 bottles of beer. Take one down, pass it around, 56 bottles of beer on the wall.\n",
      "56 bottles of beer on the wall, 56 bottles of beer. Take one down, pass it around, 55 bottles of beer on the wall.\n",
      "55 bottles of beer on the wall, 55 bottles of beer. Take one down, pass it around, 54 bottles of beer on the wall.\n",
      "54 bottles of beer on the wall, 54 bottles of beer. Take one down, pass it around, 53 bottles of beer on the wall.\n",
      "53 bottles of beer on the wall, 53 bottles of beer. Take one down, pass it around, 52 bottles of beer on the wall.\n",
      "52 bottles of beer on the wall, 52 bottles of beer. Take one down, pass it around, 51 bottles of beer on the wall.\n",
      "51 bottles of beer on the wall, 51 bottles of beer. Take one down, pass it around, 50 bottles of beer on the wall.\n",
      "50 bottles of beer on the wall, 50 bottles of beer. Take one down, pass it around, 49 bottles of beer on the wall.\n",
      "49 bottles of beer on the wall, 49 bottles of beer. Take one down, pass it around, 48 bottles of beer on the wall.\n",
      "48 bottles of beer on the wall, 48 bottles of beer. Take one down, pass it around, 47 bottles of beer on the wall.\n",
      "47 bottles of beer on the wall, 47 bottles of beer. Take one down, pass it around, 46 bottles of beer on the wall.\n",
      "46 bottles of beer on the wall, 46 bottles of beer. Take one down, pass it around, 45 bottles of beer on the wall.\n",
      "45 bottles of beer on the wall, 45 bottles of beer. Take one down, pass it around, 44 bottles of beer on the wall.\n",
      "44 bottles of beer on the wall, 44 bottles of beer. Take one down, pass it around, 43 bottles of beer on the wall.\n",
      "43 bottles of beer on the wall, 43 bottles of beer. Take one down, pass it around, 42 bottles of beer on the wall.\n",
      "42 bottles of beer on the wall, 42 bottles of beer. Take one down, pass it around, 41 bottles of beer on the wall.\n",
      "41 bottles of beer on the wall, 41 bottles of beer. Take one down, pass it around, 40 bottles of beer on the wall.\n",
      "40 bottles of beer on the wall, 40 bottles of beer. Take one down, pass it around, 39 bottles of beer on the wall.\n",
      "39 bottles of beer on the wall, 39 bottles of beer. Take one down, pass it around, 38 bottles of beer on the wall.\n",
      "38 bottles of beer on the wall, 38 bottles of beer. Take one down, pass it around, 37 bottles of beer on the wall.\n",
      "37 bottles of beer on the wall, 37 bottles of beer. Take one down, pass it around, 36 bottles of beer on the wall.\n",
      "36 bottles of beer on the wall, 36 bottles of beer. Take one down, pass it around, 35 bottles of beer on the wall.\n",
      "35 bottles of beer on the wall, 35 bottles of beer. Take one down, pass it around, 34 bottles of beer on the wall.\n",
      "34 bottles of beer on the wall, 34 bottles of beer. Take one down, pass it around, 33 bottles of beer on the wall.\n",
      "33 bottles of beer on the wall, 33 bottles of beer. Take one down, pass it around, 32 bottles of beer on the wall.\n",
      "32 bottles of beer on the wall, 32 bottles of beer. Take one down, pass it around, 31 bottles of beer on the wall.\n",
      "31 bottles of beer on the wall, 31 bottles of beer. Take one down, pass it around, 30 bottles of beer on the wall.\n",
      "30 bottles of beer on the wall, 30 bottles of beer. Take one down, pass it around, 29 bottles of beer on the wall.\n",
      "29 bottles of beer on the wall, 29 bottles of beer. Take one down, pass it around, 28 bottles of beer on the wall.\n",
      "28 bottles of beer on the wall, 28 bottles of beer. Take one down, pass it around, 27 bottles of beer on the wall.\n",
      "27 bottles of beer on the wall, 27 bottles of beer. Take one down, pass it around, 26 bottles of beer on the wall.\n",
      "26 bottles of beer on the wall, 26 bottles of beer. Take one down, pass it around, 25 bottles of beer on the wall.\n",
      "25 bottles of beer on the wall, 25 bottles of beer. Take one down, pass it around, 24 bottles of beer on the wall.\n",
      "24 bottles of beer on the wall, 24 bottles of beer. Take one down, pass it around, 23 bottles of beer on the wall.\n",
      "23 bottles of beer on the wall, 23 bottles of beer. Take one down, pass it around, 22 bottles of beer on the wall.\n",
      "22 bottles of beer on the wall, 22 bottles of beer. Take one down, pass it around, 21 bottles of beer on the wall.\n",
      "21 bottles of beer on the wall, 21 bottles of beer. Take one down, pass it around, 20 bottles of beer on the wall.\n",
      "20 bottles of beer on the wall, 20 bottles of beer. Take one down, pass it around, 19 bottles of beer on the wall.\n",
      "19 bottles of beer on the wall, 19 bottles of beer. Take one down, pass it around, 18 bottles of beer on the wall.\n",
      "18 bottles of beer on the wall, 18 bottles of beer. Take one down, pass it around, 17 bottles of beer on the wall.\n",
      "17 bottles of beer on the wall, 17 bottles of beer. Take one down, pass it around, 16 bottles of beer on the wall.\n",
      "16 bottles of beer on the wall, 16 bottles of beer. Take one down, pass it around, 15 bottles of beer on the wall.\n",
      "15 bottles of beer on the wall, 15 bottles of beer. Take one down, pass it around, 14 bottles of beer on the wall.\n",
      "14 bottles of beer on the wall, 14 bottles of beer. Take one down, pass it around, 13 bottles of beer on the wall.\n",
      "13 bottles of beer on the wall, 13 bottles of beer. Take one down, pass it around, 12 bottles of beer on the wall.\n",
      "12 bottles of beer on the wall, 12 bottles of beer. Take one down, pass it around, 11 bottles of beer on the wall.\n",
      "11 bottles of beer on the wall, 11 bottles of beer. Take one down, pass it around, 10 bottles of beer on the wall.\n",
      "10 bottles of beer on the wall, 10 bottles of beer. Take one down, pass it around, 9 bottles of beer on the wall.\n",
      "9 bottles of beer on the wall, 9 bottles of beer. Take one down, pass it around, 8 bottles of beer on the wall.\n",
      "8 bottles of beer on the wall, 8 bottles of beer. Take one down, pass it around, 7 bottles of beer on the wall.\n",
      "7 bottles of beer on the wall, 7 bottles of beer. Take one down, pass it around, 6 bottles of beer on the wall.\n",
      "6 bottles of beer on the wall, 6 bottles of beer. Take one down, pass it around, 5 bottles of beer on the wall.\n",
      "5 bottles of beer on the wall, 5 bottles of beer. Take one down, pass it around, 4 bottles of beer on the wall.\n",
      "4 bottles of beer on the wall, 4 bottles of beer. Take one down, pass it around, 3 bottles of beer on the wall.\n",
      "3 bottles of beer on the wall, 3 bottles of beer. Take one down, pass it around, 2 bottles of beer on the wall.\n",
      "2 bottles of beer on the wall, 2 bottles of beer. Take one down, pass it around, 1 bottle of beer on the wall.\n",
      "1 bottle of beer on the wall, 1 bottle of beer. Take one down, pass it around, 0 bottles of beer on the wall.\n"
     ]
    }
   ],
   "source": [
    "amount = 100\n",
    "\n",
    "# I decided not to store the text in vars, since I see no practical advantage in making multiple (static) vars with only slightly different contents.\n",
    "\n",
    "while amount > 0:\n",
    "        amount -= 1    \n",
    "        if amount > 2:\n",
    "            print(str(amount)+\" bottles of beer on the wall, \"+str(amount)+\" bottles of beer. Take one down, pass it around, \"+str(amount-1)+\" bottles of beer on the wall.\")\n",
    "        elif amount == 2:\n",
    "            print(str(amount)+\" bottles of beer on the wall, \"+str(amount)+\" bottles of beer. Take one down, pass it around, \"+str(amount-1)+\" bottle of beer on the wall.\")\n",
    "        elif amount == 1:\n",
    "            print(str(amount)+\" bottle of beer on the wall, \"+str(amount)+\" bottle of beer. Take one down, pass it around, \"+str(amount-1)+\" bottles of beer on the wall.\")\n"
   ]
  },
  {
   "cell_type": "markdown",
   "metadata": {},
   "source": [
    "- Ex. 6: The third person singular verb form in English is distinguished by the suffix -s, which is added to the stem of the infinitive form: run -> runs. A simple set of rules can be given as follows: \"If the verb ends in y, remove it and add ies. If the verb ends in o, ch, s, sh, x or z, add es. By default just add s.\" Your task in this exercise is to write a code block which given a verb in infinitive form, prints its third person singular form. Test your function with words like \"try\", \"brush\", \"run\" and \"fix\". Can you think of verbs for which your code doesn't work? Check out the string method `.endswith()` online!\n"
   ]
  },
  {
   "cell_type": "code",
   "execution_count": 9,
   "metadata": {
    "collapsed": true
   },
   "outputs": [
    {
     "name": "stdout",
     "output_type": "stream",
     "text": [
      "Input the infinitive: to bush\n",
      "3rd person singular: bushes\n"
     ]
    }
   ],
   "source": [
    "#GRADE\n",
    "\n",
    "inf = input(\"Input the infinitive: to \")\n",
    "\n",
    "# this method won't work with modal verbs, since they do not have an infinitive to input.\n",
    "# EXTRA: code below extended to accept copulas and auxiliaries.\n",
    "\n",
    "if inf == \"be\":   \n",
    "    print(\"3rd person singular: \"+\"is\")    #auxiliary verbs/copula\n",
    "elif inf.endswith(\"have\"):    \n",
    "    print(\"3rd person singular: \"+inf.replace(\"have\",\"has\"))\n",
    "elif inf.endswith(\"do\"):\n",
    "    print(\"3rd person singular: \"+inf+\"es\")    \n",
    "elif inf.endswith(\"say\"):    \n",
    "    print(\"3rd person singular: \"+inf+\"es\")    #irregular\n",
    "elif inf.endswith(\"tch\"): \n",
    "    print(\"3rd person singular: \"+inf+\"es\")    #sibilants\n",
    "elif inf.endswith(\"ss\"): \n",
    "    print(\"3rd person singular: \"+inf+\"es\")\n",
    "elif inf.endswith(\"sh\"):\n",
    "    print(\"3rd person singular: \"+inf+\"es\")    \n",
    "elif inf.endswith(\"zz\"):\n",
    "    print(\"3rd person singular: \"+inf+\"es\")  \n",
    "elif inf.endswith(\"x\"):\n",
    "    print(\"3rd person singular: \"+inf+\"es\")\n",
    "elif inf.endswith(\"o\"):    \n",
    "    print(\"3rd person singular: \"+inf+\"es\")    #vowels\n",
    "elif inf.endswith(\"y\"):\n",
    "    print(\"3rd person singular: \"+inf.replace(\"y\",\"ies\")) \n",
    "else:\n",
    "    print(\"3rd person singular: \"+inf+\"s\")    #regular\n"
   ]
  },
  {
   "cell_type": "markdown",
   "metadata": {},
   "source": [
    "- Ex. 7: ROT13, or Caesar cipher, is a way to encode secret messages in cryptography. The name comes from Julius Caesar, who used it to communicate with his generals. ROT13 (\"rotate by 13 places\") is a widely used example of a Caesar cipher. The idea is to rotate or augment the position of each character in the alphabet with thirteen places, wrapping back to the beginning if necessary. Because the alphabet has 26 characters, the encryption is symmetric: you can map the first 13 to the last 13, and the last 13 to the first 13. Your task in this exercise is to implement an encoder/decoder of ROT13. For this, you will need to create a list containing each letter in the (lowercase) roman alphabet. Next, you create a `rot13_dict` that maps each character to its corresponding letter 13 letters up or down the alphabet. Any character that is not in the alphabet (such as spaces and punctuation marks) should be left as-is. Once you're done, you will be able to read the following secret message: `\"Pnrfne pvcure? V zhpu cersre Pnrfne fnynq!\"` (Hint: you can use `.index()` to retrieve the position of an item in a list)"
   ]
  },
  {
   "cell_type": "code",
   "execution_count": 11,
   "metadata": {},
   "outputs": [
    {
     "name": "stdout",
     "output_type": "stream",
     "text": [
      "Welcome to the ROT encryptor!\n",
      "Please insert the message you want encrypted/decrypted: zab\n",
      "Please insert your ROT key:2\n",
      "bcd\n"
     ]
    }
   ],
   "source": [
    "#GRADE\n",
    "\n",
    "alphabet = [\"a\",\"b\",\"c\",\"d\",\"e\",\"f\",\"g\",\"h\",\"i\",\"j\",\"k\",\"l\",\"m\",\"n\",\"o\",\"p\",\"q\",\"r\",\"s\",\"t\",\"u\",\"v\",\"w\",\"x\",\"y\",\"z\"]\n",
    "rot13_mapping = {}\n",
    "\n",
    "for i, letter in enumerate(alphabet):\n",
    "    if i < 13:\n",
    "        mapped_i = i + 13\n",
    "        mapped_letter = alphabet[mapped_i]\n",
    "        rot13_mapping[letter] = mapped_letter\n",
    "    else:\n",
    "        if i + 13 > 25:\n",
    "            \n"
   ]
  },
  {
   "cell_type": "markdown",
   "metadata": {},
   "source": [
    "---"
   ]
  },
  {
   "cell_type": "markdown",
   "metadata": {},
   "source": [
    "Congrats: you've reached the end of Chapter 4! Ignore the code block below; it's only here to make the page prettier."
   ]
  },
  {
   "cell_type": "code",
   "execution_count": null,
   "metadata": {
    "collapsed": true
   },
   "outputs": [],
   "source": [
    "from IPython.core.display import HTML\n",
    "def css_styling():\n",
    "    styles = open(\"styles/custom.css\", \"r\").read()\n",
    "    return HTML(styles)\n",
    "css_styling()"
   ]
  }
 ],
 "metadata": {
  "kernelspec": {
   "display_name": "Python 3",
   "language": "python",
   "name": "python3"
  },
  "language_info": {
   "codemirror_mode": {
    "name": "ipython",
    "version": 3
   },
   "file_extension": ".py",
   "mimetype": "text/x-python",
   "name": "python",
   "nbconvert_exporter": "python",
   "pygments_lexer": "ipython3",
   "version": "3.6.1"
  },
  "name": "_joined"
 },
 "nbformat": 4,
 "nbformat_minor": 1
}
