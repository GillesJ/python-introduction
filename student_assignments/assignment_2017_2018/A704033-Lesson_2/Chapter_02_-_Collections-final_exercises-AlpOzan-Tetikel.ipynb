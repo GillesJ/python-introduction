{
 "cells": [
  {
   "cell_type": "markdown",
   "metadata": {},
   "source": [
    "# Chapter 2: Collections"
   ]
  },
  {
   "cell_type": "markdown",
   "metadata": {},
   "source": [
    "## Final Exercises Chapter 2"
   ]
  },
  {
   "cell_type": "markdown",
   "metadata": {},
   "source": [
    "Inspired by *Think Python* by Allen B. Downey (http://thinkpython.com), *Introduction to Programming Using Python* by Y. Liang (Pearson, 2013). Some exercises below have been taken from: http://www.ling.gu.se/~lager/python_exercises.html."
   ]
  },
  {
   "cell_type": "markdown",
   "metadata": {},
   "source": [
    "- Ex. 1: Consider the strings `sentence1 = \"Brad and Angelina kick the bucket\"` and `sentence2 = \"Bonny and Clyde are really famous\"`. Split these strings into words and create the following strings via list manipulation: `sentence3 = \"Brad and Angelina are really famous\"` and `sentence4=\"Bonny+and+Clyde+kick+the+bucket\"` (mind the plus signs!). Can you print the middle letter of the fourth sentence?"
   ]
  },
  {
   "cell_type": "code",
   "execution_count": 5,
   "metadata": {},
   "outputs": [
    {
     "name": "stdout",
     "output_type": "stream",
     "text": [
      "['Brad', 'and', 'Angelina', 'kick', 'the', 'bucket']\n",
      "['Bonny', 'and', 'Clyde', 'are', 'really', 'famous']\n",
      "Brad and Angelina are really famous\n",
      "Bonny and Clyde kick the bucket\n",
      "Bonny+and+Clyde+kick+the+bucket\n",
      "31\n",
      "+\n"
     ]
    }
   ],
   "source": [
    "sentence1 = \"Brad and Angelina kick the bucket\"\n",
    "sentence2 = \"Bonny and Clyde are really famous\"\n",
    "print(sentence1.split(\" \"))\n",
    "print(sentence2.split(\" \"))\n",
    "#Elimde 2 liste var. \n",
    "sentence3 = sentence1.replace(\"kick the bucket\" , \"are really famous\")\n",
    "print(sentence3)\n",
    "delimiter = \"+\"\n",
    "sentence4 = sentence2.replace(\"are really famous\" , \"kick the bucket\")\n",
    "print(str(sentence4))\n",
    "new_sentence4 = sentence4.replace(\" \" , \"+\")\n",
    "print(new_sentence4)\n",
    "print(len(new_sentence4))\n",
    "list_chars = list(new_sentence4)\n",
    "#print(list_chars)\n",
    "print(list_chars[15])"
   ]
  },
  {
   "cell_type": "markdown",
   "metadata": {},
   "source": [
    "-  Ex. 2: Consider the `lookup` dictionary below. The following letters are still missing from it: `'k':'kilo', 'l':'lima', 'm':'mike'`. Add them to `lookup` one by one! Could you spell the word \"marvellous\" in code language now? Collect these codes into a list object called `msg`. Next, join the items in this list together with a comma and print the spelled out version!"
   ]
  },
  {
   "cell_type": "code",
   "execution_count": 1,
   "metadata": {},
   "outputs": [
    {
     "name": "stdout",
     "output_type": "stream",
     "text": [
      "{'a': 'alfa', 'b': 'bravo', 'c': 'charlie', 'd': 'delta', 'e': 'echo', 'f': 'foxtrot', 'g': 'golf', 'h': 'hotel', 'i': 'india', 'j': 'juliett', 'n': 'november', 'o': 'oscar', 'p': 'papa', 'q': 'quebec', 'r': 'romeo', 's': 'sierra', 't': 'tango', 'u': 'uniform', 'v': 'victor', 'w': 'whiskey', 'x': 'x-ray', 'y': 'yankee', 'z': 'zulu', 'k': 'kilo', 'l': 'lima', 'm': 'mike'}\n",
      "dict_keys(['a', 'b', 'c', 'd', 'e', 'f', 'g', 'h', 'i', 'j', 'n', 'o', 'p', 'q', 'r', 's', 't', 'u', 'v', 'w', 'x', 'y', 'z', 'k', 'l', 'm'])\n",
      "<class 'dict_keys'>\n",
      "['a', 'b', 'c', 'd', 'e', 'f', 'g', 'h', 'i', 'j', 'n', 'o', 'p', 'q', 'r', 's', 't', 'u', 'v', 'w', 'x', 'y', 'z', 'k', 'l', 'm']\n",
      "marvellous\n",
      "marvellous\n",
      "m,a,r,v,e,l,l,o,u,s\n"
     ]
    },
    {
     "data": {
      "text/plain": [
       "' \\nlookup[\"alfa\"] = \"a\"\\nlookup[\"mike\"] = \"m\"\\nlookup[\"romeo\"] = \"r\"\\nlookup[\"victor\"] = \"v\"\\nlookup[\"oscar\"] = \"o\"\\nlookup[\"uniform\"] = \"u\"\\nlookup[\"echo\"] = \"e\"\\nlookup[\"sierra\"] = \"s\"\\nlookup[\"lima\"] = \"l\"\\n\\n#print(lookup)\\n#msg = (lookup[\"mike\"] + lookup[\"alfa\"] + lookup[\"romeo\"] + lookup[\"victor\"] + lookup[\"echo\"] + lookup[\"lima\"]*2 + lookup[\"oscar\"] + lookup[\"uniform\"] + lookup[\"sierra\"])\\n#print(msg)\\n#print(len(msg))\\ndelimiter = \",\" \\nnew_msg = delimiter.join(msg)\\nprint(new_msg)\\n'"
      ]
     },
     "execution_count": 1,
     "metadata": {},
     "output_type": "execute_result"
    }
   ],
   "source": [
    "lookup = {}\n",
    "lookup = {'a':'alfa', 'b':'bravo', 'c':'charlie', 'd':'delta', 'e':'echo',\n",
    "          'f':'foxtrot', 'g':'golf', 'h':'hotel', 'i':'india', 'j':'juliett',\n",
    "          'n':'november', 'o':'oscar', 'p':'papa', 'q':'quebec', 'r':'romeo',\n",
    "          's':'sierra', 't':'tango', 'u':'uniform', 'v':'victor', 'w':'whiskey',\n",
    "          'x':'x-ray', 'y':'yankee', 'z':'zulu'} # Don't change this line\n",
    "\n",
    "\n",
    "\n",
    "lookup[\"k\"] = \"kilo\"\n",
    "lookup[\"l\"] = \"lima\"\n",
    "lookup[\"m\"] = \"mike\"\n",
    "print(lookup)\n",
    "\n",
    "\n",
    "alp = lookup.keys()\n",
    "print(alp)\n",
    "print(type(alp))\n",
    "keys = list(alp)\n",
    "print(keys)\n",
    "print(keys[25] + keys[0] + keys[14] + keys[18] + keys[4] + keys[24] + keys[24] + keys[11] + keys[17] + keys[15])\n",
    "\n",
    "msg= keys[25] + keys[0] + keys[14] + keys[18] + keys[4] + keys[24] + keys[24] + keys[11] + keys[17] + keys[15]\n",
    "print(msg)\n",
    "delimiter = \",\"\n",
    "print(delimiter.join(msg))\n",
    "\n",
    "# Below was the codethat I used at first -->\n",
    "#first, then realized that I made a mistake by re-defining things in the dictionary. --> \n",
    "#Therefore I deleted it from my code, but I will let it stay here for extra info for myself. \n",
    "\"\"\" \n",
    "lookup[\"alfa\"] = \"a\"\n",
    "lookup[\"mike\"] = \"m\"\n",
    "lookup[\"romeo\"] = \"r\"\n",
    "lookup[\"victor\"] = \"v\"\n",
    "lookup[\"oscar\"] = \"o\"\n",
    "lookup[\"uniform\"] = \"u\"\n",
    "lookup[\"echo\"] = \"e\"\n",
    "lookup[\"sierra\"] = \"s\"\n",
    "lookup[\"lima\"] = \"l\"\n",
    "\n",
    "#print(lookup)\n",
    "#msg = (lookup[\"mike\"] + lookup[\"alfa\"] + lookup[\"romeo\"] + lookup[\"victor\"] + lookup[\"echo\"] + lookup[\"lima\"]*2 + lookup[\"oscar\"] + lookup[\"uniform\"] + lookup[\"sierra\"])\n",
    "#print(msg)\n",
    "#print(len(msg))\n",
    "delimiter = \",\" \n",
    "new_msg = delimiter.join(msg)\n",
    "print(new_msg)\n",
    "\"\"\"\n"
   ]
  },
  {
   "cell_type": "markdown",
   "metadata": {},
   "source": [
    "-  Ex. 3: Collect the code terms in the lookup dict (`alpha`, `bravo`, ...) from the previous exercise into a list called `code_words`. Is this list alphabetically sorted? No? Then make sure that this list is sorted alphabetically. Now remove the items `victor`, `india` and `papa`. Append the words `pigeon` and `potato` at the end of this list. Combine this new list of items into a single string, using a semicolon as a delimiter and print this string. "
   ]
  },
  {
   "cell_type": "code",
   "execution_count": 3,
   "metadata": {},
   "outputs": [
    {
     "name": "stdout",
     "output_type": "stream",
     "text": [
      "['alfa', 'bravo', 'charlie', 'delta', 'echo', 'foxtrot', 'golf', 'hotel', 'india', 'juliett', 'november', 'oscar', 'papa', 'quebec', 'romeo', 'sierra', 'tango', 'uniform', 'victor', 'whiskey', 'x-ray', 'yankee', 'zulu', 'kilo', 'lima', 'mike']\n",
      "26\n",
      "<class 'list'>\n",
      "25\n",
      "Alp\n",
      "['alfa', 'bravo', 'charlie', 'delta', 'echo', 'foxtrot', 'golf', 'hotel', 'juliett', 'november', 'oscar', 'quebec', 'romeo', 'sierra', 'tango', 'uniform', 'whiskey', 'x-ray', 'yankee', 'zulu', 'kilo', 'lima', 'mike', 'pigeon', 'potato']\n",
      " \n",
      "alfa; bravo; charlie; delta; echo; foxtrot; golf; hotel; juliett; november; oscar; quebec; romeo; sierra; tango; uniform; whiskey; x-ray; yankee; zulu; kilo; lima; mike; pigeon; potato\n"
     ]
    }
   ],
   "source": [
    "#print(lookup.items())\n",
    "\n",
    "\n",
    "\n",
    "values = list(lookup.values())\n",
    "code_words = values\n",
    "print(values)\n",
    "print(len(values))\n",
    "print(type(values))\n",
    "values.remove(\"victor\")\n",
    "values.remove(\"india\")\n",
    "values.remove(\"papa\")\n",
    "\"\"\"\n",
    "print(len(values))\n",
    "print(values)\n",
    "print(values)\n",
    "\"\"\"\n",
    "values.append(\"pigeon\")\n",
    "values.append(\"potato\")\n",
    "print(len(values))\n",
    "\n",
    "print(\"Alp\")\n",
    "print(code_words)\n",
    "print(\" \")\n",
    "\n",
    "\n",
    "\n",
    "delimiter = \"; \"\n",
    "new_string = (delimiter.join(code_words))\n",
    "print(new_string)\n",
    "\n",
    "\n",
    "\n",
    "\n",
    "#### New string is just the name of the combination of the delimiter and our edited code_words string. "
   ]
  },
  {
   "cell_type": "markdown",
   "metadata": {},
   "source": [
    "-----------------------------------------------------------------\n",
    "\n",
    "You've reached the end of Chapter 2! Ignore the code block below -- it's only there to make the page prettier."
   ]
  },
  {
   "cell_type": "code",
   "execution_count": null,
   "metadata": {
    "collapsed": true
   },
   "outputs": [],
   "source": [
    "from IPython.core.display import HTML\n",
    "def css_styling():\n",
    "    styles = open(\"styles/custom.css\", \"r\").read()\n",
    "    return HTML(styles)\n",
    "css_styling()"
   ]
  }
 ],
 "metadata": {
  "kernelspec": {
   "display_name": "Python 3",
   "language": "python",
   "name": "python3"
  },
  "language_info": {
   "codemirror_mode": {
    "name": "ipython",
    "version": 3
   },
   "file_extension": ".py",
   "mimetype": "text/x-python",
   "name": "python",
   "nbconvert_exporter": "python",
   "pygments_lexer": "ipython3",
   "version": "3.6.1"
  }
 },
 "nbformat": 4,
 "nbformat_minor": 1
}
