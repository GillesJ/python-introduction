{
 "cells": [
  {
   "cell_type": "markdown",
   "metadata": {},
   "source": [
    "# Chapter 2: Collections"
   ]
  },
  {
   "cell_type": "markdown",
   "metadata": {},
   "source": [
    "## Final Exercises Chapter 2"
   ]
  },
  {
   "cell_type": "markdown",
   "metadata": {},
   "source": [
    "Inspired by *Think Python* by Allen B. Downey (http://thinkpython.com), *Introduction to Programming Using Python* by Y. Liang (Pearson, 2013). Some exercises below have been taken from: http://www.ling.gu.se/~lager/python_exercises.html."
   ]
  },
  {
   "cell_type": "markdown",
   "metadata": {},
   "source": [
    "- Ex. 1: Consider the strings `sentence1 = \"Brad and Angelina kick the bucket\"` and `sentence2 = \"Bonny and Clyde are really famous\"`. Split these strings into words and create the following strings via list manipulation: `sentence3 = \"Brad and Angelina are really famous\"` and `sentence4=\"Bonny+and+Clyde+kick+the+bucket\"` (mind the plus signs!). Can you print the middle letter of the fourth sentence?"
   ]
  },
  {
   "cell_type": "code",
   "execution_count": 1,
   "metadata": {},
   "outputs": [
    {
     "name": "stdout",
     "output_type": "stream",
     "text": [
      "['Brad', 'and', 'Angelina', 'kick', 'the', 'bucket']\n",
      "['Bonny', 'and', 'Clyde', 'are', 'really', 'famous']\n",
      "Brad and Angelina are really famous\n",
      "Bonny+and+Clyde+kick+the+bucket\n",
      "31\n",
      "+\n"
     ]
    }
   ],
   "source": [
    "# sentences\n",
    "sentence1 = \"Brad and Angelina kick the bucket\"\n",
    "words1 = sentence1.split()\n",
    "print(words1)\n",
    "sentence2 = \"Bonny and Clyde are really famous\"\n",
    "words2 = sentence2.split()\n",
    "print(words2)\n",
    "sentence3_1 = \" \".join(words1[:3])\n",
    "sentence3_2 = \" \".join(words2[3:])\n",
    "sentence3= sentence3_1 + \" \" + sentence3_2\n",
    "print(sentence3)\n",
    "sentence4_1 = \"+\".join(words2[:3])\n",
    "sentence4_2 = \"+\".join(words1[3:])\n",
    "sentence4= sentence4_1 + \"+\" + sentence4_2\n",
    "print(sentence4)\n",
    "print(len(sentence4))\n",
    "middle_letter = sentence4[15]\n",
    "print(middle_letter)"
   ]
  },
  {
   "cell_type": "markdown",
   "metadata": {},
   "source": [
    "-  Ex. 2: Consider the `lookup` dictionary below. The following letters are still missing from it: `'k':'kilo', 'l':'lima', 'm':'mike'`. Add them to `lookup` one by one! Could you spell the word \"marvellous\" in code language now? Collect these codes into a list object called `msg`. Next, join the items in this list together with a comma and print the spelled out version!"
   ]
  },
  {
   "cell_type": "code",
   "execution_count": 2,
   "metadata": {},
   "outputs": [
    {
     "name": "stdout",
     "output_type": "stream",
     "text": [
      "{'a': 'alfa', 'b': 'bravo', 'c': 'charlie', 'd': 'delta', 'e': 'echo', 'f': 'foxtrot', 'g': 'golf', 'h': 'hotel', 'i': 'india', 'j': 'juliett', 'n': 'november', 'o': 'oscar', 'p': 'papa', 'q': 'quebec', 'r': 'romeo', 's': 'sierra', 't': 'tango', 'u': 'uniform', 'v': 'victor', 'w': 'whiskey', 'x': 'x-ray', 'y': 'yankee', 'z': 'zulu', 'k': 'kilo', 'l': 'lima', 'm': 'mike'}\n",
      "['mike', 'alfa', 'romeo', 'victor', 'echo', 'lima', 'lima', 'oscar', 'uniform', 'sierra']\n",
      "mike, alfa, romeo, victor, echo, lima, lima, oscar, uniform, sierra\n"
     ]
    }
   ],
   "source": [
    "# lookup code\n",
    "lookup = {'a':'alfa', 'b':'bravo', 'c':'charlie', 'd':'delta', 'e':'echo',\n",
    "          'f':'foxtrot', 'g':'golf', 'h':'hotel', 'i':'india', 'j':'juliett',\n",
    "          'n':'november', 'o':'oscar', 'p':'papa', 'q':'quebec', 'r':'romeo',\n",
    "          's':'sierra', 't':'tango', 'u':'uniform', 'v':'victor', 'w':'whiskey',\n",
    "          'x':'x-ray', 'y':'yankee', 'z':'zulu'} # Don't change this line\n",
    "\n",
    "lookup['k']='kilo'\n",
    "lookup['l'] ='lima'\n",
    "lookup['m'] ='mike'\n",
    "print(lookup)\n",
    "\n",
    "msg = [lookup[\"m\"], lookup[\"a\"], lookup[\"r\"], lookup[\"v\"], lookup[\"e\"], lookup[\"l\"], lookup[\"l\"], lookup[\"o\"], lookup[\"u\"], lookup[\"s\"]]\n",
    "print(msg)\n",
    "print(\", \".join(msg))"
   ]
  },
  {
   "cell_type": "markdown",
   "metadata": {},
   "source": [
    "-  Ex. 3: Collect the code terms in the lookup dict (`alpha`, `bravo`, ...) from the previous exercise into a list called `code_words`. Is this list alphabetically sorted? No? Then make sure that this list is sorted alphabetically. Now remove the items `victor`, `india` and `papa`. Append the words `pigeon` and `potato` at the end of this list. Combine this new list of items into a single string, using a semicolon as a delimiter and print this string. "
   ]
  },
  {
   "cell_type": "code",
   "execution_count": 3,
   "metadata": {},
   "outputs": [
    {
     "name": "stdout",
     "output_type": "stream",
     "text": [
      "['alfa', 'bravo', 'charlie', 'delta', 'echo', 'foxtrot', 'golf', 'hotel', 'india', 'juliett', 'kilo', 'lima', 'mike', 'november', 'oscar', 'papa', 'quebec', 'romeo', 'sierra', 'tango', 'uniform', 'victor', 'whiskey', 'x-ray', 'yankee', 'zulu']\n",
      "['alfa', 'bravo', 'charlie', 'delta', 'echo', 'foxtrot', 'golf', 'hotel', 'juliett', 'kilo', 'lima', 'mike', 'november', 'oscar', 'quebec', 'romeo', 'sierra', 'tango', 'uniform', 'whiskey', 'x-ray', 'yankee', 'zulu']\n",
      "['alfa', 'bravo', 'charlie', 'delta', 'echo', 'foxtrot', 'golf', 'hotel', 'juliett', 'kilo', 'lima', 'mike', 'november', 'oscar', 'quebec', 'romeo', 'sierra', 'tango', 'uniform', 'whiskey', 'x-ray', 'yankee', 'zulu', 'pigeon', 'potato']\n",
      "alfa; bravo; charlie; delta; echo; foxtrot; golf; hotel; juliett; kilo; lima; mike; november; oscar; quebec; romeo; sierra; tango; uniform; whiskey; x-ray; yankee; zulu; pigeon; potato\n"
     ]
    }
   ],
   "source": [
    "# follow-up lookup code\n",
    "code_words = list(lookup.values()) \n",
    "code_words = sorted(code_words)\n",
    "print(code_words)\n",
    "\n",
    "code_words.remove(\"victor\")\n",
    "code_words.remove(\"india\")\n",
    "code_words.remove(\"papa\")\n",
    "print(code_words)\n",
    "\n",
    "code_words.append(\"pigeon\")\n",
    "code_words.append(\"potato\")\n",
    "print(code_words)\n",
    "print(\"; \".join(code_words))"
   ]
  },
  {
   "cell_type": "markdown",
   "metadata": {},
   "source": [
    "-----------------------------------------------------------------\n",
    "\n",
    "You've reached the end of Chapter 2! Ignore the code block below -- it's only there to make the page prettier."
   ]
  },
  {
   "cell_type": "code",
   "execution_count": null,
   "metadata": {
    "collapsed": true
   },
   "outputs": [],
   "source": [
    "from IPython.core.display import HTML\n",
    "def css_styling():\n",
    "    styles = open(\"styles/custom.css\", \"r\").read()\n",
    "    return HTML(styles)\n",
    "css_styling()"
   ]
  }
 ],
 "metadata": {
  "kernelspec": {
   "display_name": "Python 3",
   "language": "python",
   "name": "python3"
  },
  "language_info": {
   "codemirror_mode": {
    "name": "ipython",
    "version": 3
   },
   "file_extension": ".py",
   "mimetype": "text/x-python",
   "name": "python",
   "nbconvert_exporter": "python",
   "pygments_lexer": "ipython3",
   "version": "3.6.1"
  }
 },
 "nbformat": 4,
 "nbformat_minor": 1
}
