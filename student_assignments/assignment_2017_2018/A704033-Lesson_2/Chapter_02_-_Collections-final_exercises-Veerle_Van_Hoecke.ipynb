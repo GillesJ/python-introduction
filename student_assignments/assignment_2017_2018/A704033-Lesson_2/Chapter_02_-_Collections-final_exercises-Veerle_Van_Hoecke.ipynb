{
 "cells": [
  {
   "cell_type": "markdown",
   "metadata": {},
   "source": [
    "# Chapter 2: Collections"
   ]
  },
  {
   "cell_type": "markdown",
   "metadata": {},
   "source": [
    "## Final Exercises Chapter 2"
   ]
  },
  {
   "cell_type": "markdown",
   "metadata": {},
   "source": [
    "Inspired by *Think Python* by Allen B. Downey (http://thinkpython.com), *Introduction to Programming Using Python* by Y. Liang (Pearson, 2013). Some exercises below have been taken from: http://www.ling.gu.se/~lager/python_exercises.html."
   ]
  },
  {
   "cell_type": "markdown",
   "metadata": {},
   "source": [
    "- Ex. 1: Consider the strings `sentence1 = \"Brad and Angelina kick the bucket\"` and `sentence2 = \"Bonny and Clyde are really famous\"`. Split these strings into words and create the following strings via list manipulation: `sentence3 = \"Brad and Angelina are really famous\"` and `sentence4=\"Bonny+and+Clyde+kick+the+bucket\"` (mind the plus signs!). Can you print the middle letter of the fourth sentence?"
   ]
  },
  {
   "cell_type": "code",
   "execution_count": 1,
   "metadata": {},
   "outputs": [
    {
     "name": "stdout",
     "output_type": "stream",
     "text": [
      "Brad and Angelina are really famous\n",
      "Bonny+and+Clyde+kick+the+bucket\n",
      "k\n"
     ]
    }
   ],
   "source": [
    "# sentence3\n",
    "sentence1 = \"Brad and Angelina kick the bucket\"\n",
    "sentence2 = \"Bonny and Clyde are really famous\"\n",
    "new1 = sentence1.split()\n",
    "new2 = sentence2.split()\n",
    "sentence3 = new1[0:3] + new2[-3:]\n",
    "print(\" \".join(sentence3))\n",
    "\n",
    "#sentence4\n",
    "sentence4 = new2[0:3] + new1[-3:]\n",
    "joined_sentence4 = \"+\".join(sentence4)\n",
    "print(joined_sentence4)\n",
    "print(joined_sentence4[16])\n"
   ]
  },
  {
   "cell_type": "markdown",
   "metadata": {},
   "source": [
    "-  Ex. 2: Consider the `lookup` dictionary below. The following letters are still missing from it: `'k':'kilo', 'l':'lima', 'm':'mike'`. Add them to `lookup` one by one! Could you spell the word \"marvellous\" in code language now? Collect these codes into a list object called `msg`. Next, join the items in this list together with a comma and print the spelled out version!"
   ]
  },
  {
   "cell_type": "code",
   "execution_count": 2,
   "metadata": {},
   "outputs": [
    {
     "name": "stdout",
     "output_type": "stream",
     "text": [
      "{'a': 'alfa', 'b': 'bravo', 'c': 'charlie', 'd': 'delta', 'e': 'echo', 'f': 'foxtrot', 'g': 'golf', 'h': 'hotel', 'i': 'india', 'j': 'juliett', 'n': 'november', 'o': 'oscar', 'p': 'papa', 'q': 'quebec', 'r': 'romeo', 's': 'sierra', 't': 'tango', 'u': 'uniform', 'v': 'victor', 'w': 'whiskey', 'x': 'x-ray', 'y': 'yankee', 'z': 'zulu', 'k': 'kilo', 'l': 'lima', 'm': 'mike'}\n",
      "dict_keys(['a', 'b', 'c', 'd', 'e', 'f', 'g', 'h', 'i', 'j', 'n', 'o', 'p', 'q', 'r', 's', 't', 'u', 'v', 'w', 'x', 'y', 'z', 'k', 'l', 'm'])\n",
      "['a', 'b', 'c', 'd', 'e', 'f', 'g', 'h', 'i', 'j', 'n', 'o', 'p', 'q', 'r', 's', 't', 'u', 'v', 'w', 'x', 'y', 'z', 'k', 'l', 'm']\n",
      "marvellous\n"
     ]
    }
   ],
   "source": [
    "# lookup code\n",
    "lookup = {'a':'alfa', 'b':'bravo', 'c':'charlie', 'd':'delta', 'e':'echo',\n",
    "          'f':'foxtrot', 'g':'golf', 'h':'hotel', 'i':'india', 'j':'juliett',\n",
    "          'n':'november', 'o':'oscar', 'p':'papa', 'q':'quebec', 'r':'romeo',\n",
    "          's':'sierra', 't':'tango', 'u':'uniform', 'v':'victor', 'w':'whiskey',\n",
    "          'x':'x-ray', 'y':'yankee', 'z':'zulu'} # Don't change this line\n",
    "\n",
    "#adding entries to a dictionary\n",
    "lookup[\"k\"] = \"kilo\"\n",
    "lookup[\"l\"] = \"lima\"\n",
    "lookup[\"m\"] = \"mike\"\n",
    "print(lookup)\n",
    "\n",
    "#spell marvellous\n",
    "keys = lookup.keys()\n",
    "print(keys)\n",
    "dict_list = list(keys)\n",
    "print(dict_list)\n",
    "msg = (dict_list[-1], dict_list[0], dict_list[14], dict_list[18], dict_list[4], dict_list[-2], dict_list[-2], dict_list[11], dict_list[17], dict_list[15])\n",
    "print(\"\".join(msg))"
   ]
  },
  {
   "cell_type": "code",
   "execution_count": 3,
   "metadata": {},
   "outputs": [
    {
     "name": "stdout",
     "output_type": "stream",
     "text": [
      "{'a': 'alfa', 'b': 'bravo', 'c': 'charlie', 'd': 'delta', 'e': 'echo', 'f': 'foxtrot', 'g': 'golf', 'h': 'hotel', 'i': 'india', 'j': 'juliett', 'n': 'november', 'o': 'oscar', 'p': 'papa', 'q': 'quebec', 'r': 'romeo', 's': 'sierra', 't': 'tango', 'u': 'uniform', 'v': 'victor', 'w': 'whiskey', 'x': 'x-ray', 'y': 'yankee', 'z': 'zulu', 'k': 'kilo', 'l': 'lima', 'm': 'mike'}\n"
     ]
    }
   ],
   "source": [
    "# lookup code\n",
    "lookup = {'a':'alfa', 'b':'bravo', 'c':'charlie', 'd':'delta', 'e':'echo',\n",
    "          'f':'foxtrot', 'g':'golf', 'h':'hotel', 'i':'india', 'j':'juliett',\n",
    "          'n':'november', 'o':'oscar', 'p':'papa', 'q':'quebec', 'r':'romeo',\n",
    "          's':'sierra', 't':'tango', 'u':'uniform', 'v':'victor', 'w':'whiskey',\n",
    "          'x':'x-ray', 'y':'yankee', 'z':'zulu'} # Don't change this line\n",
    "\n",
    "lookup[\"k\"] = \"kilo\"\n",
    "lookup[\"l\"] = \"lima\"\n",
    "lookup[\"m\"] = \"mike\"\n",
    "print(lookup)"
   ]
  },
  {
   "cell_type": "markdown",
   "metadata": {},
   "source": [
    "-  Ex. 3: Collect the code terms in the lookup dict (`alpha`, `bravo`, ...) from the previous exercise into a list called `code_words`. Is this list alphabetically sorted? No? Then make sure that this list is sorted alphabetically. Now remove the items `victor`, `india` and `papa`. Append the words `pigeon` and `potato` at the end of this list. Combine this new list of items into a single string, using a semicolon as a delimiter and print this string. "
   ]
  },
  {
   "cell_type": "code",
   "execution_count": 4,
   "metadata": {},
   "outputs": [
    {
     "name": "stdout",
     "output_type": "stream",
     "text": [
      "['alfa', 'bravo', 'charlie', 'delta', 'echo', 'foxtrot', 'golf', 'hotel', 'india', 'juliett', 'november', 'oscar', 'papa', 'quebec', 'romeo', 'sierra', 'tango', 'uniform', 'victor', 'whiskey', 'x-ray', 'yankee', 'zulu', 'kilo', 'lima', 'mike']\n",
      "['alfa', 'bravo', 'charlie', 'delta', 'echo', 'foxtrot', 'golf', 'hotel', 'india', 'juliett', 'kilo', 'lima', 'mike', 'november', 'oscar', 'papa', 'quebec', 'romeo', 'sierra', 'tango', 'uniform', 'victor', 'whiskey', 'x-ray', 'yankee', 'zulu']\n",
      "['alfa', 'bravo', 'charlie', 'delta', 'echo', 'foxtrot', 'golf', 'hotel', 'juliett', 'november', 'oscar', 'quebec', 'romeo', 'sierra', 'tango', 'uniform', 'whiskey', 'x-ray', 'yankee', 'zulu', 'kilo', 'lima', 'mike']\n",
      "alfa;bravo;charlie;delta;echo;foxtrot;golf;hotel;juliett;november;oscar;quebec;romeo;sierra;tango;uniform;whiskey;x-ray;yankee;zulu;kilo;lima;mike;pigeon;potato\n"
     ]
    }
   ],
   "source": [
    "# follow-up lookup code - .values() and sorted()\n",
    "code_words = list(lookup.values())\n",
    "print(code_words)\n",
    "print(sorted(code_words))\n",
    "\n",
    "#removing items from a list\n",
    "code_words.remove(\"victor\")\n",
    "code_words.remove(\"india\")\n",
    "code_words.remove(\"papa\")\n",
    "print(code_words)\n",
    "\n",
    "#appending items to a list\n",
    "code_words.append(\"pigeon\")\n",
    "code_words.append(\"potato\")\n",
    "\n",
    "#joining items from a list into a string with a delimiter\n",
    "print(str(\";\".join(code_words)))"
   ]
  },
  {
   "cell_type": "code",
   "execution_count": null,
   "metadata": {
    "collapsed": true
   },
   "outputs": [],
   "source": []
  },
  {
   "cell_type": "markdown",
   "metadata": {},
   "source": [
    "-----------------------------------------------------------------\n",
    "\n",
    "You've reached the end of Chapter 2! Ignore the code block below -- it's only there to make the page prettier."
   ]
  },
  {
   "cell_type": "code",
   "execution_count": null,
   "metadata": {
    "collapsed": true
   },
   "outputs": [],
   "source": [
    "from IPython.core.display import HTML\n",
    "def css_styling():\n",
    "    styles = open(\"styles/custom.css\", \"r\").read()\n",
    "    return HTML(styles)\n",
    "css_styling()"
   ]
  }
 ],
 "metadata": {
  "kernelspec": {
   "display_name": "Python 3",
   "language": "python",
   "name": "python3"
  },
  "language_info": {
   "codemirror_mode": {
    "name": "ipython",
    "version": 3
   },
   "file_extension": ".py",
   "mimetype": "text/x-python",
   "name": "python",
   "nbconvert_exporter": "python",
   "pygments_lexer": "ipython3",
   "version": "3.6.1"
  }
 },
 "nbformat": 4,
 "nbformat_minor": 1
}
