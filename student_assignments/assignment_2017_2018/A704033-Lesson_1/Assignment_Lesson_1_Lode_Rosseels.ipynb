{
 "cells": [
  {
   "cell_type": "markdown",
   "metadata": {},
   "source": [
    "# Final Exercises Chapter 1: Variables"
   ]
  },
  {
   "cell_type": "markdown",
   "metadata": {},
   "source": [
    "##### MPTP: Lode Rosseels"
   ]
  },
  {
   "cell_type": "markdown",
   "metadata": {},
   "source": [
    "## Final Exercises Chapter 1"
   ]
  },
  {
   "cell_type": "raw",
   "metadata": {},
   "source": [
    "Inspired by *Think Python* by Allen B. Downey (http://thinkpython.com), *Introduction to Programming Using Python* by Y. Liang (Pearson, 2013). Some exercises below have been taken from: http://www.ling.gu.se/~lager/python_exercises.html.\n",
    "\n",
    "Submit your solutions to exercises 1 to 9 by pasting a screen shot of your code and the output in one text file. Exercise 8 is optional for extra credit."
   ]
  },
  {
   "cell_type": "markdown",
   "metadata": {},
   "source": [
    "-  Ex. 1: Suppose the cover price of a book is 24.95 EUR, but bookstores get a 40 percent discount. Shipping costs 3 EUR for the first copy and 75 cents for each additional copy. What is the total wholesale cost for 60 copies? As an extra challenge, try printing the result in a pretty fashion, using casting where necessary!"
   ]
  },
  {
   "cell_type": "code",
   "execution_count": 1,
   "metadata": {},
   "outputs": [
    {
     "name": "stdout",
     "output_type": "stream",
     "text": [
      "What is the cover price of the book you want to order? 24.95\n",
      "How many items would you like to order? 60\n",
      "(As a retailer, you have a discount of 40 %)\n",
      "(Initial shipping costs € 3 , and subsequent items cost € 0.75 /piece)\n",
      "--> The total price for the indicated purchase is € 945.45\n"
     ]
    }
   ],
   "source": [
    "#input\n",
    "cover_price = input(\"What is the cover price of the book you want to order? \")         \n",
    "amount = input(\"How many items would you like to order? \")     \n",
    "discount = 0.4\n",
    "initial_shipping = 3\n",
    "subsequent_shipping = 0.75\n",
    "\n",
    "#calculations\n",
    "total_shipping_cost = initial_shipping + ((float(amount) - 1) * subsequent_shipping)\n",
    "import_price = float(amount) * (float(cover_price) - (float(cover_price) * discount))\n",
    "total_price = import_price + total_shipping_cost\n",
    "\n",
    "#output\n",
    "discount_percent = int(discount * 100)\n",
    "total_price = str(round(total_price, 2))                        \n",
    "\n",
    "print(\"(As a retailer, you have a discount of\",discount_percent,\"%)\")\n",
    "print(\"(Initial shipping costs €\",initial_shipping,\", and subsequent items cost €\",subsequent_shipping,\"/piece)\")\n",
    "print(\"--> The total price for the indicated purchase is €\",total_price)"
   ]
  },
  {
   "cell_type": "markdown",
   "metadata": {},
   "source": [
    "-  Ex. 2: Can you identify and explain the errors in the following lines of code? Correct them please!"
   ]
  },
  {
   "cell_type": "code",
   "execution_count": 17,
   "metadata": {},
   "outputs": [
    {
     "name": "stdout",
     "output_type": "stream",
     "text": [
      "Python throws a SyntaxError\n",
      "The first line contains a period after the print function, confusing the script\n",
      "The second line is missing a closing quotation mark of the same type, leaving the rest of the code as an 'open' string\n",
      "The third line has a pair of single quotation marks and functions correctly, but contains a superfluous quotation mark and f\n"
     ]
    }
   ],
   "source": [
    "#print(\"A message\").\n",
    "#print(\"A message')\n",
    "#print('A messagef\"')\n",
    "print(\"Python throws a SyntaxError\")\n",
    "print(\"The first line contains a period after the print function, confusing the script\")\n",
    "print(\"The second line is missing a closing quotation mark of the same type, leaving the rest of the code as an 'open' string\")\n",
    "print(\"The third line has a pair of single quotation marks and functions correctly, but contains a superfluous quotation mark and f\")"
   ]
  },
  {
   "cell_type": "markdown",
   "metadata": {},
   "source": [
    "-  Ex. 3: When something is wrong with your code, Python will raise errors. Often these will be 'syntax errors' that signal that something is wrong with the form of your code (i.e. a `SyntaxError` like the one thrown in the previous exercise). There are also 'runtime errors' that signal that your code was in itself formally correct, but that something went wrong during the code's execution. A good example is the `ZeroDivisionError`. Try to make Python throw such a ZeroDivisionError! (Hint: it has to do with the fact that you cannot divide a number by zero)"
   ]
  },
  {
   "cell_type": "code",
   "execution_count": 5,
   "metadata": {},
   "outputs": [
    {
     "name": "stdout",
     "output_type": "stream",
     "text": [
      "Insert integer value from the first column 15\n",
      "The corresponding value in the second column is 0...0\n"
     ]
    },
    {
     "ename": "ZeroDivisionError",
     "evalue": "division by zero",
     "output_type": "error",
     "traceback": [
      "\u001b[1;31m---------------------------------------------------------------------------\u001b[0m",
      "\u001b[1;31mZeroDivisionError\u001b[0m                         Traceback (most recent call last)",
      "\u001b[1;32m<ipython-input-5-6289c784fc29>\u001b[0m in \u001b[0;36m<module>\u001b[1;34m()\u001b[0m\n\u001b[0;32m      8\u001b[0m \u001b[0mnumber2\u001b[0m \u001b[1;33m=\u001b[0m \u001b[0minput\u001b[0m\u001b[1;33m(\u001b[0m\u001b[1;34m\"The corresponding value in the second column is 0...\"\u001b[0m\u001b[1;33m)\u001b[0m   \u001b[1;31m#input 0\u001b[0m\u001b[1;33m\u001b[0m\u001b[0m\n\u001b[0;32m      9\u001b[0m \u001b[1;33m\u001b[0m\u001b[0m\n\u001b[1;32m---> 10\u001b[1;33m \u001b[0mresult\u001b[0m \u001b[1;33m=\u001b[0m \u001b[0mint\u001b[0m\u001b[1;33m(\u001b[0m\u001b[0mnumber1\u001b[0m\u001b[1;33m)\u001b[0m \u001b[1;33m/\u001b[0m \u001b[0mint\u001b[0m\u001b[1;33m(\u001b[0m\u001b[0mnumber2\u001b[0m\u001b[1;33m)\u001b[0m\u001b[1;33m\u001b[0m\u001b[0m\n\u001b[0m\u001b[0;32m     11\u001b[0m \u001b[0mprint\u001b[0m \u001b[1;33m(\u001b[0m\u001b[0mresult\u001b[0m\u001b[1;33m)\u001b[0m\u001b[1;33m\u001b[0m\u001b[0m\n",
      "\u001b[1;31mZeroDivisionError\u001b[0m: division by zero"
     ]
    }
   ],
   "source": [
    "\"\"\"(real life scenario:\n",
    "readability scores for an original and edited text are stored in two columns of an excel sheet\n",
    "the y axis contains parameters, the x axis contains the original (higher values) and edited text (lower values) columns\n",
    "to calculate the improvement ratio, I divide the first column by the corresponding value in the second column \n",
    "I use my computer's calculator, and I input the following)\"\"\"\n",
    "\n",
    "number1 = input(\"Insert integer value from the first column \")\n",
    "number2 = input(\"The corresponding value in the second column is 0...\")   #input 0\n",
    "\n",
    "result = int(number1) / int(number2)\n",
    "print (result)"
   ]
  },
  {
   "cell_type": "markdown",
   "metadata": {},
   "source": [
    "- Ex. 4: Write a program that assigns the result of `9.5 * 4.5 - 2.5 * 345.5 - 3.5` to a variable. Print this variable. Use round brackets to indicate 'operator precedence' and make sure that subtractions are performed before multiplications. Print the new result. When you convert the outcome to a string, how many characters does it count? Print that too."
   ]
  },
  {
   "cell_type": "code",
   "execution_count": 6,
   "metadata": {},
   "outputs": [
    {
     "name": "stdout",
     "output_type": "stream",
     "text": [
      "original result = -824.5\n",
      "new result = 6498.0\n",
      "new result length = 6 characters\n"
     ]
    }
   ],
   "source": [
    "variable = 9.5 * 4.5 - 2.5 * 345.5 - 3.5\n",
    "print (\"original result =\",variable)\n",
    "variable2 = 9.5 * (4.5 - 2.5) * (345.5 - 3.5)\n",
    "print (\"new result =\",variable2)\n",
    "print (\"new result length =\",len(str(variable2)),\"characters\")"
   ]
  },
  {
   "cell_type": "markdown",
   "metadata": {},
   "source": [
    "-  Ex. 5: Define three variables `var1`, `var2` and `var3`. Calculate the average of these variables and assign it to `average`. Print the result in a fancy manner. Add three comments to this piece of code using three different ways."
   ]
  },
  {
   "cell_type": "code",
   "execution_count": 7,
   "metadata": {},
   "outputs": [
    {
     "name": "stdout",
     "output_type": "stream",
     "text": [
      "The average of the submitted values is 596.0\n"
     ]
    }
   ],
   "source": [
    "#variables\n",
    "var1 = 623\n",
    "var2 = 554\n",
    "var3 = 611\n",
    "\n",
    "average = (var1 + var2 + var3) /3  #calculation\n",
    "\"\"\"Lorem ipsum dolor sit amet, \n",
    "consectetur adipiscing elit ...\"\"\"\n",
    "\n",
    "print (\"The average of the submitted values is\",average)"
   ]
  },
  {
   "cell_type": "markdown",
   "metadata": {},
   "source": [
    "-  Ex. 6: Write a little program that can compute the surface of a circle, using the variables `radius` and `pi=3.14159`. The formula is of course radius, multiplied by radius, multiplied by `pi`. Print the outcome of your program as follows: 'The surface area of a circle with radius ... is: ...'."
   ]
  },
  {
   "cell_type": "code",
   "execution_count": 8,
   "metadata": {},
   "outputs": [
    {
     "name": "stdout",
     "output_type": "stream",
     "text": [
      "The surface area of a circle with radius 15 is: 706.86\n"
     ]
    }
   ],
   "source": [
    "radius = 15\n",
    "pi = 3.14159\n",
    "\n",
    "surface = radius * radius * pi\n",
    "\n",
    "surface = str(round(surface, 2))\n",
    "print (\"The surface area of a circle with radius\",radius,\"is:\",surface)"
   ]
  },
  {
   "cell_type": "markdown",
   "metadata": {},
   "source": [
    "To make things even more interactive, you can ask the user of the program to input the radius. Since this input is a string, you will need to cast it as an integer before doing calculations with it. Try adding your code from above to the code below and see if you can get it to work interactively."
   ]
  },
  {
   "cell_type": "code",
   "execution_count": 9,
   "metadata": {},
   "outputs": [
    {
     "name": "stdout",
     "output_type": "stream",
     "text": [
      "What is the radius? 15\n",
      "The surface area of a circle with radius 15 is: 706.86\n"
     ]
    }
   ],
   "source": [
    "radius = input(\"What is the radius? \")\n",
    "radius = int(radius) \n",
    "\n",
    "surface = radius * radius * pi\n",
    "\n",
    "surface = str(round(surface, 2))\n",
    "print (\"The surface area of a circle with radius\",radius,\"is:\",surface)\n"
   ]
  },
  {
   "cell_type": "markdown",
   "metadata": {},
   "source": [
    "- Ex. 7: Get help online. There is one operator (like the ones for multiplication and subtraction) that we did not mention yet, namely the modulus operator `%`. Could you figure by yourself what it does when you place it between two numbers (e.g. 113 % 9)? If not, ask Google for help."
   ]
  },
  {
   "cell_type": "code",
   "execution_count": 12,
   "metadata": {},
   "outputs": [
    {
     "name": "stdout",
     "output_type": "stream",
     "text": [
      "Given: 113 % 9 = 5\n",
      "First instinct: has something to do with 113/9; but the outcome of that is 12.555555555555555 ...\n",
      "That number is a float, which means that 113 isn't a multiple of 9. What are the closest multiples, then?\n",
      "99 (11*9), and 108 (12*9) are the closest (and obviously integer) multiples.\n",
      "Wait a minute... 113 - 108 = 5!\n",
      "BINGO! --> Modulus returns the value that is left over when the first argument is divided by the second!\n"
     ]
    }
   ],
   "source": [
    "modulus_var = 113%9\n",
    "test_var = 113/9\n",
    "\n",
    "print (\"Given: 113 % 9 =\",modulus_var)\n",
    "print (\"First instinct: has something to do with 113/9; but the outcome of that is\",test_var,\"...\")\n",
    "print (\"That number is a float, which means that 113 isn't a multiple of 9. What are the closest multiples, then?\")\n",
    "print (\"99 (11*9), and 108 (12*9) are the closest (and obviously integer) multiples.\")\n",
    "print (\"Wait a minute... 113 - 108 = 5!\")\n",
    "print (\"BINGO! --> Modulus returns the value that is left over when the first argument is divided by the second!\")"
   ]
  },
  {
   "cell_type": "markdown",
   "metadata": {},
   "source": [
    "- Ex. 8: As happens very often, we make mistakes and Python raises errors. Correct all the errors in the following block of code. "
   ]
  },
  {
   "cell_type": "code",
   "execution_count": 13,
   "metadata": {},
   "outputs": [
    {
     "name": "stdout",
     "output_type": "stream",
     "text": [
      "Marie and Jozef have two children, Bert and An. Between the two children there is a difference of age of 3 years.\n"
     ]
    }
   ],
   "source": [
    "child1 = \"Bert\"         \n",
    "child2 = \"An\"\n",
    "age_child1 = 5          # inconsistent use of quote marks\n",
    "age_child2 = 2          # variables concatenate using \"+\", leaving no spaces\n",
    "                        # variables cannot concatenate values and strings -> str()\n",
    "mother = \"Marie\"        # the print function displays arguments separated by \",\", leaving spaces inbetween   \n",
    "father = \"Jozef\"\n",
    "\n",
    "message1 = mother + \" and \" + father + \" have two children, \" + child1 + \" and \" + child2 + \".\"\n",
    "message2 = \"Between the two children there is a difference of age of \" + str(age_child1-age_child2) + \" years.\"\n",
    "print (message1, message2)\n"
   ]
  },
  {
   "cell_type": "markdown",
   "metadata": {},
   "source": [
    "-----------------------\n",
    "\n",
    "You've reached the end of Chapter 1! You can safely ignore the code block below -- it's only there to make the page prettier."
   ]
  },
  {
   "cell_type": "code",
   "execution_count": null,
   "metadata": {
    "collapsed": true
   },
   "outputs": [],
   "source": [
    "from IPython.core.display import HTML\n",
    "def css_styling():\n",
    "    styles = open(\"styles/custom.css\", \"r\").read()\n",
    "    return HTML(styles)\n",
    "css_styling()"
   ]
  },
  {
   "cell_type": "code",
   "execution_count": null,
   "metadata": {
    "collapsed": true
   },
   "outputs": [],
   "source": []
  }
 ],
 "metadata": {
  "kernelspec": {
   "display_name": "Python 3",
   "language": "python",
   "name": "python3"
  },
  "language_info": {
   "codemirror_mode": {
    "name": "ipython",
    "version": 3
   },
   "file_extension": ".py",
   "mimetype": "text/x-python",
   "name": "python",
   "nbconvert_exporter": "python",
   "pygments_lexer": "ipython3",
   "version": "3.6.1"
  }
 },
 "nbformat": 4,
 "nbformat_minor": 1
}
