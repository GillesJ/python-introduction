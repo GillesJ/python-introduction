{
 "cells": [
  {
   "cell_type": "markdown",
   "metadata": {},
   "source": [
    "# Chapter 1: Variables"
   ]
  },
  {
   "cell_type": "markdown",
   "metadata": {},
   "source": [
    "-------------------------------"
   ]
  },
  {
   "cell_type": "markdown",
   "metadata": {},
   "source": [
    "## Final Exercises Chapter 1"
   ]
  },
  {
   "cell_type": "raw",
   "metadata": {},
   "source": [
    "Inspired by *Think Python* by Allen B. Downey (http://thinkpython.com), *Introduction to Programming Using Python* by Y. Liang (Pearson, 2013). Some exercises below have been taken from: http://www.ling.gu.se/~lager/python_exercises.html.\n",
    "\n",
    "Submit your solutions to exercises 1 to 9 by pasting a screen shot of your code and the output in one text file. Exercise 8 is optional for extra credit."
   ]
  },
  {
   "cell_type": "markdown",
   "metadata": {},
   "source": [
    "-  Ex. 1: Suppose the cover price of a book is 24.95 EUR, but bookstores get a 40 percent discount. Shipping costs 3 EUR for the first copy and 75 cents for each additional copy. What is the total wholesale cost for 60 copies? As an extra challenge, try printing the result in a pretty fashion, using casting where necessary!"
   ]
  },
  {
   "cell_type": "code",
   "execution_count": 4,
   "metadata": {},
   "outputs": [
    {
     "name": "stdout",
     "output_type": "stream",
     "text": [
      "Cover price in EUR 24.95\n",
      "24.95 EUR\n",
      "60 copies\n",
      "17.97\n",
      "15.719999999999999\n",
      "Total: 945.45 EUR\n"
     ]
    }
   ],
   "source": [
    "price_book = input(\"Cover price in EUR \")\n",
    "print(price_book +\" EUR\")\n",
    "discount=1-0.4\n",
    "shippingcost_firstcopy= 3\n",
    "shippingcost_additionalcopies=0.75\n",
    "number_of_copies=60\n",
    "print(str(number_of_copies)+ \" copies\")\n",
    "price_first_copy=float(price_book)*discount+shippingcost_firstcopy\n",
    "print(price_first_copy)\n",
    "price_additionalcopies=float(price_book)*discount+shippingcost_additionalcopies\n",
    "print(price_additionalcopies)\n",
    "totalprice=price_first_copy+ price_additionalcopies*(number_of_copies-1)\n",
    "print (\"Total: \"+str(round(totalprice,2))+ \" EUR\")\n"
   ]
  },
  {
   "cell_type": "markdown",
   "metadata": {},
   "source": [
    "-  Ex. 2: Can you identify and explain the errors in the following lines of code? Correct them please!"
   ]
  },
  {
   "cell_type": "code",
   "execution_count": 5,
   "metadata": {},
   "outputs": [
    {
     "name": "stdout",
     "output_type": "stream",
     "text": [
      "A message\n",
      "A message\n",
      "A message\n"
     ]
    }
   ],
   "source": [
    "print(\"A message\")# no dot at the end of a line!\n",
    "print(\"A message\")#use quotation marks consistently!\n",
    "print('A message') # Check orthography!"
   ]
  },
  {
   "cell_type": "markdown",
   "metadata": {},
   "source": [
    "-  Ex. 3: When something is wrong with your code, Python will raise errors. Often these will be 'syntax errors' that signal that something is wrong with the form of your code (i.e. a `SyntaxError` like the one thrown in the previous exercise). There are also 'runtime errors' that signal that your code was in itself formally correct, but that something went wrong during the code's execution. A good example is the `ZeroDivisionError`. Try to make Python throw such a ZeroDivisionError! (Hint: it has to do with the fact that you cannot divide a number by zero)"
   ]
  },
  {
   "cell_type": "code",
   "execution_count": 6,
   "metadata": {},
   "outputs": [
    {
     "ename": "NameError",
     "evalue": "name 'Teller' is not defined",
     "output_type": "error",
     "traceback": [
      "\u001b[1;31m---------------------------------------------------------------------------\u001b[0m",
      "\u001b[1;31mNameError\u001b[0m                                 Traceback (most recent call last)",
      "\u001b[1;32m<ipython-input-6-2b84330b42bf>\u001b[0m in \u001b[0;36m<module>\u001b[1;34m()\u001b[0m\n\u001b[0;32m      1\u001b[0m \u001b[1;31m# ZeroDivisionErr\u001b[0m\u001b[1;33m\u001b[0m\u001b[1;33m\u001b[0m\u001b[0m\n\u001b[1;32m----> 2\u001b[1;33m \u001b[0mDeeltal\u001b[0m \u001b[1;33m=\u001b[0m \u001b[0mTeller\u001b[0m \u001b[1;33m/\u001b[0m \u001b[0mNoemer\u001b[0m\u001b[1;33m\u001b[0m\u001b[0m\n\u001b[0m\u001b[0;32m      3\u001b[0m \u001b[1;32mfrom\u001b[0m \u001b[0mrandom\u001b[0m \u001b[1;32mimport\u001b[0m \u001b[0mrandint\u001b[0m\u001b[1;33m\u001b[0m\u001b[0m\n\u001b[0;32m      4\u001b[0m \u001b[0mTeller\u001b[0m \u001b[1;33m=\u001b[0m \u001b[0mrandint\u001b[0m \u001b[1;33m(\u001b[0m\u001b[1;36m0\u001b[0m\u001b[1;33m,\u001b[0m\u001b[1;36m99\u001b[0m\u001b[1;33m)\u001b[0m\u001b[1;33m\u001b[0m\u001b[0m\n\u001b[0;32m      5\u001b[0m \u001b[0mNoemer\u001b[0m\u001b[1;33m=\u001b[0m \u001b[0mTeller\u001b[0m\u001b[1;33m*\u001b[0m\u001b[1;36m0\u001b[0m\u001b[1;33m\u001b[0m\u001b[0m\n",
      "\u001b[1;31mNameError\u001b[0m: name 'Teller' is not defined"
     ]
    }
   ],
   "source": [
    "Deeltal = Teller / Noemer\n",
    "from random import randint\n",
    "Teller = randint (0,99)\n",
    "Noemer= Teller*0\n",
    "print(Deeltal)"
   ]
  },
  {
   "cell_type": "markdown",
   "metadata": {},
   "source": [
    "- Ex. 4: Write a program that assigns the result of `9.5 * 4.5 - 2.5 * 345.5 - 3.5` to a variable. Print this variable. Use round brackets to indicate 'operator precedence' and make sure that subtractions are performed before multiplications. Print the new result. When you convert the outcome to a string, how many characters does it count? Print that too."
   ]
  },
  {
   "cell_type": "code",
   "execution_count": 9,
   "metadata": {},
   "outputs": [
    {
     "name": "stdout",
     "output_type": "stream",
     "text": [
      "-824.5\n",
      "6498.0\n",
      "6\n"
     ]
    }
   ],
   "source": [
    "Outcome = 9.5 * 4.5 - 2.5 * 345.5 - 3.5\n",
    "print (Outcome)\n",
    "Outcome= 9.5*(4.5-2.5)*(345.5-3.5)\n",
    "print(Outcome) #waarom .0? waarom niet gewoon 6498?\n",
    "print(len(str(Outcome)))\n"
   ]
  },
  {
   "cell_type": "markdown",
   "metadata": {},
   "source": [
    "-  Ex. 5: Define three variables `var1`, `var2` and `var3`. Calculate the average of these variables and assign it to `average`. Print the result in a fancy manner. Add three comments to this piece of code using three different ways."
   ]
  },
  {
   "cell_type": "code",
   "execution_count": 10,
   "metadata": {},
   "outputs": [
    {
     "name": "stdout",
     "output_type": "stream",
     "text": [
      "92 88 98\n",
      "92.66666666666667\n",
      "the average is 92.66666666666667\n"
     ]
    }
   ],
   "source": [
    "from random import randint\n",
    "var1=randint (0,99) #the most common way to make comments in python\n",
    "var2=randint (0,99) \n",
    "var3=randint (0,99) ## The third way I haven't found out yet, so I am using an # extra to make the difference.\n",
    "\"\"\" You can also comment with triple quotation marks,\n",
    "But then you have to start at the beginning of a line\n",
    "Otherwise it won't work\"\"\"\n",
    "'''or is this maybe the third way? or the fourth ?'''\n",
    "print (var1,var2,var3)\n",
    "average= (var1+var2+var3)/3\n",
    "print(average)\n",
    "print (\"the average is \"+ str(average))"
   ]
  },
  {
   "cell_type": "markdown",
   "metadata": {},
   "source": [
    "-  Ex. 6: Write a little program that can compute the surface of a circle, using the variables `radius` and `pi=3.14159`. The formula is of course radius, multiplied by radius, multiplied by `pi`. Print the outcome of your program as follows: 'The surface area of a circle with radius ... is: ...'."
   ]
  },
  {
   "cell_type": "code",
   "execution_count": null,
   "metadata": {
    "collapsed": true
   },
   "outputs": [],
   "source": [
    "radius = 5\n",
    "pi= 3.14159\n",
    "SurfaceCircle=radius*radius*pi\n",
    "print (\"The surface area of a circle with radius \"+ str(radius) + \" cm is: \" + str(SurfaceCircle)+ \" square cm.\") \n",
    "#how do you type superscript?"
   ]
  },
  {
   "cell_type": "markdown",
   "metadata": {},
   "source": [
    "To make things even more interactive, you can ask the user of the program to input the radius. Since this input is a string, you will need to cast it as an integer before doing calculations with it. Try adding your code from above to the code below and see if you can get it to work interactively."
   ]
  },
  {
   "cell_type": "code",
   "execution_count": 12,
   "metadata": {},
   "outputs": [
    {
     "name": "stdout",
     "output_type": "stream",
     "text": [
      "What is the radius? 5\n",
      "The surface area of a circle with radius 5 cm is: 78.53975 square cm.\n"
     ]
    }
   ],
   "source": [
    "radius = int(input(\"What is the radius? \"))\n",
    "pi= 3.14159\n",
    "SurfaceCircle=radius**2*pi\n",
    "print (\"The surface area of a circle with radius \"+ str(radius) + \" cm is: \" + str(SurfaceCircle)+ \" square cm.\") \n",
    "#how do you type superscript?"
   ]
  },
  {
   "cell_type": "markdown",
   "metadata": {},
   "source": [
    "- Ex. 7: Get help online. There is one operator (like the ones for multiplication and subtraction) that we did not mention yet, namely the modulus operator `%`. Could you figure by yourself what it does when you place it between two numbers (e.g. 113 % 9)? If not, ask Google for help."
   ]
  },
  {
   "cell_type": "code",
   "execution_count": 13,
   "metadata": {},
   "outputs": [
    {
     "name": "stdout",
     "output_type": "stream",
     "text": [
      "5\n",
      "quotient = 12\n",
      "Deelbare gehele getal =108\n",
      "rest = 5\n"
     ]
    }
   ],
   "source": [
    "# try out the modulus operator!\n",
    "print(113%9) #rest operator:devides left by right and presents the rest\n",
    "Teller = 113\n",
    "Noemer = 9\n",
    "geheel_quotient= int(Teller/Noemer)\n",
    "print (\"quotient = \"+str(geheel_quotient))     \n",
    "Deelbaargeheelgetal= geheel_quotient*Noemer\n",
    "print (\"Deelbare gehele getal =\"+str(Deelbaargeheelgetal))\n",
    "rest= Teller-Deelbaargeheelgetal\n",
    "print (\"rest = \"+str(rest))"
   ]
  },
  {
   "cell_type": "markdown",
   "metadata": {},
   "source": [
    "- Ex. 8: As happens very often, we make mistakes and Python raises errors. Correct all the errors in the following block of code. "
   ]
  },
  {
   "cell_type": "code",
   "execution_count": 3,
   "metadata": {},
   "outputs": [
    {
     "name": "stdout",
     "output_type": "stream",
     "text": [
      "Marie and Jozef have two children, Bert and An. Between the two children there is a difference of age of 3 years.\n"
     ]
    }
   ],
   "source": [
    "child1 = 'Bert'\n",
    "child2 = 'An'\n",
    "age_child1 = 5\n",
    "age_child2 = 2\n",
    "\n",
    "mother = 'Marie'\n",
    "father = 'Jozef'\n",
    "\n",
    "message1 = mother+\" and \" +father+\" have two children, \"+child1+ \" and \"+child2 +\".\" \n",
    "message2 = \" Between the two children there is a difference of age of \" + str(age_child1 - age_child2) +\" years.\"\n",
    "print(message1 + message2)\n"
   ]
  },
  {
   "cell_type": "markdown",
   "metadata": {},
   "source": [
    "-----------------------\n",
    "\n",
    "You've reached the end of Chapter 1! You can safely ignore the code block below -- it's only there to make the page prettier."
   ]
  },
  {
   "cell_type": "code",
   "execution_count": null,
   "metadata": {
    "collapsed": true
   },
   "outputs": [],
   "source": [
    "from IPython.core.display import HTML\n",
    "def css_styling():\n",
    "    styles = open(\"styles/custom.css\", \"r\").read()\n",
    "    return HTML(styles)\n",
    "css_styling()"
   ]
  },
  {
   "cell_type": "code",
   "execution_count": null,
   "metadata": {
    "collapsed": true
   },
   "outputs": [],
   "source": []
  }
 ],
 "metadata": {
  "kernelspec": {
   "display_name": "Python 3",
   "language": "python",
   "name": "python3"
  },
  "language_info": {
   "codemirror_mode": {
    "name": "ipython",
    "version": 3
   },
   "file_extension": ".py",
   "mimetype": "text/x-python",
   "name": "python",
   "nbconvert_exporter": "python",
   "pygments_lexer": "ipython3",
   "version": "3.6.1"
  }
 },
 "nbformat": 4,
 "nbformat_minor": 1
}
