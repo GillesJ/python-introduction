{
 "cells": [
  {
   "cell_type": "markdown",
   "metadata": {},
   "source": [
    "# Chapter 1: Variables"
   ]
  },
  {
   "cell_type": "markdown",
   "metadata": {},
   "source": [
    "*-- This course borrows heavily from 'Python for the Humanities', a course by Folgert Karsdorp and Maarten van Gompel with modifications and contributions by Mike Kestemont, Lars Wieneke and Bart Desmet*"
   ]
  },
  {
   "cell_type": "markdown",
   "metadata": {},
   "source": [
    "-------------------------------"
   ]
  },
  {
   "cell_type": "markdown",
   "metadata": {},
   "source": [
    "## First steps"
   ]
  },
  {
   "cell_type": "markdown",
   "metadata": {},
   "source": [
    "Everyone can learn how to program and the best way to learn it is by doing it. This course on Processing Language with Python for people with no prior programming experience is extremely hands-on: you will have to write a lot of code yourself from the very beginning onwards. For writing Python code in this tutorial, you can use the many 'code blocks' you will encounter, such as the grey block immediately below. Place your cursor inside this block and press `ctrl+enter` to \"run\" or execute the code. Let's begin right away: run your first little program!"
   ]
  },
  {
   "cell_type": "code",
   "execution_count": 2,
   "metadata": {},
   "outputs": [
    {
     "name": "stdout",
     "output_type": "stream",
     "text": [
      "Hello world!\n",
      "Hello Jonas!\n"
     ]
    }
   ],
   "source": [
    "print(\"Hello world!\")\n",
    "print(\"Hello Jonas!\")"
   ]
  },
  {
   "cell_type": "markdown",
   "metadata": {},
   "source": [
    "* Can you adapt the code in this box yourself and make it print your own name?\n",
    "\n",
    "Apart from printing words to your screen, you can also use Python to do calculations. \n",
    "\n",
    "* Use the code block below to calculate how many minutes there are in seven weeks (hint: multiplication is done using the `*` symbol in Python.)\n"
   ]
  },
  {
   "cell_type": "code",
   "execution_count": 4,
   "metadata": {},
   "outputs": [
    {
     "name": "stdout",
     "output_type": "stream",
     "text": [
      "70560\n"
     ]
    }
   ],
   "source": [
    "# insert your own code here!\n",
    "print(7*7*24*60)\n"
   ]
  },
  {
   "cell_type": "markdown",
   "metadata": {},
   "source": [
    "Excellent! You have just written and executed your very first program! \n",
    "\n",
    "Note also that if a line starts with a hash this line is not part of the code but allows you to introduce additional comments: you will need these comments when you write more complex scripts!\n",
    "\n",
    "Please make sure to run *every single one* of the following code blocks in the same manner - otherwise a lot of the examples won't properly work.\n",
    "\n",
    "So far, we used only Python as a pretty minimalistic calculator, but there is more to discover. \n",
    "\n",
    "## Variables and values\n",
    "Imagine that we want to store the number we just calculated so we can use it later. To do this we need to 'assign' a name to a value using the = symbol. "
   ]
  },
  {
   "cell_type": "code",
   "execution_count": 6,
   "metadata": {},
   "outputs": [
    {
     "name": "stdout",
     "output_type": "stream",
     "text": [
      "x = 5\n"
     ]
    }
   ],
   "source": [
    "x = 5\n",
    "print(\"x =\", x)"
   ]
  },
  {
   "cell_type": "markdown",
   "metadata": {},
   "source": [
    "If you vaguely remember your math classes in school, this should look familiar. It is basically the same notation with the name of the variable on the left, the value on the right, and the = sign in the middle. \n",
    "\n",
    "In the code block above, two things happen. First, we fill `x` with a value, in our case `5`. This variable x behaves pretty much like a box in which to store something. We write an `x` with a thick, black marker on it, so we can find it back later. We then print the contents of this box, using the `print()` command. \n",
    "\n",
    "* Now copy the outcome of your code calculating the number of minutes in seven weeks and assign this number to `x`. Run the code again.\n",
    "\n",
    "The box metaphor for a variable goes a long way: in such a box you can put whatever value you want, e.g. the number of minutes in seven weeks. When you re-assign a variable, you remove the content of the box and  put something new in it. In Python, the term 'variable' refers to such a box, whereas the term 'value' refers to what is inside this box."
   ]
  },
  {
   "cell_type": "markdown",
   "metadata": {},
   "source": [
    "When we have stored values inside variables, we can do interesting things with these variables. You can, for instance, run the calculations in the block below to see the effect of the following five lines of code. Symbols like `=`, `+`, `-` , `/` `*` are called 'operators' in programming: they all provide a very basic functionality such as assigning values to variables or doing multiplication and subtraction.  "
   ]
  },
  {
   "cell_type": "code",
   "execution_count": 7,
   "metadata": {},
   "outputs": [
    {
     "name": "stdout",
     "output_type": "stream",
     "text": [
      "2\n",
      "4\n",
      "4\n",
      "1.0\n",
      "-4\n"
     ]
    }
   ],
   "source": [
    "x = 2\n",
    "print(x)\n",
    "print(x * x)\n",
    "print(x + x)\n",
    "print(x / x)\n",
    "print(x - 6)"
   ]
  },
  {
   "cell_type": "markdown",
   "metadata": {},
   "source": [
    "So far, we have only used a variable called `x`. Nevertheless, we are entirely free to change the names of our variables, as long as these names do not contain strange characters, such as spaces, dashes or punctuation marks. Underscores and numbers, however, are allowed inside names (so you cannot begin a variable name with them). In the following block, we assign the outcome of our calculation to a variable that has a more meaningful name than the abstract name `x`."
   ]
  },
  {
   "cell_type": "code",
   "execution_count": 8,
   "metadata": {},
   "outputs": [
    {
     "name": "stdout",
     "output_type": "stream",
     "text": [
      "70560\n"
     ]
    }
   ],
   "source": [
    "seconds_in_seven_weeks = 70560\n",
    "print(seconds_in_seven_weeks)"
   ]
  },
  {
   "cell_type": "markdown",
   "metadata": {},
   "source": [
    "In Python we can also copy the contents of a variable *into another variable*, which is what happens in the second line of the code block below. Each variable will always contain the value that you *last* assigned to it:"
   ]
  },
  {
   "cell_type": "code",
   "execution_count": 9,
   "metadata": {},
   "outputs": [
    {
     "name": "stdout",
     "output_type": "stream",
     "text": [
      "3\n",
      "5\n"
     ]
    }
   ],
   "source": [
    "first_number = 5\n",
    "second_number = first_number\n",
    "first_number = 3\n",
    "print(first_number)\n",
    "print(second_number)"
   ]
  },
  {
   "cell_type": "markdown",
   "metadata": {},
   "source": [
    "Variables are also case sensitive, so accessing *first_number* is not the same as *First_number*"
   ]
  },
  {
   "cell_type": "code",
   "execution_count": 10,
   "metadata": {},
   "outputs": [
    {
     "name": "stdout",
     "output_type": "stream",
     "text": [
      "3\n"
     ]
    }
   ],
   "source": [
    "print(first_number)"
   ]
  },
  {
   "cell_type": "code",
   "execution_count": 11,
   "metadata": {},
   "outputs": [
    {
     "ename": "NameError",
     "evalue": "name 'First_number' is not defined",
     "output_type": "error",
     "traceback": [
      "\u001b[1;31m---------------------------------------------------------------------------\u001b[0m",
      "\u001b[1;31mNameError\u001b[0m                                 Traceback (most recent call last)",
      "\u001b[1;32m<ipython-input-11-3ebf7be056fb>\u001b[0m in \u001b[0;36m<module>\u001b[1;34m()\u001b[0m\n\u001b[1;32m----> 1\u001b[1;33m \u001b[0mprint\u001b[0m\u001b[1;33m(\u001b[0m\u001b[0mFirst_number\u001b[0m\u001b[1;33m)\u001b[0m\u001b[1;33m\u001b[0m\u001b[0m\n\u001b[0m",
      "\u001b[1;31mNameError\u001b[0m: name 'First_number' is not defined"
     ]
    }
   ],
   "source": [
    "print(First_number)"
   ]
  },
  {
   "cell_type": "markdown",
   "metadata": {},
   "source": [
    "So far we have only assigned numbers such as `5` or `70560` to our variables. Such whole numbers are called 'integers' in programming, because they don't have any digits 'after the dot'.  Numbers that *do* have digits after the dot (e.g. `67.278` or `191.200`), are called 'floating-point numbers' in programming or simply 'floats'. Note that Python uses dots in floats, whereas some European languages use a comma here. Both integers and floats can be positive numbers (e.g. `70` or `4.36`) as well as negative numbers (e.g. `-70` or `4.36`). You can just as easily assign floats to variables:"
   ]
  },
  {
   "cell_type": "code",
   "execution_count": 12,
   "metadata": {},
   "outputs": [
    {
     "name": "stdout",
     "output_type": "stream",
     "text": [
      "23.987\n",
      "-4.56\n"
     ]
    }
   ],
   "source": [
    "some_float = 23.987\n",
    "print(some_float)\n",
    "some_float = -4.56\n",
    "print(some_float)"
   ]
  },
  {
   "cell_type": "markdown",
   "metadata": {},
   "source": [
    "On the whole, the difference between integers and floats is of course important for divisions where you often end up with floats:"
   ]
  },
  {
   "cell_type": "code",
   "execution_count": 13,
   "metadata": {},
   "outputs": [
    {
     "name": "stdout",
     "output_type": "stream",
     "text": [
      "2.5\n"
     ]
    }
   ],
   "source": [
    "x = 5/2\n",
    "print(x)"
   ]
  },
  {
   "cell_type": "markdown",
   "metadata": {},
   "source": [
    "You will undoubtedly remember from your math classes in high school that there is something called 'operator precedence', meaning that multiplication, for instance, will always be executed before subtraction. In Python you can explicitly set the order in which arithmetic operations are executed, using round brackets. Compare the following lines of code:"
   ]
  },
  {
   "cell_type": "code",
   "execution_count": 14,
   "metadata": {},
   "outputs": [
    {
     "name": "stdout",
     "output_type": "stream",
     "text": [
      "9.5\n",
      "2.0\n",
      "9.5\n"
     ]
    }
   ],
   "source": [
    "nr1 = 10-2/4\n",
    "nr2 = (10-2)/4\n",
    "nr3 = 10-(2/4)\n",
    "print(nr1)\n",
    "print(nr2)\n",
    "print(nr3)"
   ]
  },
  {
   "cell_type": "markdown",
   "metadata": {},
   "source": [
    "Using the operators we have learned about above, we can change the variables in our code as many times as we want. We can assign new values to old variables, just like we can put new or more things in the boxes we already had. Say, for instance, that yesterday we counted how many books we have in our office and that we stored this count in our code as follows:"
   ]
  },
  {
   "cell_type": "code",
   "execution_count": 15,
   "metadata": {
    "collapsed": true
   },
   "outputs": [],
   "source": [
    "number_of_books = 100"
   ]
  },
  {
   "cell_type": "markdown",
   "metadata": {},
   "source": [
    "Suppose that we buy a new book for the office today: we can now update our book count accordingly, by adding one to our previous count:"
   ]
  },
  {
   "cell_type": "code",
   "execution_count": 16,
   "metadata": {},
   "outputs": [
    {
     "name": "stdout",
     "output_type": "stream",
     "text": [
      "101\n"
     ]
    }
   ],
   "source": [
    "number_of_books = number_of_books + 1\n",
    "print(number_of_books)"
   ]
  },
  {
   "cell_type": "markdown",
   "metadata": {},
   "source": [
    "Here, the value of variable `number_of_books` is changed by manipulating its previously stored value. This works because assignment goes from *right to left*. In other words, the part on the right of the assignment sign `=` is executed first (so the old value of `number_of_books` is retrieved and `1` is added), and then the result of this operation is assigned to the variable name on the left.\n",
    "\n",
    "Updates like these happen a lot. Python therefore provides a shortcut so you don't need to write the same variable name twice: you can write the same thing using `+=`."
   ]
  },
  {
   "cell_type": "code",
   "execution_count": 17,
   "metadata": {},
   "outputs": [
    {
     "name": "stdout",
     "output_type": "stream",
     "text": [
      "106\n"
     ]
    }
   ],
   "source": [
    "number_of_books += 5\n",
    "print(number_of_books)"
   ]
  },
  {
   "cell_type": "markdown",
   "metadata": {},
   "source": [
    "This special shortcut (`+=`) is called an operator too. Apart from multiplication (`+=`), the operator has variants for subtraction (`-=`), multiplication (`*=`) and division (`/=`) too:"
   ]
  },
  {
   "cell_type": "code",
   "execution_count": 18,
   "metadata": {},
   "outputs": [
    {
     "name": "stdout",
     "output_type": "stream",
     "text": [
      "101\n",
      "202\n",
      "101.0\n"
     ]
    }
   ],
   "source": [
    "number_of_books -= 5\n",
    "print(number_of_books)\n",
    "number_of_books *= 2\n",
    "print(number_of_books)\n",
    "number_of_books /= 2\n",
    "print(number_of_books)"
   ]
  },
  {
   "cell_type": "markdown",
   "metadata": {},
   "source": [
    "----------"
   ]
  },
  {
   "cell_type": "markdown",
   "metadata": {},
   "source": [
    "##### What we have learnt"
   ]
  },
  {
   "cell_type": "markdown",
   "metadata": {},
   "source": [
    "To finish this section, here is an overview of the concepts you have learnt. Go through the list and make sure you understand all the concepts.\n",
    "\n",
    "-  variable\n",
    "-  value\n",
    "-  assignment operator (`=`)\n",
    "-  difference between variables and values\n",
    "-  integers vs. floats\n",
    "-  operators for multiplication (`*`), subtraction (`-`), addition (`+`), division (`/`)\n",
    "-  the shortcut operators: `+=`, `-=`, `*=`, `/=`\n",
    "-  `print()`\n"
   ]
  },
  {
   "cell_type": "markdown",
   "metadata": {},
   "source": [
    "------"
   ]
  },
  {
   "cell_type": "markdown",
   "metadata": {},
   "source": [
    "## Text strings"
   ]
  },
  {
   "cell_type": "markdown",
   "metadata": {},
   "source": [
    "So far, we have only worked with variables that contain numbers (integers like `-5` or `72` or floats like `45.89` or `-5.609`). Note, however, that variables can also contain other things than numbers. It is likely that you will not be working primarily with numbers, but with texts. Quite naturally, this course will focus a lot on manipulating them. Have a look at the code block below, for instance. Here we put *text*, namely the title of a book, as a value inside the variable `book`. Then, we print what is inside the `book` variable."
   ]
  },
  {
   "cell_type": "code",
   "execution_count": 20,
   "metadata": {},
   "outputs": [
    {
     "name": "stdout",
     "output_type": "stream",
     "text": [
      "The Lord of the Flies\n",
      "21\n"
     ]
    }
   ],
   "source": [
    "book = \"The Lord of the Flies\"\n",
    "print(book)\n",
    "print(len(book))"
   ]
  },
  {
   "cell_type": "markdown",
   "metadata": {},
   "source": [
    "Such a piece of text (\"The Lord of the Flies\") is called a 'string' in Python (cf. a *string* or *series* of characters). Strings in Python must always be enclosed with 'quotes' (either single or double quotes). Without those quotes, Python will think it's dealing with the name of some variable that has been defined earlier, because variable names never take quotes. The following distinction is confusing, but extremely important: variable names (*without* quotes) and string values (*with* quotes) look similar, but they serve a completely different purpose. Compare:"
   ]
  },
  {
   "cell_type": "code",
   "execution_count": 21,
   "metadata": {},
   "outputs": [
    {
     "name": "stdout",
     "output_type": "stream",
     "text": [
      "male\n",
      "male\n",
      "14\n"
     ]
    }
   ],
   "source": [
    "gender = \"male\"\n",
    "male = 14\n",
    "print(gender)\n",
    "print (\"male\")\n",
    "print(male)"
   ]
  },
  {
   "cell_type": "markdown",
   "metadata": {},
   "source": [
    "Some of the arithmetic operators we saw earlier can also be used to do useful things with strings. Both the multiplication operator (`*`) and the addition operator (`+`) provide interesting functionality for dealing with strings, as the block below illustrates.\n"
   ]
  },
  {
   "cell_type": "code",
   "execution_count": 22,
   "metadata": {},
   "outputs": [
    {
     "name": "stdout",
     "output_type": "stream",
     "text": [
      "blabla\n",
      "blablah\n"
     ]
    }
   ],
   "source": [
    "original_string = \"bla\"\n",
    "new_string = 2*original_string\n",
    "print(new_string)\n",
    "new_string = new_string+\"h\"\n",
    "print(new_string)"
   ]
  },
  {
   "cell_type": "markdown",
   "metadata": {},
   "source": [
    "Adding strings together is called 'string concatenation' or simply 'concatenation' in programming. Use the block below to find out whether you can also use the shortcut `+=` operator for adding an 'h' to the variable `original_string`. Don't forget to check the result that gets printed!"
   ]
  },
  {
   "cell_type": "code",
   "execution_count": 26,
   "metadata": {},
   "outputs": [
    {
     "name": "stdout",
     "output_type": "stream",
     "text": [
      "blablah\n"
     ]
    }
   ],
   "source": [
    "original_string = \"blabla\"\n",
    "# manipulate original_string to add an 'h'...\n",
    "original_string += \"h\"\n",
    "print(original_string)"
   ]
  },
  {
   "cell_type": "markdown",
   "metadata": {},
   "source": [
    "Note that there is no subtraction operator for strings. Try the following code and you will see a typical error code (and learn that you will spend most of your programming time solving errors):"
   ]
  },
  {
   "cell_type": "code",
   "execution_count": 27,
   "metadata": {},
   "outputs": [
    {
     "ename": "TypeError",
     "evalue": "unsupported operand type(s) for -=: 'str' and 'str'",
     "output_type": "error",
     "traceback": [
      "\u001b[1;31m---------------------------------------------------------------------------\u001b[0m",
      "\u001b[1;31mTypeError\u001b[0m                                 Traceback (most recent call last)",
      "\u001b[1;32m<ipython-input-27-f12a957e480c>\u001b[0m in \u001b[0;36m<module>\u001b[1;34m()\u001b[0m\n\u001b[0;32m      1\u001b[0m \u001b[0mtext\u001b[0m \u001b[1;33m=\u001b[0m \u001b[1;34m\"blabla\"\u001b[0m\u001b[1;33m\u001b[0m\u001b[0m\n\u001b[1;32m----> 2\u001b[1;33m \u001b[0mtext\u001b[0m \u001b[1;33m-=\u001b[0m \u001b[1;34m\"bla\"\u001b[0m\u001b[1;33m\u001b[0m\u001b[0m\n\u001b[0m",
      "\u001b[1;31mTypeError\u001b[0m: unsupported operand type(s) for -=: 'str' and 'str'"
     ]
    }
   ],
   "source": [
    "text = \"blabla\"\n",
    "text -= \"bla\""
   ]
  },
  {
   "cell_type": "markdown",
   "metadata": {},
   "source": [
    "Now we will write some code that defines variable file names. Let us say that the root of the filename is `Task1`. Now we will create a variable that defines the status of the file as `draft` or `revision` and we will add the `txt` extension. The result should be 'Task1_draft.txt' or 'Task1_revision.txt' "
   ]
  },
  {
   "cell_type": "code",
   "execution_count": 36,
   "metadata": {},
   "outputs": [
    {
     "name": "stdout",
     "output_type": "stream",
     "text": [
      "Task100_revision.txt\n"
     ]
    }
   ],
   "source": [
    "file = \"Task100\"\n",
    "status = \"revision\"\n",
    "filename = file + \"_\" + status + \".txt\"\n",
    "print(filename)"
   ]
  },
  {
   "cell_type": "markdown",
   "metadata": {},
   "source": [
    "Strings are called strings because they consist of a series (or 'string') of individual characters. We can access these individual characters in Python with the help of 'indexing', because each character in a string has a unique 'index'. To print the first letter of your name, you can type:"
   ]
  },
  {
   "cell_type": "code",
   "execution_count": 37,
   "metadata": {},
   "outputs": [
    {
     "name": "stdout",
     "output_type": "stream",
     "text": [
      "J\n"
     ]
    }
   ],
   "source": [
    "name = \"Jonas\"\n",
    "first_letter = name[0]\n",
    "print(first_letter)"
   ]
  },
  {
   "cell_type": "markdown",
   "metadata": {},
   "source": [
    "![Indexes of the string Mr White starting with 0](images/string_index.png \"Python strings and indexes\")\n",
    "\n",
    "Take a look at the string \"Mr White\". We use the index `0` to access the first character in the string. This might seem odd, but  remember that all indexes in Python start at zero. Whenever you count in Python, you start at `0` instead of `1`. Note that the space character gets an index too, namely 2, because for a computer, a space is a character like any other. This is something you will have to get used to!\n",
    "\n",
    "Because you know the length of your name you can ask for its last letter: "
   ]
  },
  {
   "cell_type": "code",
   "execution_count": 38,
   "metadata": {},
   "outputs": [
    {
     "name": "stdout",
     "output_type": "stream",
     "text": [
      "s\n"
     ]
    }
   ],
   "source": [
    "last_letter = name[4] # replace x with the last index of your name (tip: indexes start at 0)\n",
    "print(last_letter)"
   ]
  },
  {
   "cell_type": "markdown",
   "metadata": {},
   "source": [
    "It is rather inconvenient having to know how long our strings are if we want to find out what the last letter is. Python provides a simple way of accessing a string 'from the rear':"
   ]
  },
  {
   "cell_type": "code",
   "execution_count": 39,
   "metadata": {},
   "outputs": [
    {
     "name": "stdout",
     "output_type": "stream",
     "text": [
      "s\n"
     ]
    }
   ],
   "source": [
    "last_letter = name[-1]\n",
    "print(last_letter)"
   ]
  },
  {
   "cell_type": "markdown",
   "metadata": {},
   "source": [
    "To access the last character in a string you have to use the index [-1]. Alternatively, there is the `len()` command which returns the length of a string:"
   ]
  },
  {
   "cell_type": "code",
   "execution_count": 40,
   "metadata": {},
   "outputs": [
    {
     "name": "stdout",
     "output_type": "stream",
     "text": [
      "5\n"
     ]
    }
   ],
   "source": [
    "print(len(name))"
   ]
  },
  {
   "cell_type": "markdown",
   "metadata": {},
   "source": [
    "Remember the `len()` command, because it is very useful to get information and solve problems. It does not only work on strings, but on other data types as well, as we will see in future chapters. \n",
    "\n",
    "Do you understand the following code block? Can you explain what is happening?"
   ]
  },
  {
   "cell_type": "code",
   "execution_count": 41,
   "metadata": {},
   "outputs": [
    {
     "name": "stdout",
     "output_type": "stream",
     "text": [
      "s\n"
     ]
    }
   ],
   "source": [
    "last_letter = name[len(name)-1]\n",
    "print(last_letter)"
   ]
  },
  {
   "cell_type": "markdown",
   "metadata": {},
   "source": [
    "Now can you write some code that defines a variable `penultimate_letter` and assigns to this variable the *second to last* letter of your name?"
   ]
  },
  {
   "cell_type": "code",
   "execution_count": 42,
   "metadata": {},
   "outputs": [
    {
     "name": "stdout",
     "output_type": "stream",
     "text": [
      "a\n"
     ]
    }
   ],
   "source": [
    "penultimate_letter = name[-2]\n",
    "print(penultimate_letter)"
   ]
  },
  {
   "cell_type": "markdown",
   "metadata": {},
   "source": [
    "You're starting to become a real expert at indexing strings. Now what if we would like to find out what the last two or three letters of our name are? In Python we can use so-called 'slice indices' or 'slices' for short. To find the first two letters of our name we type in:"
   ]
  },
  {
   "cell_type": "code",
   "execution_count": 43,
   "metadata": {},
   "outputs": [
    {
     "name": "stdout",
     "output_type": "stream",
     "text": [
      "Jo\n"
     ]
    }
   ],
   "source": [
    "first_two_letters = name[0:2]\n",
    "print(first_two_letters)"
   ]
  },
  {
   "cell_type": "markdown",
   "metadata": {},
   "source": [
    "The `0` index is optional, so we could just as well type in `name[:2]`. This says: take all characters of name until you reach index 2 (i.e. up to but excluding the third letter). We can also start at index 2 and leave the end index unspecified:"
   ]
  },
  {
   "cell_type": "code",
   "execution_count": 44,
   "metadata": {},
   "outputs": [
    {
     "name": "stdout",
     "output_type": "stream",
     "text": [
      "nas\n"
     ]
    }
   ],
   "source": [
    "without_first_two_letters = name[2:]\n",
    "print(without_first_two_letters)"
   ]
  },
  {
   "cell_type": "markdown",
   "metadata": {},
   "source": [
    "Because we did not specify the end index, Python continues until it reaches the end of our string. If we would like to find out what the last two letters of our name are, we can type in:"
   ]
  },
  {
   "cell_type": "code",
   "execution_count": 45,
   "metadata": {},
   "outputs": [
    {
     "name": "stdout",
     "output_type": "stream",
     "text": [
      "as\n"
     ]
    }
   ],
   "source": [
    "last_two_letters = name[-2:]\n",
    "print(last_two_letters)"
   ]
  },
  {
   "cell_type": "markdown",
   "metadata": {},
   "source": [
    "Slicing can be pretty confusing at first, mainly for two reasons:\n",
    "* indices start at 0, so it's easy to make mistakes by starting your count from 1\n",
    "* slices end *before* the last index you specify (i.e. from first index up to and *excluding* the last index)\n",
    "It's normal to make mistakes. Just make sure that you check and debug your slices by printing them, and you will get the hang of it soon enough. You will need to use slices on other things than strings in later chapters, but the principles stay the same."
   ]
  },
  {
   "cell_type": "markdown",
   "metadata": {},
   "source": [
    "-------"
   ]
  },
  {
   "cell_type": "markdown",
   "metadata": {},
   "source": [
    "## DIY"
   ]
  },
  {
   "cell_type": "markdown",
   "metadata": {},
   "source": [
    "- Can you cut the filename into pieces and define two variables `name` and `extension` to which you assign the respective values?"
   ]
  },
  {
   "cell_type": "code",
   "execution_count": 52,
   "metadata": {},
   "outputs": [
    {
     "name": "stdout",
     "output_type": "stream",
     "text": [
      "Task01\n",
      ".txt\n"
     ]
    }
   ],
   "source": [
    "filename = \"Task01.txt\"\n",
    "name = filename[:-4]\n",
    "extension = filename[-4:]\n",
    "print(name)\n",
    "print(extension)"
   ]
  },
  {
   "cell_type": "markdown",
   "metadata": {},
   "source": [
    "- If you know that all the names end by two digits, can you then also separate the 'root' name and the number?"
   ]
  },
  {
   "cell_type": "code",
   "execution_count": 57,
   "metadata": {},
   "outputs": [
    {
     "name": "stdout",
     "output_type": "stream",
     "text": [
      "Task\n",
      "01\n"
     ]
    }
   ],
   "source": [
    "root = name[:-2]\n",
    "number = name[-2:]\n",
    "print(root)\n",
    "print(number)"
   ]
  },
  {
   "cell_type": "markdown",
   "metadata": {},
   "source": [
    "- Given the following two words, can you write code that prints out the word *humanities* using only slicing and concatenation? (So, no quotes are allowed in your code.) Can you print out how many characters the word *humanities* contains?"
   ]
  },
  {
   "cell_type": "code",
   "execution_count": 60,
   "metadata": {},
   "outputs": [
    {
     "name": "stdout",
     "output_type": "stream",
     "text": [
      "humanities\n",
      "10\n"
     ]
    }
   ],
   "source": [
    "word1 = \"human\"\n",
    "word2 = \"opportunities\"\n",
    "humanities = word1 + word2[-5:]\n",
    "print(humanities)\n",
    "print(len(humanities)) "
   ]
  },
  {
   "cell_type": "markdown",
   "metadata": {},
   "source": [
    "---------\n",
    "\n",
    "## \"Casting\" variables"
   ]
  },
  {
   "cell_type": "markdown",
   "metadata": {},
   "source": [
    "Above, we have already learned that each variable has a data type: variables can be strings, floats, integers, etc. Sometimes it is necessary to convert one type into the other. Consider this:"
   ]
  },
  {
   "cell_type": "code",
   "execution_count": 61,
   "metadata": {},
   "outputs": [
    {
     "ename": "TypeError",
     "evalue": "must be str, not int",
     "output_type": "error",
     "traceback": [
      "\u001b[1;31m---------------------------------------------------------------------------\u001b[0m",
      "\u001b[1;31mTypeError\u001b[0m                                 Traceback (most recent call last)",
      "\u001b[1;32m<ipython-input-61-a07ac30e9818>\u001b[0m in \u001b[0;36m<module>\u001b[1;34m()\u001b[0m\n\u001b[0;32m      1\u001b[0m \u001b[0mx\u001b[0m \u001b[1;33m=\u001b[0m \u001b[1;34m\"5\"\u001b[0m\u001b[1;33m\u001b[0m\u001b[0m\n\u001b[0;32m      2\u001b[0m \u001b[0my\u001b[0m \u001b[1;33m=\u001b[0m \u001b[1;36m2\u001b[0m\u001b[1;33m\u001b[0m\u001b[0m\n\u001b[1;32m----> 3\u001b[1;33m \u001b[0mprint\u001b[0m\u001b[1;33m(\u001b[0m\u001b[0mx\u001b[0m \u001b[1;33m+\u001b[0m \u001b[0my\u001b[0m\u001b[1;33m)\u001b[0m\u001b[1;33m\u001b[0m\u001b[0m\n\u001b[0m",
      "\u001b[1;31mTypeError\u001b[0m: must be str, not int"
     ]
    }
   ],
   "source": [
    "x = \"5\"\n",
    "y = 2\n",
    "print(x + y)"
   ]
  },
  {
   "cell_type": "markdown",
   "metadata": {},
   "source": [
    "This should raise an error on your machine: does the error message gives you a hint as to why this does not work? *x* is a string, and *y* is an integer. Because of this, you cannot sum them. Luckily there exist ways to 'cast' variables from one type of variable into another type of variable.\n",
    "\n",
    "- Do you understand the outcome of the following code?\n",
    "- Can you comment in your own words on the effect of applying `int()` and `str()` to variables?"
   ]
  },
  {
   "cell_type": "code",
   "execution_count": 62,
   "metadata": {},
   "outputs": [
    {
     "name": "stdout",
     "output_type": "stream",
     "text": [
      "52\n",
      "7\n"
     ]
    }
   ],
   "source": [
    "x = \"5\"\n",
    "y = 2\n",
    "print(x + str(y))\n",
    "print(int(x) + y)"
   ]
  },
  {
   "cell_type": "markdown",
   "metadata": {},
   "source": [
    "Casting is often necessary: it could be for example that you are reading numbers from a file (as strings) that you want to do calculations with. In that case you would need to cast the strings as integers (with `int()`) or as floats (with `float()`). Likewise, you sometimes need to write numbers to a file or print them to the screen together with text. In that case, you will often need to cast them as strings with `str()`, because Python will complain that it does not know how to combine a number with a string."
   ]
  },
  {
   "cell_type": "markdown",
   "metadata": {},
   "source": [
    "Let's go back to the filename example 'Task1' (with one digit to avoid further complications for the moment). Now we want to create a new filename that is one number higher than the original file name. How could we do that? Note: you will have to cast the value two times!"
   ]
  },
  {
   "cell_type": "code",
   "execution_count": 72,
   "metadata": {},
   "outputs": [
    {
     "name": "stdout",
     "output_type": "stream",
     "text": [
      "Task2\n"
     ]
    }
   ],
   "source": [
    "file_or = \"Task1\"\n",
    "root = file_or[:-1]\n",
    "number = file_or[-1:]\n",
    "number_new = int(number) + 1\n",
    "file_new = root + str(number_new)\n",
    "print(file_new)"
   ]
  },
  {
   "cell_type": "markdown",
   "metadata": {},
   "source": [
    "Other types of conversions are possible as well, and we will see a couple of them in the next chapters. Because variables can change data type anytime they want, we say that Python uses 'dynamic typing', as opposed to other more 'strict' languages that use 'strong typing'. You can check a variable's type using the `type()` command:"
   ]
  },
  {
   "cell_type": "code",
   "execution_count": 70,
   "metadata": {},
   "outputs": [
    {
     "name": "stdout",
     "output_type": "stream",
     "text": [
      "<class 'str'>\n",
      "<class 'int'>\n"
     ]
    }
   ],
   "source": [
    "x = \"5\"\n",
    "y = 2\n",
    "print(type(x))\n",
    "print(type(y))"
   ]
  },
  {
   "cell_type": "markdown",
   "metadata": {},
   "source": [
    "## INPUT FIELDS\n",
    "\n",
    "A pleasant way to introduce an interactive dimension in your scripts is by using input fields. Run the code below and see what happens."
   ]
  },
  {
   "cell_type": "code",
   "execution_count": 73,
   "metadata": {},
   "outputs": [
    {
     "name": "stdout",
     "output_type": "stream",
     "text": [
      "What is your name?Jonas\n",
      "Hello, Jonas!\n"
     ]
    }
   ],
   "source": [
    "naam = input (\"What is your name?\")\n",
    "print('Hello, ' + naam + '!')"
   ]
  },
  {
   "cell_type": "markdown",
   "metadata": {},
   "source": [
    "## COMMENTS"
   ]
  },
  {
   "cell_type": "markdown",
   "metadata": {},
   "source": [
    "When you exchange code with fellow programmers (as you will often have to do in the real world), it is really helpful if you include some useful information about your scripts. It is also useful for you, to add information about what your code is meant to do. Have a look at the code block below and read about `commenting` on Python code in the comments:"
   ]
  },
  {
   "cell_type": "code",
   "execution_count": 74,
   "metadata": {},
   "outputs": [
    {
     "name": "stdout",
     "output_type": "stream",
     "text": [
      "Something...\n",
      "and something else..\n",
      "Done.\n"
     ]
    }
   ],
   "source": [
    "# Have you noticed that everything behind the hashtag \n",
    "print(\"Something...\") # on a line is ignored by your python interpreter?\n",
    "print(\"and something else..\") # this is really helpful to comment on your code!\n",
    "\"\"\"Another way\n",
    "of commenting on your code is via \n",
    "triple quotes -- these can be distributed over multiple \"\"\" # lines\n",
    "print(\"Done.\")"
   ]
  },
  {
   "cell_type": "markdown",
   "metadata": {},
   "source": [
    "So, how many ways are there to comment on your code in Python? "
   ]
  },
  {
   "cell_type": "markdown",
   "metadata": {},
   "source": [
    "----------"
   ]
  },
  {
   "cell_type": "markdown",
   "metadata": {},
   "source": [
    "##### What we have learnt"
   ]
  },
  {
   "cell_type": "markdown",
   "metadata": {},
   "source": [
    "To finish this section, here is an overview of what we have learnt. Go through the list and make sure you understand all the concepts.\n",
    "\n",
    "-  string concatenation\n",
    "-  index\n",
    "-  slicing\n",
    "- `zero-indexed` numbering\n",
    "-  `len()`\n",
    "-  type casting: `int()` and `str()`\n",
    "-  `type()`\n",
    "-  code commenting via hashtags and triple double quotes\n"
   ]
  },
  {
   "cell_type": "markdown",
   "metadata": {},
   "source": [
    "-------"
   ]
  },
  {
   "cell_type": "markdown",
   "metadata": {},
   "source": [
    "## Final Exercises Chapter 1"
   ]
  },
  {
   "cell_type": "raw",
   "metadata": {},
   "source": [
    "Inspired by *Think Python* by Allen B. Downey (http://thinkpython.com), *Introduction to Programming Using Python* by Y. Liang (Pearson, 2013). Some exercises below have been taken from: http://www.ling.gu.se/~lager/python_exercises.html.\n",
    "\n",
    "Submit your solutions to exercises 1 to 9 by pasting a screen shot of your code and the output in one text file. Exercise 8 is optional for extra credit."
   ]
  },
  {
   "cell_type": "markdown",
   "metadata": {},
   "source": [
    "-  Ex. 1: Suppose the cover price of a book is 24.95 EUR, but bookstores get a 40 percent discount. Shipping costs 3 EUR for the first copy and 75 cents for each additional copy. What is the total wholesale cost for 60 copies? As an extra challenge, try printing the result in a pretty fashion, using casting where necessary!"
   ]
  },
  {
   "cell_type": "code",
   "execution_count": 94,
   "metadata": {},
   "outputs": [
    {
     "name": "stdout",
     "output_type": "stream",
     "text": [
      "How many copies do you want? 60\n",
      "The cost of the books is € 898.1999999999999\n",
      "The shipping cost is € 47.25\n",
      "You have to pay € 945.4499999999999 in total.\n"
     ]
    }
   ],
   "source": [
    "# your code goes here\n",
    "number_of_copies = input(\"How many copies do you want? \")\n",
    "price_books = (int(number_of_copies))*(24.95*0.6)\n",
    "price_shipping = 3 + ((int(number_of_copies)-1)*0.75)\n",
    "print(\"The cost of the books is €\", price_books)\n",
    "print(\"The shipping cost is €\", price_shipping)\n",
    "print(\"You have to pay €\", price_books + price_shipping, \"in total.\")"
   ]
  },
  {
   "cell_type": "markdown",
   "metadata": {},
   "source": [
    "-  Ex. 2: Can you identify and explain the errors in the following lines of code? Correct them please!"
   ]
  },
  {
   "cell_type": "code",
   "execution_count": 2,
   "metadata": {},
   "outputs": [
    {
     "name": "stdout",
     "output_type": "stream",
     "text": [
      "A message\n",
      "A message\n",
      "A message\n"
     ]
    }
   ],
   "source": [
    "print(\"A message\") # there is a point at the end\n",
    "print(\"A message\") #wrong use of quotation marks, the double ones are opened, but not closed\n",
    "print('A message') #wrong use of quotation marks, there is a double one where it's not needed"
   ]
  },
  {
   "cell_type": "markdown",
   "metadata": {},
   "source": [
    "-  Ex. 3: When something is wrong with your code, Python will raise errors. Often these will be 'syntax errors' that signal that something is wrong with the form of your code (i.e. a `SyntaxError` like the one thrown in the previous exercise). There are also 'runtime errors' that signal that your code was in itself formally correct, but that something went wrong during the code's execution. A good example is the `ZeroDivisionError`. Try to make Python throw such a ZeroDivisionError! (Hint: it has to do with the fact that you cannot divide a number by zero)"
   ]
  },
  {
   "cell_type": "code",
   "execution_count": 3,
   "metadata": {},
   "outputs": [
    {
     "ename": "ZeroDivisionError",
     "evalue": "division by zero",
     "output_type": "error",
     "traceback": [
      "\u001b[1;31m---------------------------------------------------------------------------\u001b[0m",
      "\u001b[1;31mZeroDivisionError\u001b[0m                         Traceback (most recent call last)",
      "\u001b[1;32m<ipython-input-3-addf0efa4881>\u001b[0m in \u001b[0;36m<module>\u001b[1;34m()\u001b[0m\n\u001b[0;32m      2\u001b[0m \u001b[0mx\u001b[0m \u001b[1;33m=\u001b[0m \u001b[1;36m6\u001b[0m\u001b[1;33m\u001b[0m\u001b[0m\n\u001b[0;32m      3\u001b[0m \u001b[0my\u001b[0m \u001b[1;33m=\u001b[0m \u001b[1;36m0\u001b[0m\u001b[1;33m\u001b[0m\u001b[0m\n\u001b[1;32m----> 4\u001b[1;33m \u001b[0mprint\u001b[0m\u001b[1;33m(\u001b[0m\u001b[0mx\u001b[0m\u001b[1;33m/\u001b[0m\u001b[0my\u001b[0m\u001b[1;33m)\u001b[0m\u001b[1;33m\u001b[0m\u001b[0m\n\u001b[0m",
      "\u001b[1;31mZeroDivisionError\u001b[0m: division by zero"
     ]
    }
   ],
   "source": [
    "# ZeroDivisionError\n",
    "x = 6\n",
    "y = 0\n",
    "print(x/y)"
   ]
  },
  {
   "cell_type": "markdown",
   "metadata": {},
   "source": [
    "- Ex. 4: Write a program that assigns the result of `9.5 * 4.5 - 2.5 * 345.5 - 3.5` to a variable. Print this variable. Use round brackets to indicate 'operator precedence' and make sure that subtractions are performed before multiplications. Print the new result. When you convert the outcome to a string, how many characters does it count? Print that too."
   ]
  },
  {
   "cell_type": "code",
   "execution_count": 5,
   "metadata": {},
   "outputs": [
    {
     "name": "stdout",
     "output_type": "stream",
     "text": [
      "-824.5\n",
      "6498.0\n",
      "6\n"
     ]
    }
   ],
   "source": [
    "# insert your code here\n",
    "x = 9.5 * 4.5 - 2.5 * 345.5 - 3.5\n",
    "print(x)\n",
    "y = 9.5 * (4.5 - 2.5) * (345.5 - 3.5)\n",
    "print(y)\n",
    "print(len(str(y)))"
   ]
  },
  {
   "cell_type": "markdown",
   "metadata": {},
   "source": [
    "-  Ex. 5: Define three variables `var1`, `var2` and `var3`. Calculate the average of these variables and assign it to `average`. Print the result in a fancy manner. Add three comments to this piece of code using three different ways."
   ]
  },
  {
   "cell_type": "code",
   "execution_count": 11,
   "metadata": {},
   "outputs": [
    {
     "name": "stdout",
     "output_type": "stream",
     "text": [
      "The average of var1, var2 and var3 is 10.0\n"
     ]
    }
   ],
   "source": [
    "# average\n",
    "var1 = 10 # the average of the 3 variables is easy to calculate without Python\n",
    "var2 = 15 \n",
    "\"\"\"but since it's an exercise, we do it anyway\"\"\"\n",
    "var3 = 5\n",
    "average = (var1+var2+var3)/3\n",
    "print(\"The average of var1, var2 and var3 is\", average)"
   ]
  },
  {
   "cell_type": "markdown",
   "metadata": {},
   "source": [
    "-  Ex. 6: Write a little program that can compute the surface of a circle, using the variables `radius` and `pi=3.14159`. The formula is of course radius, multiplied by radius, multiplied by `pi`. Print the outcome of your program as follows: 'The surface area of a circle with radius ... is: ...'."
   ]
  },
  {
   "cell_type": "code",
   "execution_count": 18,
   "metadata": {},
   "outputs": [
    {
     "name": "stdout",
     "output_type": "stream",
     "text": [
      "The surface area of a circle with radius  6  is  113.09724\n"
     ]
    }
   ],
   "source": [
    "# circle code\n",
    "radius = 6\n",
    "pi = 3.14159\n",
    "surface = radius*radius*pi\n",
    "print(\"The surface area of a circle with radius \", radius, \" is \", surface)"
   ]
  },
  {
   "cell_type": "markdown",
   "metadata": {},
   "source": [
    "To make things even more interactive, you can ask the user of the program to input the radius. Since this input is a string, you will need to cast it as an integer before doing calculations with it. Try adding your code from above to the code below and see if you can get it to work interactively."
   ]
  },
  {
   "cell_type": "code",
   "execution_count": 20,
   "metadata": {},
   "outputs": [
    {
     "name": "stdout",
     "output_type": "stream",
     "text": [
      "What is the radius? 8\n",
      "The surface area of a circle with radius  8  is  201.06176\n"
     ]
    }
   ],
   "source": [
    "# interactive circle code\n",
    "radius = input(\"What is the radius? \")\n",
    "radius = int(radius) # The interactive input is a string, so we need to cast it as an integer\n",
    "pi = 3.14159\n",
    "surface = radius*radius*pi\n",
    "print(\"The surface area of a circle with radius \", radius, \" is \", surface)"
   ]
  },
  {
   "cell_type": "markdown",
   "metadata": {},
   "source": [
    "- Ex. 7: Get help online. There is one operator (like the ones for multiplication and subtraction) that we did not mention yet, namely the modulus operator `%`. Could you figure by yourself what it does when you place it between two numbers (e.g. 113 % 9)? If not, ask Google for help."
   ]
  },
  {
   "cell_type": "code",
   "execution_count": 25,
   "metadata": {},
   "outputs": [
    {
     "name": "stdout",
     "output_type": "stream",
     "text": [
      "10\n",
      "25\n",
      "25\n",
      "2\n"
     ]
    }
   ],
   "source": [
    "# try out the modulus operator!\n",
    "x = 10 % 100 # 10 percent of 100 is 10\n",
    "print(x)\n",
    "y = 25 % 100 # 25 percent of 100 is 25\n",
    "print(y)\n",
    "z = 25 % 200 # 25 percent of 200 is 50\n",
    "print(z)\n",
    "x=14\n",
    "y=3\n",
    "print(x%y) # x/y=14/3=12, the rest is 2, the % sign calculates the rest when you devide the variable before the sign by the one after the sign"
   ]
  },
  {
   "cell_type": "markdown",
   "metadata": {},
   "source": [
    "- Ex. 8: As happens very often, we make mistakes and Python raises errors. Correct all the errors in the following block of code. "
   ]
  },
  {
   "cell_type": "code",
   "execution_count": 39,
   "metadata": {},
   "outputs": [
    {
     "name": "stdout",
     "output_type": "stream",
     "text": [
      "Marie and Jozef have two children, Bert and An. Between the two children there is a difference of age of 3 years.\n"
     ]
    }
   ],
   "source": [
    "child1 = \"Bert\"\n",
    "child2 = \"An\"\n",
    "age_child1 = 5\n",
    "age_child2 = 2\n",
    "\n",
    "mother = \"Marie\"\n",
    "father = \"Jozef\"\n",
    "\n",
    "message1 = mother + \" and \" + father + \" have two children, \" + child1 + \" and \" + child2 + \".\" \n",
    "message2 = \"Between the two children there is a difference of age of \" + str(age_child1 - age_child2) + \" years.\"\n",
    "print(message1, message2)\n"
   ]
  },
  {
   "cell_type": "markdown",
   "metadata": {},
   "source": [
    "-----------------------\n",
    "\n",
    "You've reached the end of Chapter 1! You can safely ignore the code block below -- it's only there to make the page prettier."
   ]
  },
  {
   "cell_type": "code",
   "execution_count": null,
   "metadata": {
    "collapsed": true
   },
   "outputs": [],
   "source": [
    "from IPython.core.display import HTML\n",
    "def css_styling():\n",
    "    styles = open(\"styles/custom.css\", \"r\").read()\n",
    "    return HTML(styles)\n",
    "css_styling()"
   ]
  },
  {
   "cell_type": "code",
   "execution_count": null,
   "metadata": {
    "collapsed": true
   },
   "outputs": [],
   "source": []
  }
 ],
 "metadata": {
  "kernelspec": {
   "display_name": "Python 3",
   "language": "python",
   "name": "python3"
  },
  "language_info": {
   "codemirror_mode": {
    "name": "ipython",
    "version": 3
   },
   "file_extension": ".py",
   "mimetype": "text/x-python",
   "name": "python",
   "nbconvert_exporter": "python",
   "pygments_lexer": "ipython3",
   "version": "3.6.1"
  }
 },
 "nbformat": 4,
 "nbformat_minor": 1
}
