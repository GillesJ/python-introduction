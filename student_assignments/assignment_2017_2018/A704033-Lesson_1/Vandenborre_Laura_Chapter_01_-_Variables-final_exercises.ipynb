{
 "cells": [
  {
   "cell_type": "markdown",
   "metadata": {},
   "source": [
    "# Chapter 1: Variables"
   ]
  },
  {
   "cell_type": "markdown",
   "metadata": {},
   "source": [
    "-------------------------------"
   ]
  },
  {
   "cell_type": "markdown",
   "metadata": {},
   "source": [
    "## Final Exercises Chapter 1"
   ]
  },
  {
   "cell_type": "raw",
   "metadata": {},
   "source": [
    "Inspired by *Think Python* by Allen B. Downey (http://thinkpython.com), *Introduction to Programming Using Python* by Y. Liang (Pearson, 2013). Some exercises below have been taken from: http://www.ling.gu.se/~lager/python_exercises.html.\n",
    "\n",
    "Submit your solutions to exercises 1 to 9 by pasting a screen shot of your code and the output in one text file. Exercise 8 is optional for extra credit."
   ]
  },
  {
   "cell_type": "markdown",
   "metadata": {},
   "source": [
    "-  Ex. 1: Suppose the cover price of a book is 24.95 EUR, but bookstores get a 40 percent discount. Shipping costs 3 EUR for the first copy and 75 cents for each additional copy. What is the total wholesale cost for 60 copies? As an extra challenge, try printing the result in a pretty fashion, using casting where necessary!"
   ]
  },
  {
   "cell_type": "code",
   "execution_count": 1,
   "metadata": {},
   "outputs": [
    {
     "name": "stdout",
     "output_type": "stream",
     "text": [
      "945.4499999999999\n"
     ]
    }
   ],
   "source": [
    "coverprice = 24.95\n",
    "discount = .60\n",
    "first_book = 3\n",
    "additional_copies = .75\n",
    "copies_amount = 60\n",
    "\n",
    "book_price = coverprice*discount*copies_amount\n",
    "shipping = first_book + (additional_copies*59)\n",
    "result = book_price + shipping\n",
    "print(result)"
   ]
  },
  {
   "cell_type": "markdown",
   "metadata": {},
   "source": [
    "-  Ex. 2: Can you identify and explain the errors in the following lines of code? Correct them please!"
   ]
  },
  {
   "cell_type": "code",
   "execution_count": null,
   "metadata": {
    "collapsed": true
   },
   "outputs": [],
   "source": [
    "print(\"A message\").\n",
    "#print(\"A message\") no punctuation\n",
    "print(\"A message')\n",
    "#print(\"A message\") string \" \"\n",
    "print('A messagef\"')\n",
    "#print(\"A messagef\") string \" \" "
   ]
  },
  {
   "cell_type": "markdown",
   "metadata": {},
   "source": [
    "-  Ex. 3: When something is wrong with your code, Python will raise errors. Often these will be 'syntax errors' that signal that something is wrong with the form of your code (i.e. a `SyntaxError` like the one thrown in the previous exercise). There are also 'runtime errors' that signal that your code was in itself formally correct, but that something went wrong during the code's execution. A good example is the `ZeroDivisionError`. Try to make Python throw such a ZeroDivisionError! (Hint: it has to do with the fact that you cannot divide a number by zero)"
   ]
  },
  {
   "cell_type": "code",
   "execution_count": 2,
   "metadata": {},
   "outputs": [
    {
     "ename": "ZeroDivisionError",
     "evalue": "division by zero",
     "output_type": "error",
     "traceback": [
      "\u001b[1;31m---------------------------------------------------------------------------\u001b[0m",
      "\u001b[1;31mZeroDivisionError\u001b[0m                         Traceback (most recent call last)",
      "\u001b[1;32m<ipython-input-2-2f1d6b6006a8>\u001b[0m in \u001b[0;36m<module>\u001b[1;34m()\u001b[0m\n\u001b[0;32m      1\u001b[0m \u001b[0mx\u001b[0m \u001b[1;33m=\u001b[0m \u001b[1;36m10\u001b[0m\u001b[1;33m\u001b[0m\u001b[0m\n\u001b[0;32m      2\u001b[0m \u001b[0my\u001b[0m \u001b[1;33m=\u001b[0m \u001b[1;36m0\u001b[0m\u001b[1;33m\u001b[0m\u001b[0m\n\u001b[1;32m----> 3\u001b[1;33m \u001b[0mz\u001b[0m \u001b[1;33m=\u001b[0m \u001b[0mx\u001b[0m\u001b[1;33m/\u001b[0m\u001b[0my\u001b[0m\u001b[1;33m\u001b[0m\u001b[0m\n\u001b[0m",
      "\u001b[1;31mZeroDivisionError\u001b[0m: division by zero"
     ]
    }
   ],
   "source": [
    "x = 10\n",
    "y = 0\n",
    "z = x/y"
   ]
  },
  {
   "cell_type": "markdown",
   "metadata": {},
   "source": [
    "- Ex. 4: Write a program that assigns the result of `9.5 * 4.5 - 2.5 * 345.5 - 3.5` to a variable. Print this variable. Use round brackets to indicate 'operator precedence' and make sure that subtractions are performed before multiplications. Print the new result. When you convert the outcome to a string, how many characters does it count? Print that too."
   ]
  },
  {
   "cell_type": "code",
   "execution_count": 3,
   "metadata": {},
   "outputs": [
    {
     "name": "stdout",
     "output_type": "stream",
     "text": [
      "-824.5\n",
      "6498.0\n",
      "6\n"
     ]
    }
   ],
   "source": [
    "variable1 = 9.5 * 4.5 - 2.5 * 345.5 - 3.5\n",
    "print(variable1)\n",
    "variable2 = 9.5 * (4.5 - 2.5) * (345.5 - 3.5)\n",
    "print(variable2)\n",
    "variable2 = str(variable2)\n",
    "print(len(variable2))"
   ]
  },
  {
   "cell_type": "markdown",
   "metadata": {},
   "source": [
    "-  Ex. 5: Define three variables `var1`, `var2` and `var3`. Calculate the average of these variables and assign it to `average`. Print the result in a fancy manner. Add three comments to this piece of code using three different ways."
   ]
  },
  {
   "cell_type": "code",
   "execution_count": 4,
   "metadata": {},
   "outputs": [
    {
     "name": "stdout",
     "output_type": "stream",
     "text": [
      "The average is 14.333333333333334\n"
     ]
    }
   ],
   "source": [
    "var1 = 14 #three variables\n",
    "var2 = 18\n",
    "var3 = 11\n",
    "\"\"\"calculating the average by addition of the variables followed by division\"\"\"\n",
    "average = (var1 + var2 + var3)/3\n",
    "'''\n",
    "converting the average from a float to a string in order to print it\n",
    "'''\n",
    "average = str(average)\n",
    "print(\"The average is \" + average)"
   ]
  },
  {
   "cell_type": "markdown",
   "metadata": {},
   "source": [
    "-  Ex. 6: Write a little program that can compute the surface of a circle, using the variables `radius` and `pi=3.14159`. The formula is of course radius, multiplied by radius, multiplied by `pi`. Print the outcome of your program as follows: 'The surface area of a circle with radius ... is: ...'."
   ]
  },
  {
   "cell_type": "code",
   "execution_count": 5,
   "metadata": {},
   "outputs": [
    {
     "name": "stdout",
     "output_type": "stream",
     "text": [
      "The surface area of a circle with radius 5 is: 78.53975\n"
     ]
    }
   ],
   "source": [
    "radius = 5\n",
    "pi = 3.14159\n",
    "surface = (radius*radius)*pi\n",
    "surface = str(surface)\n",
    "radius = str(radius)\n",
    "print(\"The surface area of a circle with radius \" + radius + \" is: \" + surface)"
   ]
  },
  {
   "cell_type": "markdown",
   "metadata": {},
   "source": [
    "To make things even more interactive, you can ask the user of the program to input the radius. Since this input is a string, you will need to cast it as an integer before doing calculations with it. Try adding your code from above to the code below and see if you can get it to work interactively."
   ]
  },
  {
   "cell_type": "code",
   "execution_count": 6,
   "metadata": {},
   "outputs": [
    {
     "name": "stdout",
     "output_type": "stream",
     "text": [
      "What is the radius? 5\n",
      "The surface area of a circle with radius 5 is: 78.53975\n"
     ]
    }
   ],
   "source": [
    "radius = input(\"What is the radius? \")\n",
    "radius = int(radius) # The interactive input is a string, so we need to cast it as an integer\n",
    "\n",
    "pi = 3.14159\n",
    "surface = (radius*radius)*pi\n",
    "surface = str(surface)\n",
    "radius = str(radius)\n",
    "print(\"The surface area of a circle with radius \" + radius + \" is: \" + surface)"
   ]
  },
  {
   "cell_type": "markdown",
   "metadata": {},
   "source": [
    "- Ex. 7: Get help online. There is one operator (like the ones for multiplication and subtraction) that we did not mention yet, namely the modulus operator `%`. Could you figure by yourself what it does when you place it between two numbers (e.g. 113 % 9)? If not, ask Google for help."
   ]
  },
  {
   "cell_type": "code",
   "execution_count": 7,
   "metadata": {},
   "outputs": [
    {
     "name": "stdout",
     "output_type": "stream",
     "text": [
      "5\n"
     ]
    }
   ],
   "source": [
    "modulus = 113 % 9\n",
    "print(modulus)\n",
    "# 5 is the remainder of the division, the closest you can get to 113 by multiplying 9 is 12*9 which results in 108, 113-108=5"
   ]
  },
  {
   "cell_type": "markdown",
   "metadata": {},
   "source": [
    "- Ex. 8: As happens very often, we make mistakes and Python raises errors. Correct all the errors in the following block of code. "
   ]
  },
  {
   "cell_type": "code",
   "execution_count": 8,
   "metadata": {},
   "outputs": [
    {
     "name": "stdout",
     "output_type": "stream",
     "text": [
      "Marie and Jozef have two children, Bert and An. Between the two children there is a difference of age of 3 years.\n"
     ]
    }
   ],
   "source": [
    "child1 = \"Bert\"\n",
    "child2 = \"An\"\n",
    "age_child1 = 5\n",
    "age_child2 = 2\n",
    "\n",
    "age_difference = age_child1 - age_child2\n",
    "age_difference = str(age_difference) #casting to string, message2 cannot work with integers\n",
    "\n",
    "mother = \"Marie\"\n",
    "father = \"Jozef\"\n",
    "\n",
    "message1 = mother + (\" and \") + father + (\" have two children, \") + child1 + (\" and \") + child2 + (\". \") \n",
    "message2 = (\"Between the two children there is a difference of age of \") + age_difference + (\" years.\")\n",
    "print(message1 + message2)"
   ]
  },
  {
   "cell_type": "markdown",
   "metadata": {},
   "source": [
    "-----------------------\n",
    "\n",
    "You've reached the end of Chapter 1! You can safely ignore the code block below -- it's only there to make the page prettier."
   ]
  },
  {
   "cell_type": "code",
   "execution_count": null,
   "metadata": {
    "collapsed": true
   },
   "outputs": [],
   "source": [
    "from IPython.core.display import HTML\n",
    "def css_styling():\n",
    "    styles = open(\"styles/custom.css\", \"r\").read()\n",
    "    return HTML(styles)\n",
    "css_styling()"
   ]
  },
  {
   "cell_type": "code",
   "execution_count": null,
   "metadata": {
    "collapsed": true
   },
   "outputs": [],
   "source": []
  }
 ],
 "metadata": {
  "kernelspec": {
   "display_name": "Python 3",
   "language": "python",
   "name": "python3"
  },
  "language_info": {
   "codemirror_mode": {
    "name": "ipython",
    "version": 3
   },
   "file_extension": ".py",
   "mimetype": "text/x-python",
   "name": "python",
   "nbconvert_exporter": "python",
   "pygments_lexer": "ipython3",
   "version": "3.6.2"
  }
 },
 "nbformat": 4,
 "nbformat_minor": 1
}
