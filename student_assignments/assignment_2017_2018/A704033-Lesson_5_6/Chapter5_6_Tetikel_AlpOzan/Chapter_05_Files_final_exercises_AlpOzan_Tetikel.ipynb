{
 "cells": [
  {
   "cell_type": "markdown",
   "metadata": {},
   "source": [
    "# Chapter 5: Files"
   ]
  },
  {
   "cell_type": "markdown",
   "metadata": {},
   "source": [
    "In this chapter, we will learn how to work with files on disk, and introduce some important concepts along the way: the use of external libraries, character encodings and file paths."
   ]
  },
  {
   "cell_type": "markdown",
   "metadata": {},
   "source": [
    "---"
   ]
  },
  {
   "cell_type": "markdown",
   "metadata": {},
   "source": [
    "## Final exercises"
   ]
  },
  {
   "cell_type": "markdown",
   "metadata": {},
   "source": [
    "Inspired by *Think Python* by Allen B. Downey (http://thinkpython.com), *Introduction to Programming Using Python* by Y. Liang (Pearson, 2013). Some exercises below have been taken from: http://www.ling.gu.se/~lager/python_exercises.html."
   ]
  },
  {
   "cell_type": "markdown",
   "metadata": {},
   "source": [
    "* Ex. 1: go to Project Gutenberg (http://www.gutenberg.org) and download your favorite out-of-copyright book in plain text format. Make a frequency dictionary of the words in the novel. Sort the words in the dictionary by increasing frequency and write it to a text file called `frequencies.txt`. Make sure your program ignores capitalization. Find out how you can sort a dictionary by value -- there are several ways of doing this, search the web in order to get some help. As a bonus exercise, add code so that the frequency dictionary ignores punctuation (hint: check out `string.punctuation` to get all punctuation)."
   ]
  },
  {
   "cell_type": "code",
   "execution_count": null,
   "metadata": {
    "collapsed": true,
    "scrolled": false
   },
   "outputs": [],
   "source": [
    "                                                     #COMPLETED , do no EXECUTE the Code.\n",
    "import codecs\n",
    "f = codecs.open('Hollow/sleepy_hollow.txt', 'r', 'utf-8')\n",
    "print(f.encoding)\n",
    "# f.encoding, dosyamın karakter setini veriyor. \n",
    "text = f.read()\n",
    "print(type(text))\n",
    "text1 = text.lower()\n",
    "f.close()\n",
    "\n",
    "freq_list = []\n",
    "t_in_text = text1.split()\n",
    "#print(t_in_text)\n",
    "\n",
    "for i in t_in_text:\n",
    "    token = t_in_text.count(i)\n",
    "    freq_list.append((i,token))\n",
    "#print(freq_list)\n",
    "freq_dict = dict(freq_list)\n",
    "#print(freq_dict)\n",
    "\n",
    "sred = sorted(freq_dict.items(), key=lambda value: value[1])\n",
    "print(type(sred))\n",
    "\n",
    "freq_dict_sred = str(sred) #CJECK HERE AGAIN IF ITS CORRECT. USE THE EXAMPLE ON T_OUT = '\\T'.JOIN(LISTNAME)\n",
    "#print(freq_dict_sred)\n",
    "print(type(freq_dict_sred))\n",
    "\n",
    "#CHECK THE CODE BELOW\n",
    "#t_out = '\\n'.join(sorted(list_tokens))\n",
    "#print(t_out)\n",
    "\n",
    "\n",
    "\n",
    "#g= codecs.open('Hollow/frequencies.txt' , 'w' , 'utf-8')\n",
    "#g.write((freq_dict_sred))\n",
    "#g.close()\n",
    "\n",
    "\n",
    "#Found the 'sred code' online.  \n",
    "#                                         BONUS EXERCISE with string.punct\n",
    "\n",
    "import string\n",
    "translator = str.maketrans('', '' , string.punctuation)\n",
    "print(freq_dict_sred.translate(translator))"
   ]
  },
  {
   "cell_type": "markdown",
   "metadata": {},
   "source": [
    "* Ex. 2: rewrite the novel in the previous exercise, by replacing the name of the principal character in the novel by your own name. (Use the `replace()` function for this.) Write the new version of novel to a file called `starring_me.txt`."
   ]
  },
  {
   "cell_type": "code",
   "execution_count": 4,
   "metadata": {},
   "outputs": [
    {
     "name": "stdout",
     "output_type": "stream",
     "text": [
      "utf-8\n",
      "<class 'str'>\n"
     ]
    }
   ],
   "source": [
    "                                                            #DONE, DO NOT EXECUTE THIS CODE\n",
    "import codecs\n",
    "f = codecs.open('data/sleepy_hollow.txt', 'r', 'utf-8')\n",
    "print(f.encoding)\n",
    "# f.encoding, dosyamın karakter setini veriyor. \n",
    "text = f.read()\n",
    "f.close()\n",
    "#print(text)\n",
    "print(type(text))\n",
    "\n",
    "#print(text.replace(\"Ichabod Crane\" , \"Alp\"))\n",
    "\n",
    "f=codecs.open('data/starring_Alp.txt' , \"w\" , 'utf-8')\n",
    "#text.replace('Ichabod Crane' , 'Ichabod')\n",
    "f.write(text.replace(\"Ichabod\" , \"Alp\"))\n",
    "f.close()"
   ]
  },
  {
   "cell_type": "markdown",
   "metadata": {},
   "source": [
    "* Ex. 3: Write a program that takes a text file (e.g. `filename.txt`) and creates a new text file (e.g. `filename_numbered.txt`) in which all the lines from the original file are numbered from 1 to n (where n is the number of lines in the file), i.e. prepend the number and a space to each line."
   ]
  },
  {
   "cell_type": "code",
   "execution_count": null,
   "metadata": {
    "collapsed": true
   },
   "outputs": [],
   "source": [
    "# I could not complete this task. \n",
    "\n",
    "text_file = input('Enter your filename here as .txt file with the correct directory. ')\n",
    "import codecs\n",
    "f= codecs.open(text_file , 'r' , 'utf-8')\n",
    "#17 = Number of lines in my text file.\n",
    "count = 0\n",
    "for line in f:\n",
    "    count += 1\n",
    "    print(line.strip() , count)\n",
    "f.close()\n",
    "    #en yukarıda boşluk olmadığını düşünürsek +1 eklememiz gerekir. \n",
    "#.readlines\n",
    "\n",
    "lines = text_file.readlines()\n",
    "\n",
    "new_text_file = (text_file.replace('.txt', ' ') + (text_file.readlines()) + \".txt\")\n",
    "print(new_text_file)\n"
   ]
  },
  {
   "cell_type": "markdown",
   "metadata": {},
   "source": [
    "* Advanced bonus exercise for if you feel like trying something crazy: a *sentence splitter* is a program capable of splitting a text into sentences. The standard set of heuristics for sentence splitting includes (but isn't limited to) the following rules: Sentence boundaries occur at one of \".\" (periods), \"?\" or \"!\", except that:\n",
    "\n",
    "> - Periods followed by whitespace followed by a lowercase letter are not sentence boundaries.\n",
    "> - Periods followed by a digit with no intervening whitespace are not sentence boundaries.\n",
    "> - Periods followed by whitespace and then an uppercase letter, but preceded by any of a short list of titles are not sentence boundaries. Sample titles include Mr., Mrs., Dr., and so on.\n",
    "> - Periods internal to a sequence of letters with no adjacent whitespace are not sentence boundaries, such as in www.aptex.com or e.g.\n",
    "> - Periods followed by certain kinds of punctuation (notably comma and more periods) are probably not sentence boundaries.\n",
    "\n",
    "You might want to check out string functions, like `.islower()` and `.isalpha()` in the official Python documentation online. Your task here is to write a function that given the name of a text file is able to write its content with each sentence on a separate line to a new file whose name is also passed as an argument to the function. The function itself should return a list of sentences. Test your program with the following short text: `\"Mr. Smith bought cheapsite.com for 1.5 million dollars, i.e. he paid a lot for it. Did he mind? Adam Jones Jr. thinks he didn't. In any case, this isn't true... Well, with a probability of .9 it isn't.\"` The result written to the new file should be:\n",
    "\n",
    "Mr. Smith bought cheapsite.com for 1.5 million dollars, i.e. he paid a lot for it.\n",
    "\n",
    "Did he mind?\n",
    "\n",
    "Adam Jones Jr. thinks he didn't.\n",
    "\n",
    "In any case, this isn't true...\n",
    "\n",
    "Well, with a probability of .9 it isn't.\n"
   ]
  },
  {
   "cell_type": "code",
   "execution_count": null,
   "metadata": {
    "collapsed": true
   },
   "outputs": [],
   "source": []
  },
  {
   "cell_type": "markdown",
   "metadata": {},
   "source": [
    "------------------------------\n",
    "\n",
    "You've reached the end of Chapter 5! You can safely ignore the code below, it's only there to make the page pretty:"
   ]
  },
  {
   "cell_type": "code",
   "execution_count": null,
   "metadata": {
    "collapsed": true
   },
   "outputs": [],
   "source": [
    "from IPython.core.display import HTML\n",
    "def css_styling():\n",
    "    styles = open(\"styles/custom.css\", \"r\").read()\n",
    "    return HTML(styles)\n",
    "css_styling()"
   ]
  }
 ],
 "metadata": {
  "kernelspec": {
   "display_name": "Python 3",
   "language": "python",
   "name": "python3"
  },
  "language_info": {
   "codemirror_mode": {
    "name": "ipython",
    "version": 3
   },
   "file_extension": ".py",
   "mimetype": "text/x-python",
   "name": "python",
   "nbconvert_exporter": "python",
   "pygments_lexer": "ipython3",
   "version": "3.6.1"
  }
 },
 "nbformat": 4,
 "nbformat_minor": 1
}
