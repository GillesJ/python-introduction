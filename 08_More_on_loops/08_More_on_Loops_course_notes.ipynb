{
 "cells": [
  {
   "cell_type": "markdown",
   "metadata": {},
   "source": [
    "# Chapter 8: More on loops"
   ]
  },
  {
   "cell_type": "markdown",
   "metadata": {},
   "source": [
    "In the previous chapters, we have often used the powerful concept of looping in Python. Using loops, we can easily repeat certain actions when coding. With for loops, for instance, it is really easy to visit the items in a list in a list and print them. In this chapter, we will discuss some more advanced forms of looping, as well as new, quick ways to create and deal with lists and other iterable data sequences."
   ]
  },
  {
   "cell_type": "markdown",
   "metadata": {},
   "source": [
    "### Range"
   ]
  },
  {
   "cell_type": "markdown",
   "metadata": {},
   "source": [
    "The first new function that we will discuss here is `range()`. Using this function, we can quickly generate a list of numbers in a specific range:"
   ]
  },
  {
   "cell_type": "code",
   "execution_count": 4,
   "metadata": {
    "collapsed": true
   },
   "outputs": [
    {
     "name": "stdout",
     "output_type": "stream",
     "text": [
      "0\n",
      "1\n",
      "2\n",
      "3\n",
      "4\n",
      "5\n",
      "6\n",
      "7\n",
      "8\n",
      "9\n",
      "10\n",
      "11\n"
     ]
    }
   ],
   "source": [
    "series = 12\n",
    "for i in range(series):\n",
    "    print(i)\n",
    "    "
   ]
  },
  {
   "cell_type": "markdown",
   "metadata": {},
   "source": [
    "Here, `range()` will return a number of integers, starting from zero, up to (but not including) the number which we pass as an argument to the function. Using `range()` is of course much more convenient to generate such lists of numbers than writing e.g. a while-loop to achieve the same result. Note that we can pass more than one argument to `range()`, if we want to start counting from a number higher than zero (which will be the default when you only pass a single parameter to the function):  "
   ]
  },
  {
   "cell_type": "code",
   "execution_count": 5,
   "metadata": {},
   "outputs": [
    {
     "name": "stdout",
     "output_type": "stream",
     "text": [
      "300\n",
      "301\n",
      "302\n",
      "303\n",
      "304\n",
      "305\n"
     ]
    }
   ],
   "source": [
    "for i in range(300, 306):\n",
    "    print(i)"
   ]
  },
  {
   "cell_type": "markdown",
   "metadata": {},
   "source": [
    "We can even specify a 'step size' as a third argument, which controls how much a variable will increase with each step:"
   ]
  },
  {
   "cell_type": "code",
   "execution_count": 6,
   "metadata": {
    "collapsed": true
   },
   "outputs": [
    {
     "name": "stdout",
     "output_type": "stream",
     "text": [
      "15\n",
      "18\n",
      "21\n",
      "24\n"
     ]
    }
   ],
   "source": [
    "for i in range(15, 26, 3):\n",
    "    print(i)"
   ]
  },
  {
   "cell_type": "markdown",
   "metadata": {},
   "source": [
    "If you don't specify the step size explicitly, it will default to 1. If you want to store or print the result of calling `range()`, you have to cast it explicitly, for instance, to a list:"
   ]
  },
  {
   "cell_type": "code",
   "execution_count": 8,
   "metadata": {},
   "outputs": [
    {
     "name": "stdout",
     "output_type": "stream",
     "text": [
      "[3, 4, 5, 6, 7, 8, 9]\n"
     ]
    }
   ],
   "source": [
    "numbers = list(range(10))\n",
    "print(numbers[3:])"
   ]
  },
  {
   "cell_type": "markdown",
   "metadata": {},
   "source": [
    "### Enumerate"
   ]
  },
  {
   "cell_type": "markdown",
   "metadata": {},
   "source": [
    "Of course, `range()` can also be used to iterate over the items in a list or tuple, typically in combination with calling `len()` to avoid `IndexErrors`: "
   ]
  },
  {
   "cell_type": "code",
   "execution_count": 9,
   "metadata": {},
   "outputs": [
    {
     "name": "stdout",
     "output_type": "stream",
     "text": [
      "Be\n",
      "yourself;\n",
      "everyone\n",
      "else\n",
      "is\n",
      "already\n",
      "taken\n"
     ]
    }
   ],
   "source": [
    "words = \"Be yourself; everyone else is already taken\".split()\n",
    "for i in range(len(words)):\n",
    "    print(words[i])"
   ]
  },
  {
   "cell_type": "markdown",
   "metadata": {},
   "source": [
    "Naturally, the same result can more easily be obtained by looping over `words` directly:"
   ]
  },
  {
   "cell_type": "code",
   "execution_count": 10,
   "metadata": {},
   "outputs": [
    {
     "name": "stdout",
     "output_type": "stream",
     "text": [
      "Be\n",
      "yourself;\n",
      "everyone\n",
      "else\n",
      "is\n",
      "already\n",
      "taken\n"
     ]
    }
   ],
   "source": [
    " for word in words:\n",
    "    print(word)"
   ]
  },
  {
   "cell_type": "markdown",
   "metadata": {},
   "source": [
    "One drawback of such an easy-to-write loop, however, is that it doesn't keep track of the index of the word that we are printing in one of the iterations. Suppose that we would like to print the index of each word in our example above, we would then have to work with  a counter..."
   ]
  },
  {
   "cell_type": "code",
   "execution_count": 12,
   "metadata": {},
   "outputs": [
    {
     "name": "stdout",
     "output_type": "stream",
     "text": [
      "Be 0\n",
      "yourself; 1\n",
      "everyone 2\n",
      "else 3\n",
      "is 4\n",
      "already 5\n",
      "taken 6\n"
     ]
    }
   ],
   "source": [
    "for i, word in enumerate(words):\n",
    "    print(word, i)\n"
   ]
  },
  {
   "cell_type": "markdown",
   "metadata": {},
   "source": [
    "... or indeed use a call to `range()` and `len()`:"
   ]
  },
  {
   "cell_type": "code",
   "execution_count": null,
   "metadata": {
    "collapsed": true
   },
   "outputs": [],
   "source": [
    "for i in range(len(words)):\n",
    "    print(words[i], \": index\", i)      "
   ]
  },
  {
   "cell_type": "markdown",
   "metadata": {},
   "source": [
    "A function that makes life in Python much easier in this respect is `enumerate()`. If we pass a list to `enumerate()`, it will return a list of mini-tuples: each mini-tuple will contain as its first element the indices of the items, and as second element the actual item:"
   ]
  },
  {
   "cell_type": "code",
   "execution_count": 13,
   "metadata": {},
   "outputs": [
    {
     "name": "stdout",
     "output_type": "stream",
     "text": [
      "[(0, 'Be'), (1, 'yourself;'), (2, 'everyone'), (3, 'else'), (4, 'is'), (5, 'already'), (6, 'taken')]\n"
     ]
    }
   ],
   "source": [
    "print(list(enumerate(words)))"
   ]
  },
  {
   "cell_type": "markdown",
   "metadata": {},
   "source": [
    "Here -- as with `range()` -- we have to cast the result of `enumerate()` to e.g. a list before we can actually print it. Iterating over the result of `enumerate()`, on the other hand, is not a problem. Here, we print out each mini-tuple, consisting of an index and an item in a for loop:"
   ]
  },
  {
   "cell_type": "code",
   "execution_count": 14,
   "metadata": {},
   "outputs": [
    {
     "name": "stdout",
     "output_type": "stream",
     "text": [
      "(0, 'Be')\n",
      "(1, 'yourself;')\n",
      "(2, 'everyone')\n",
      "(3, 'else')\n",
      "(4, 'is')\n",
      "(5, 'already')\n",
      "(6, 'taken')\n"
     ]
    }
   ],
   "source": [
    "for mini_tuple in enumerate(words):\n",
    "    print(mini_tuple)"
   ]
  },
  {
   "cell_type": "markdown",
   "metadata": {},
   "source": [
    "When using such for loops and `enumerate()`, we can do something really cool. Remember that we can 'unpack' tuples with multiple assignment: if a tuple consists of two elements, we can unpack it on one line of code to two different variables via the assignment operator: "
   ]
  },
  {
   "cell_type": "code",
   "execution_count": 15,
   "metadata": {},
   "outputs": [
    {
     "name": "stdout",
     "output_type": "stream",
     "text": [
      "5\n",
      "already\n"
     ]
    }
   ],
   "source": [
    "item = (5, 'already')\n",
    "index, word = item # this is the same as: index, word = (5, \"already\")\n",
    "print(index)\n",
    "print(word)"
   ]
  },
  {
   "cell_type": "markdown",
   "metadata": {},
   "source": [
    "In our for loop example, we can apply the same kind of unpacking in each iteration:"
   ]
  },
  {
   "cell_type": "code",
   "execution_count": 16,
   "metadata": {},
   "outputs": [
    {
     "name": "stdout",
     "output_type": "stream",
     "text": [
      "0\n",
      "Be\n",
      "=======\n",
      "1\n",
      "yourself;\n",
      "=======\n",
      "2\n",
      "everyone\n",
      "=======\n",
      "3\n",
      "else\n",
      "=======\n",
      "4\n",
      "is\n",
      "=======\n",
      "5\n",
      "already\n",
      "=======\n",
      "6\n",
      "taken\n",
      "=======\n"
     ]
    }
   ],
   "source": [
    "for item in enumerate(words):\n",
    "    index, word = item\n",
    "    print(index)\n",
    "    print(word)\n",
    "    print(\"=======\")"
   ]
  },
  {
   "cell_type": "markdown",
   "metadata": {},
   "source": [
    "However, there is also a super-convenient shortcut for this in Python, where we unpack each item in the for-statement already:"
   ]
  },
  {
   "cell_type": "code",
   "execution_count": 19,
   "metadata": {},
   "outputs": [
    {
     "name": "stdout",
     "output_type": "stream",
     "text": [
      "(1, 'hi')\n",
      "(2, 'my')\n",
      "(3, 'name')\n",
      "(4, 'is')\n"
     ]
    }
   ],
   "source": [
    "d = {1: \"hi\", 2: \"my\", 3: \"name\", 4: \"is\"}\n",
    "for key_value in d.items():\n",
    "    print(key_value)"
   ]
  },
  {
   "cell_type": "markdown",
   "metadata": {},
   "source": [
    "How cool is that? Note how easy it becomes now, to solve our problem with the index above:"
   ]
  },
  {
   "cell_type": "code",
   "execution_count": 20,
   "metadata": {},
   "outputs": [
    {
     "name": "stdout",
     "output_type": "stream",
     "text": [
      "Be : index 0\n",
      "yourself; : index 1\n",
      "everyone : index 2\n",
      "else : index 3\n",
      "is : index 4\n",
      "already : index 5\n",
      "taken : index 6\n"
     ]
    }
   ],
   "source": [
    "for i, word in enumerate(words):\n",
    "    print(word, \": index\", i)"
   ]
  },
  {
   "cell_type": "markdown",
   "metadata": {},
   "source": [
    "#### DIY 1\n",
    "Let's put that into practice. First, extract the lines from the file `f` and put it in the variable `lines`. Then, loop over `lines` and print the line number followed by the line itself. Remember that `enumerate()` uses zero-based indexing..."
   ]
  },
  {
   "cell_type": "code",
   "execution_count": 25,
   "metadata": {
    "collapsed": true
   },
   "outputs": [
    {
     "name": "stdout",
     "output_type": "stream",
     "text": [
      "This is line number 0: Emma by Jane Austen 1816\n",
      "\n",
      "This is line number 1: \n",
      "\n",
      "This is line number 2: VOLUME I\n",
      "\n",
      "This is line number 3: \n",
      "\n",
      "This is line number 4: CHAPTER I\n",
      "\n",
      "This is line number 5: \n",
      "\n",
      "This is line number 6: \n",
      "\n",
      "This is line number 7: Emma Woodhouse, handsome, clever, and rich, with a comfortable home\n",
      "\n",
      "This is line number 8: and happy disposition, seemed to unite some of the best blessings\n",
      "\n",
      "This is line number 9: of existence; and had lived nearly twenty-one years in the world\n",
      "\n",
      "This is line number 10: with very little to distress or vex her.\n",
      "\n",
      "This is line number 11: \n",
      "\n",
      "This is line number 12: She was the youngest of the two daughters of a most affectionate,\n",
      "\n",
      "This is line number 13: indulgent father; and had, in consequence of her sister's marriage,\n",
      "\n",
      "This is line number 14: been mistress of his house from a very early period.  Her mother\n",
      "\n",
      "This is line number 15: had died too long ago for her to have more than an indistinct\n",
      "\n",
      "This is line number 16: remembrance of her caresses; and her place had been supplied\n",
      "\n",
      "This is line number 17: by an excellent woman as governess, who had fallen little short\n",
      "\n",
      "This is line number 18: of a mother in affection.\n"
     ]
    }
   ],
   "source": [
    "import codecs\n",
    "f = codecs.open(\"data/austen-emma-excerpt.txt\", \"r\", \"utf-8\")\n",
    "for i, line in enumerate(f.readlines()):\n",
    "    print(f\"This is line number {i}: {line}\")"
   ]
  },
  {
   "cell_type": "markdown",
   "metadata": {},
   "source": [
    "### Zip"
   ]
  },
  {
   "cell_type": "markdown",
   "metadata": {},
   "source": [
    "Obviously, `enumerate()` can be really useful when you're working with lists or other kinds of data sequences. Another helpful function in this respect is `zip()`. Suppose that we have a small database of 5 books in the forms of three lists: the first list contains the titles of the books, the second the author, while the third list contains the dates of publication: "
   ]
  },
  {
   "cell_type": "code",
   "execution_count": 27,
   "metadata": {
    "collapsed": true
   },
   "outputs": [],
   "source": [
    "titles = [\"Emma\", \"Stoner\", \"Inferno\", \"1984\", \"Aeneid\"]\n",
    "authors = [\"J. Austen\", \"J. Williams\", \"D. Alighieri\", \"G. Orwell\", \"P. Vergilius\"]\n",
    "dates = [\"1815\", \"2006\", \"Ca. 1321\", \"1949\", \"before 19 BC\"]"
   ]
  },
  {
   "cell_type": "markdown",
   "metadata": {},
   "source": [
    "In each of these lists, the third item always corresponds to Dante's masterpiece and the last item to the Aeneid by Vergil, which inspired him. The use of `zip()` can now easily be illustrated:"
   ]
  },
  {
   "cell_type": "code",
   "execution_count": 28,
   "metadata": {},
   "outputs": [
    {
     "name": "stdout",
     "output_type": "stream",
     "text": [
      "[('Emma', 'J. Austen'), ('Stoner', 'J. Williams'), ('Inferno', 'D. Alighieri'), ('1984', 'G. Orwell'), ('Aeneid', 'P. Vergilius')]\n",
      "[('Emma', '1815'), ('Stoner', '2006'), ('Inferno', 'Ca. 1321'), ('1984', '1949'), ('Aeneid', 'before 19 BC')]\n",
      "[('J. Austen', '1815'), ('J. Williams', '2006'), ('D. Alighieri', 'Ca. 1321'), ('G. Orwell', '1949'), ('P. Vergilius', 'before 19 BC')]\n"
     ]
    }
   ],
   "source": [
    "print(list(zip(titles, authors)))\n",
    "print(list(zip(titles, dates)))\n",
    "print(list(zip(authors, dates)))"
   ]
  },
  {
   "cell_type": "markdown",
   "metadata": {},
   "source": [
    "Do you see what happened here? In fact, `zip()` really functions like a 'zipper' in the real-world: it zips together multiple lists, and return a list of mini-tuples, in which the correct authors, titles and dates will be combined with each other. Moreover, you can pass more than two sequences at once to `zip()`:"
   ]
  },
  {
   "cell_type": "code",
   "execution_count": 30,
   "metadata": {},
   "outputs": [
    {
     "name": "stdout",
     "output_type": "stream",
     "text": [
      "[('J. Austen', 'Emma', '1815'), ('J. Williams', 'Stoner', '2006'), ('D. Alighieri', 'Inferno', 'Ca. 1321'), ('G. Orwell', '1984', '1949'), ('P. Vergilius', 'Aeneid', 'before 19 BC')]\n",
      "('J. Austen', 'Emma', '1815')\n",
      "('J. Williams', 'Stoner', '2006')\n",
      "('D. Alighieri', 'Inferno', 'Ca. 1321')\n",
      "('G. Orwell', '1984', '1949')\n",
      "('P. Vergilius', 'Aeneid', 'before 19 BC')\n"
     ]
    }
   ],
   "source": [
    "print(list(zip(authors, titles, dates)))\n",
    "zipped_book_info = zip(authors, titles, dates)\n",
    "for bookinf in zipped_book_info:\n",
    "    print(bookinf)"
   ]
  },
  {
   "cell_type": "markdown",
   "metadata": {},
   "source": [
    "How awesome is that? Here too: don't forget to cast the result of `zip()` to a list or tuple, e.g. if you want to print it. As with `enumerate()` we can now also unzip each mini-tuple when declaring a for-loop:"
   ]
  },
  {
   "cell_type": "code",
   "execution_count": null,
   "metadata": {
    "collapsed": true,
    "scrolled": true
   },
   "outputs": [],
   "source": [
    "for author, title in zip(authors, titles):\n",
    "    print(author)\n",
    "    print(title)\n",
    "    print(\"===\")"
   ]
  },
  {
   "cell_type": "markdown",
   "metadata": {},
   "source": [
    "As you can understand, this is really useful functionality for dealing with long, complex lists and especially combinations of them."
   ]
  },
  {
   "cell_type": "markdown",
   "metadata": {},
   "source": [
    "#### DIY 2\n",
    "Suppose you want to make a `rot13` dictionary for the Caesar cipher (which maps each character to the character 13 places up or down the alphabet). Can you try making this dictionary using `letters1` and `letters2` and `zip()`?\n"
   ]
  },
  {
   "cell_type": "code",
   "execution_count": 44,
   "metadata": {
    "scrolled": true
   },
   "outputs": [
    {
     "name": "stdout",
     "output_type": "stream",
     "text": [
      "[('a', 'n'), ('b', 'o'), ('c', 'p'), ('d', 'q'), ('e', 'r'), ('f', 's'), ('g', 't'), ('h', 'u'), ('i', 'v'), ('j', 'w'), ('k', 'x'), ('l', 'y'), ('m', 'z'), ('n', 'a'), ('o', 'b'), ('p', 'c'), ('q', 'd'), ('r', 'e'), ('s', 'f'), ('t', 'g'), ('u', 'h'), ('v', 'i'), ('w', 'j'), ('x', 'k'), ('y', 'l'), ('z', 'm')]\n",
      "{'a': 'n', 'b': 'o', 'c': 'p', 'd': 'q', 'e': 'r', 'f': 's', 'g': 't', 'h': 'u', 'i': 'v', 'j': 'w', 'k': 'x', 'l': 'y', 'm': 'z', 'n': 'a', 'o': 'b', 'p': 'c', 'q': 'd', 'r': 'e', 's': 'f', 't': 'g', 'u': 'h', 'v': 'i', 'w': 'j', 'x': 'k', 'y': 'l', 'z': 'm'}\n",
      "congratulations, you broke the code!\n"
     ]
    }
   ],
   "source": [
    "letters1 = list(\"abcdefghijklm\")\n",
    "letters2 = list(\"nopqrstuvwxyz\")\n",
    "rot13 = {}\n",
    "\n",
    "## Your code goes here\n",
    "letterszip1 = list(zip(letters1, letters2))\n",
    "letterszip2 = list(zip(letters2, letters1))\n",
    "letterszip1.extend(letterszip2)\n",
    "print(letterszip1)\n",
    "\n",
    "rot13 = dict(letterszip1)\n",
    "\n",
    "for letter, encoding in letterszip1:\n",
    "    rot13[letter] = encoding\n",
    "    \n",
    "print(rot13)\n",
    "## Test\n",
    "message = \"pbatenghyngvbaf, lbh oebxr gur pbqr!\"\n",
    "decrypted_message = \"\".join(rot13.get(l, l) for l in message)\n",
    "    # FYI: the .get dictionary method looks up the first argument as a key, and returns the second argument in case of a KeyError\n",
    "print(decrypted_message)"
   ]
  },
  {
   "cell_type": "markdown",
   "metadata": {},
   "source": [
    "### Bonus material: comprehensions"
   ]
  },
  {
   "cell_type": "markdown",
   "metadata": {},
   "source": [
    "Lists and for loops are used all the time in programming. If you are interested, let's have to look at a more concise and easy way to create and fill new lists in Python: _list comprehensions_. They are also often used to change one list into another. Typically, comprehensions can be written in a single line of Python code, which is why people often feel like they are more readable than normal Python for loops. Let's start with an example. Say that we would like to fill a list of numbers that represent the length of each word in a sentence, but only if that word isn't a punctuation mark. By now, we can of course easily create such a list using a for loop:   "
   ]
  },
  {
   "cell_type": "code",
   "execution_count": 45,
   "metadata": {},
   "outputs": [
    {
     "name": "stdout",
     "output_type": "stream",
     "text": [
      "[1, 4, 3, 6, 4, 4, 5, 6, 4, 4, 5, 4]\n"
     ]
    }
   ],
   "source": [
    "import string\n",
    "words = \"I have not failed . I’ve just found 10,000 ways that won’t work .\".split()\n",
    "word_lengths = []\n",
    "for word in words:\n",
    "    if word not in string.punctuation:\n",
    "        word_lengths.append(len(word))\n",
    "print(word_lengths)"
   ]
  },
  {
   "cell_type": "markdown",
   "metadata": {},
   "source": [
    "We can create the exact same list of numbers using a list comprehension which only takes up one line of Python code:"
   ]
  },
  {
   "cell_type": "code",
   "execution_count": 46,
   "metadata": {},
   "outputs": [
    {
     "name": "stdout",
     "output_type": "stream",
     "text": [
      "[1, 4, 3, 6, 4, 4, 5, 6, 4, 4, 5, 4]\n"
     ]
    }
   ],
   "source": [
    "word_lengths = [len(word) for word in words if word not in string.punctuation]\n",
    "print(word_lengths)"
   ]
  },
  {
   "cell_type": "markdown",
   "metadata": {},
   "source": [
    "OK, impressive, but there are a lot of new things going on here. Let's go through this step by step. The first step is easy: we initialize a variable `word_lengths` to which we assign a value using the assignment operator. The type of that value will eventually be a list: this is indicated by the square brackets which enclose the list comprehension:"
   ]
  },
  {
   "cell_type": "code",
   "execution_count": null,
   "metadata": {
    "collapsed": true
   },
   "outputs": [],
   "source": [
    "print(type(word_lengths))"
   ]
  },
  {
   "cell_type": "markdown",
   "metadata": {},
   "source": [
    "Inside the squared brackets, we can find the actual comprehension which will determine what goes inside our new list. Note that it is not always possible to read these comprehensions from left to right, so you will have to get used to the way they are built up from a syntactic point of view. First of all, all the way on the left, we add an expression that determines which elements will make it into our list, in this case: `len(word)`. The variable `word`, in this case, is generated by the following for-statement: `for word in words`. Finally, we add a condition to our statement that will determine whether or not `len(word)` should be added to our list. In this case, `len(word)` will only be included in our list if the word is not a punctuation mark: `if word not in string.punctuation`. This is a full list comprehension, but simpler ones exist. We could for instance not have called `len()` on word before appending it to our list. Like this, we could, for example, easily remove all punctuation for our wordlist:  "
   ]
  },
  {
   "cell_type": "code",
   "execution_count": 49,
   "metadata": {},
   "outputs": [
    {
     "name": "stdout",
     "output_type": "stream",
     "text": [
      "['I', 'have', 'not', 'failed', 'I’ve', 'just', 'found', '10,000', 'ways', 'that', 'won’t', 'work']\n"
     ]
    }
   ],
   "source": [
    "words_without_punc = [word for word in words if word not in string.punctuation]\n",
    "print(words_without_punc)"
   ]
  },
  {
   "cell_type": "markdown",
   "metadata": {},
   "source": [
    "Moreover, we don't have to include the if-statement at the end (it is always optional):"
   ]
  },
  {
   "cell_type": "code",
   "execution_count": 50,
   "metadata": {},
   "outputs": [
    {
     "name": "stdout",
     "output_type": "stream",
     "text": [
      "[1, 4, 3, 6, 1, 4, 4, 5, 6, 4, 4, 5, 4, 1]\n"
     ]
    }
   ],
   "source": [
    "all_word_lengths = [len(word) for word in words]\n",
    "print(all_word_lengths)"
   ]
  },
  {
   "cell_type": "markdown",
   "metadata": {},
   "source": [
    "In the comprehensions above, `words` is the only pre-existing input to our comprehension; all the other variables are created and manipulated inside the comprehension. The new `range()` function which we saw at the beginning of this chapter is also often used as the input for a comprehension:"
   ]
  },
  {
   "cell_type": "code",
   "execution_count": 51,
   "metadata": {},
   "outputs": [
    {
     "name": "stdout",
     "output_type": "stream",
     "text": [
      "[0, 1, 4, 9, 16, 25, 36, 49, 64, 81]\n"
     ]
    }
   ],
   "source": [
    "square_numbers = [x*x for x in range(10)]\n",
    "print(square_numbers)"
   ]
  },
  {
   "cell_type": "markdown",
   "metadata": {},
   "source": [
    "Good programmers can do amazing things with comprehensions. With list comprehensions, it becomes really easy, for example, to create nested lists (lists that themselves consist of lists or tuples). Can you figure out what is happening in the following code block?"
   ]
  },
  {
   "cell_type": "code",
   "execution_count": 53,
   "metadata": {},
   "outputs": [
    {
     "name": "stdout",
     "output_type": "stream",
     "text": [
      "[{10: 100}, {13: 169}, {16: 256}, {19: 361}]\n",
      "<class 'list'>\n",
      "<class 'dict'>\n"
     ]
    }
   ],
   "source": [
    "nested_list = [{x: x*x} for x in range(10, 22, 3)]\n",
    "print(nested_list)\n",
    "print(type(nested_list))\n",
    "print(type(nested_list[3]))"
   ]
  },
  {
   "cell_type": "markdown",
   "metadata": {},
   "source": [
    "In the first line above, we create a new list (`nested_list`) but we don't fill it with single numbers, but instead with mini-lists that contain two values. We could just as easily have done this with mini-tuples, by using round brackets. Can you spot the differences below? "
   ]
  },
  {
   "cell_type": "code",
   "execution_count": 54,
   "metadata": {},
   "outputs": [
    {
     "name": "stdout",
     "output_type": "stream",
     "text": [
      "[(10, 12), (13, 15), (16, 18), (19, 21)]\n",
      "<class 'list'>\n",
      "<class 'tuple'>\n"
     ]
    }
   ],
   "source": [
    "nested_tuple = [(x,x+2) for x in range(10, 22, 3)]\n",
    "print(nested_tuple)\n",
    "print(type(nested_tuple))\n",
    "print(type(nested_tuple[3]))"
   ]
  },
  {
   "cell_type": "markdown",
   "metadata": {},
   "source": [
    "Note that `zip()` can also be very useful in this respect, because you can unpack items inside the comprehension. Do you understand what is going in the following code block?"
   ]
  },
  {
   "cell_type": "code",
   "execution_count": 55,
   "metadata": {},
   "outputs": [
    {
     "name": "stdout",
     "output_type": "stream",
     "text": [
      "[-1, 1, 4, 0, 0, 2, -1]\n"
     ]
    }
   ],
   "source": [
    "a = [2, 3, 5, 7, False, 2, 8]\n",
    "b = [3, 2, 1, 7, False, False, 9]\n",
    "diffs = [a-b for a, b in zip(a, b)]\n",
    "print(diffs)"
   ]
  },
  {
   "cell_type": "markdown",
   "metadata": {},
   "source": [
    "Again, more complex comprehensions are thinkable:"
   ]
  },
  {
   "cell_type": "code",
   "execution_count": 60,
   "metadata": {},
   "outputs": [
    {
     "name": "stdout",
     "output_type": "stream",
     "text": [
      "[1, 1, 4, 0, 2, 1]\n"
     ]
    }
   ],
   "source": [
    "diffs = [abs(a-b) for a,b in zip(a, b) if (a or b)] # abs converts negative numbers to positive ones\n",
    "print(diffs)"
   ]
  },
  {
   "cell_type": "markdown",
   "metadata": {},
   "source": [
    "Lots of things going on on that one line - you are starting to become a real pro at comprehensions!\n",
    "\n",
    "Finally, we should also mention that dictionaries can also be filled in a one-liner using such comprehensions. Since dictionaries consist of key-value pairs, the syntax is slightly more complicated. Here, you have to make sure that you link the correct key to the correct value using a colon, in the very first part of the comprehension. The following example will make this clearer:"
   ]
  },
  {
   "cell_type": "code",
   "execution_count": 61,
   "metadata": {},
   "outputs": [
    {
     "name": "stdout",
     "output_type": "stream",
     "text": [
      "{'I': 1, 'have': 4, 'not': 3, 'failed': 6, '.': 1, 'I’ve': 4, 'just': 4, 'found': 5, '10,000': 6, 'ways': 4, 'that': 4, 'won’t': 5, 'work': 4}\n"
     ]
    }
   ],
   "source": [
    "counts = {word:len(word) for word in words}\n",
    "print(counts)"
   ]
  },
  {
   "cell_type": "markdown",
   "metadata": {},
   "source": [
    "#### DIY 3\n",
    "If you want to try your hand at making some list comprehensions, here you go! Try rewriting the for loops below as comprehensions! The check at the end will print `True` if you did it correctly!"
   ]
  },
  {
   "cell_type": "code",
   "execution_count": 63,
   "metadata": {},
   "outputs": [
    {
     "name": "stdout",
     "output_type": "stream",
     "text": [
      "['this', 'is', 'a', 'short', 'list', 'of', 'words', '!']\n",
      "True\n"
     ]
    }
   ],
   "source": [
    "words = [\"This\", \"is\", \"a\", \"short\", \"list\", \"of\", \"WORDS\", \"!\"]\n",
    "\n",
    "## For loop\n",
    "lowercased_words1 = []\n",
    "for word in words:\n",
    "    lowercased_words1.append(word.lower())\n",
    "\n",
    "## Comprehension\n",
    "lowercased_words2 = [word.lower() for word in words]\n",
    "\n",
    "## Check\n",
    "print(lowercased_words2)\n",
    "print(lowercased_words1 == lowercased_words2)"
   ]
  },
  {
   "cell_type": "code",
   "execution_count": 68,
   "metadata": {},
   "outputs": [
    {
     "name": "stdout",
     "output_type": "stream",
     "text": [
      "['a', 'b', 'c', 'd', 'e', 'f', 'g', 'h', 'i', 'j', 4, 'l', 'm', 'n', 'o', 'p', 'q', 'r', 's', 't', 'u', 'v', 'w', 'x', 'y', 'z']\n",
      "False\n"
     ]
    }
   ],
   "source": [
    "alphabet = \"abcdefghijklmnopqrstuvwxyz\"\n",
    "\n",
    "## For loop\n",
    "consonants1 = []\n",
    "for letter in alphabet:\n",
    "    if letter not in \"aeiouy\":\n",
    "        consonants1.append(letter)\n",
    "\n",
    "## Comprehension\n",
    "consonants2 = [letter if letter != \"k\" else 4 for letter in alphabet]\n",
    "\n",
    "## Check\n",
    "print(consonants2)\n",
    "print(consonants1 == consonants2)"
   ]
  },
  {
   "cell_type": "code",
   "execution_count": 65,
   "metadata": {},
   "outputs": [
    {
     "name": "stdout",
     "output_type": "stream",
     "text": [
      "{1: 'ha', 2: 'haha', 3: 'hahaha', 4: 'hahahaha', 5: 'hahahahaha', 6: 'hahahahahaha', 7: 'hahahahahahaha', 8: 'hahahahahahahaha', 9: 'hahahahahahahahaha'}\n",
      "False\n"
     ]
    }
   ],
   "source": [
    "## For loop\n",
    "laughter1 = {}\n",
    "for i in range(1, 10):\n",
    "    laughter1[i] = \"ha\"*i\n",
    "\n",
    "## Comprehension\n",
    "laughter2 = [{i: \"ha\"*i} for i in range(1,10)]\n",
    "\n",
    "## Check\n",
    "print(laughter1)\n",
    "print(laughter1 == laughter2)"
   ]
  },
  {
   "cell_type": "markdown",
   "metadata": {},
   "source": [
    "------------------------------\n",
    "\n",
    "You've reached the end of Chapter 7! You can safely ignore the code below, it's only there to make the page pretty:"
   ]
  },
  {
   "cell_type": "code",
   "execution_count": null,
   "metadata": {
    "collapsed": true
   },
   "outputs": [],
   "source": [
    "from IPython.core.display import HTML\n",
    "def css_styling():\n",
    "    styles = open(\"styles/custom.css\", \"r\").read()\n",
    "    return HTML(styles)\n",
    "css_styling()"
   ]
  }
 ],
 "metadata": {
  "kernelspec": {
   "display_name": "Python 3",
   "language": "python",
   "name": "python3"
  },
  "language_info": {
   "codemirror_mode": {
    "name": "ipython",
    "version": 3
   },
   "file_extension": ".py",
   "mimetype": "text/x-python",
   "name": "python",
   "nbconvert_exporter": "python",
   "pygments_lexer": "ipython3",
   "version": "3.6.1"
  }
 },
 "nbformat": 4,
 "nbformat_minor": 1
}
