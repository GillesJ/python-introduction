{
 "cells": [
  {
   "cell_type": "markdown",
   "metadata": {},
   "source": [
    "# Chapter 6: Functions"
   ]
  },
  {
   "cell_type": "markdown",
   "metadata": {},
   "source": [
    "## Additions to the previous chapter"
   ]
  },
  {
   "cell_type": "markdown",
   "metadata": {},
   "source": [
    "#### Reading lines from a file\n",
    "\n",
    "If you are trying to get a list of all the lines in a file, you could do this:"
   ]
  },
  {
   "cell_type": "code",
   "execution_count": null,
   "metadata": {
    "collapsed": false
   },
   "outputs": [],
   "source": [
    "import codecs\n",
    "f = codecs.open(\"data/austen-emma-excerpt.txt\", \"r\", \"utf-8\")\n",
    "lines = []\n",
    "for line in f:\n",
    "    lines.append(line)\n",
    "f.close()\n",
    "print(lines[0])\n",
    "print(len(lines))"
   ]
  },
  {
   "cell_type": "markdown",
   "metadata": {},
   "source": [
    "It may be confusing that Python knows what a `line` is when looping over `f`. The way Python is programmed, whenever it gets a *file object* (such as `f`) as an iterable to loop over, it reads from the file until it encounters a newline character. Notice how this differs from looping over a string, read in from a file object:"
   ]
  },
  {
   "cell_type": "code",
   "execution_count": null,
   "metadata": {
    "collapsed": false
   },
   "outputs": [],
   "source": [
    "f = codecs.open(\"data/austen-emma-excerpt.txt\", \"r\", \"utf-8\")\n",
    "text = f.read() # Reads in all the files contents as one long string\n",
    "f.close()\n",
    "lines = []\n",
    "for line in text:  # \"line\" is not an appropriate variable name here, since looping over a string will yield characters\n",
    "    lines.append(line)\n",
    "print(lines[0])\n",
    "print(len(lines))"
   ]
  },
  {
   "cell_type": "markdown",
   "metadata": {},
   "source": [
    "There is a shortcut if you want to have all the lines in a file as a list: you can use the `.readlines()` method for that:"
   ]
  },
  {
   "cell_type": "code",
   "execution_count": null,
   "metadata": {
    "collapsed": false
   },
   "outputs": [],
   "source": [
    "f = codecs.open(\"data/austen-emma-excerpt.txt\", \"r\", \"utf-8\")\n",
    "lines = f.readlines()\n",
    "f.close()\n",
    "print(lines[0])\n",
    "print(len(lines))"
   ]
  },
  {
   "cell_type": "markdown",
   "metadata": {},
   "source": [
    "#### Encodings"
   ]
  },
  {
   "cell_type": "markdown",
   "metadata": {},
   "source": [
    "So far, we have worked with UTF-8 encoded text files. If you want to work with a differently encoded file, just specify the appropriate encoding when reading it in or writing it out. You can find a list of encoding names [here](https://docs.python.org/3/library/codecs.html#standard-encodings). Below is some example code for converting a `utf8` file into a `latin1` file."
   ]
  },
  {
   "cell_type": "code",
   "execution_count": null,
   "metadata": {
    "collapsed": false
   },
   "outputs": [],
   "source": [
    "f_in = codecs.open(\"data/austen-emma-excerpt.txt\", \"r\", \"utf-8\")\n",
    "content_as_unicode_string = f.read()\n",
    "f_in.close()\n",
    "f_out = codecs.open(\"data/austin-emma-excerpt-latin1.txt\", \"w\", \"latin1\")\n",
    "f_out.write(content_as_unicode_string)  # Python takes care of converting the Unicode to latin1,\n",
    "                                        # because it knows that is what f_out requires\n",
    "f_out.close()"
   ]
  },
  {
   "cell_type": "markdown",
   "metadata": {},
   "source": [
    "You may sometimes get a `UnicodeDecodeError` or `UnicodeEncodeError`. This happens when the encoding you specified (or the default encoding if you failed to specify) cannot be used to read from (decode) or write to (encode) an input or output (a file, your screen, ...). Make sure that the settings of your inputs and outputs are right. In the case of writing to your screen (= printing), this may require modifying the defaults of your Terminal. All in all, encodings can be quite complex (which is why you want to always use UTF8 if at all possible). Search Stack Overflow if you run into trouble."
   ]
  },
  {
   "cell_type": "markdown",
   "metadata": {},
   "source": [
    "#### Finding libraries"
   ]
  },
  {
   "cell_type": "markdown",
   "metadata": {},
   "source": [
    "When looking for new functionality, there are three places you can go:\n",
    "1. The [Python Standard Library](https://docs.python.org/3/library/) should be the first place to look. It contains fast, well-tested and universally used libraries that are part of the Python core. Browse the list to get a feel for the kind of things you can do with them.\n",
    "2. The [Python Package Index](https://pypi.python.org/pypi) is a repository of third-party packages (= libraries) for a very wide range of applications. For information on how to install them, see [this page](http://conda.pydata.org/docs/using/pkgs.html). It requires you to use a Terminal (on Windows: Windows key + `R`, `cmd` + `ENTER`). Note, however, that your Anaconda Python distribution comes with a lot of packages pre-installed.\n",
    "3. Some packages for very specific applications may not have been published on the Python Package Index, but can be downloaded from the developer's website. Proceed with caution.\n",
    "\n",
    "For 1 and 2, if you click on a package name, you will see the documentation with a list of all the functions it defines, what they do and which arguments they require. If you already know which package or function you want to use, but don't know exactly how, you can ask for the documentation in Python itself, with the `help()` function:\n"
   ]
  },
  {
   "cell_type": "code",
   "execution_count": null,
   "metadata": {
    "collapsed": false
   },
   "outputs": [],
   "source": [
    "help(print) # Help on using the print function. Note that you should not add the parentheses\n",
    "import random\n",
    "help(random) # Gives you an overview of all the classes and functions defined in the random package (lots of scrolling!)\n",
    "help(random.randint) # Info on the randint function specifically"
   ]
  },
  {
   "cell_type": "markdown",
   "metadata": {},
   "source": [
    "#### Making your own notebooks"
   ]
  },
  {
   "cell_type": "markdown",
   "metadata": {},
   "source": [
    "If you want to make your own notebooks, you can do so from the jupyter landing page (from which you launched this notebook). On the top right, you can choose New > Notebooks > Python 3. A new Notebook is created, in which you can add new cells, e.g. of type `Code` for writing Python, or of type `Markdown` for writing text. As an aside, [Markdown](https://guides.github.com/pdfs/markdown-cheatsheet-online.pdf) is a very lightweight way of adding HTML-like markup to text (headings, bold, links, ...). If you want to change a cell containing text, doubleclick it. To format the text, press `Shift + ENTER`."
   ]
  },
  {
   "cell_type": "markdown",
   "metadata": {},
   "source": [
    "## Functions"
   ]
  },
  {
   "cell_type": "markdown",
   "metadata": {},
   "source": [
    "On to the topic of this chapter!\n",
    "\n",
    "So far, you have already seen lots of functions and methods. In general, a function will do something for you, based on a number of input parameters you pass it, and it will typically return a result. You are not limited to using functions available from the standard library or the ones provided by external parties. You can also write your own functions!\n",
    "\n",
    "In fact, you *must* write your own functions. Separating your problem into subproblems and writing a function for each of those is an immensely important part of well-structured programming. In the rest of this chapter we will teach you how to write your own functions and how to import and re-use these functions in other, new scripts you write!\n",
    "\n",
    "Let's start off with a trivial function. Functions are defined using the `def` keyword, followed by the name you want your function to have and (optionally!) the names of the parameters that your function takes. \n",
    "\n",
    "    def some_name(optional_parameters):\n",
    "        # here goes your functionality\n",
    "        return my_result\n",
    "\n",
    "The `return` statement returns a value back to the caller and always ends the execution of the function. Mind the indentation here, which is how we make clear to the Python interpreter which lines belong to our function. "
   ]
  },
  {
   "cell_type": "code",
   "execution_count": null,
   "metadata": {
    "collapsed": false
   },
   "outputs": [],
   "source": [
    "def multiply(x, y):\n",
    "    result = x * y\n",
    "    return result\n",
    "\n",
    "# or in shorthand\n",
    "\n",
    "def multiply(x, y):\n",
    "    return x*y\n",
    "\n",
    "# now that you defined this function, you can use it in the rest of your code:\n",
    "z = multiply(2, 5)\n",
    "print(z)"
   ]
  },
  {
   "cell_type": "markdown",
   "metadata": {},
   "source": [
    "Note that the parameters you define in a function definition (in this case, `x` and `y`), function as variables inside that function. When the function is called (as in `multiply(2, 5)`), you could say that assignment takes place to those function variables (i.e., `x = 2` and `y = 5`). At the time when we are defining the function, all the variables that we want to be able to *pass in* to the function should be listed as parameters. You can also define variables inside the function body (like the `result` variable above), which are not passed in.\n",
    "\n",
    "Now, let's define a more advanced function. The following function `count_articles()` counts the number of articles (*the*, *a*, *an*) in a list of words. The words are passed to the function as a list of strings. Note that the function itself lowercases the words, so that you never have to take care of this again in the rest of your code!"
   ]
  },
  {
   "cell_type": "code",
   "execution_count": null,
   "metadata": {
    "collapsed": false
   },
   "outputs": [],
   "source": [
    "def count_articles(tokens):\n",
    "    count = 0\n",
    "    for token in tokens:\n",
    "        if token.lower() in ('the', 'a', 'an'):\n",
    "            count += 1\n",
    "    return count\n",
    "   \n",
    "text = \"A bit less trivial , this function counts the number of articles ( the , a , an ) in a list of words\"\n",
    "words = text.split()\n",
    "print(count_articles(words))"
   ]
  },
  {
   "cell_type": "markdown",
   "metadata": {},
   "source": [
    "Note that the function definition needs to come earlier in your code than the first time you call it. If you were to try `count_articles(words)` before you have defined `count_articles`, you will get a `NameError`.\n",
    "\n",
    "Another thing that can be confusing at first: we pass the list `words` as a parameter to `count_articles`. Since that function assigns the first parameter to the variable name `tokens` (like this: `tokens = words`), the function internally does not use the `words` variable but the `tokens` variable, even if they refer to the same object. This is important because it would be silly if you had to match the variable name you pass to a function to the variable name the function uses internally. You want to be able to pass whichever variable that contains the right kind of data (in this case, a list of strings).\n",
    "\n",
    "#### DIY 1\n",
    "\n",
    "Can you change `count_articles()` in such a manner that it will now accept the entire string and splits it into tokens internally? That way, the user of a function wouldn't have to care about this!"
   ]
  },
  {
   "cell_type": "code",
   "execution_count": null,
   "metadata": {
    "collapsed": false
   },
   "outputs": [],
   "source": [
    "def count_articles(tokens):\n",
    "    count = 0\n",
    "    for token in tokens:\n",
    "        if token.lower() in ('the', 'a', 'an'):\n",
    "            count += 1\n",
    "    return count\n",
    "   \n",
    "text = \"A bit less trivial , this function counts the number of articles ( the , a , an ) in a list of words\"\n",
    "words = text.split()\n",
    "print(count_articles(words))"
   ]
  },
  {
   "cell_type": "markdown",
   "metadata": {},
   "source": [
    "We can also have a function return multiple values by combining them in a tuple (the type of ordered, immutable list we talked about earlier). Python has a nice way of 'unpacking' such a tuple using multiple assignment. You can assign the elements in a list or tuple immediately to separate variables, by providing an equal number of variable names separated by commas (e.g. `string1, string2 = (\"assign\", \"me\")` is equivalent to doing `string1 = \"assign\"` and `string2 = \"me\"`)."
   ]
  },
  {
   "cell_type": "code",
   "execution_count": null,
   "metadata": {
    "collapsed": false
   },
   "outputs": [],
   "source": [
    "def count(text):\n",
    "    words = text.split(\" \")\n",
    "    word_count = len(words)\n",
    "    character_count = len(text)\n",
    "    return word_count, character_count\n",
    "\n",
    "word_count, character_count = count(\"To be or not to be , that is the question .\")\n",
    "print(word_count)\n",
    "print(character_count)"
   ]
  },
  {
   "cell_type": "markdown",
   "metadata": {},
   "source": [
    "Note that your functions don't have to return anything explicitly. If you run the example below, you will see that such a 'void' function in reality returns 'None'. "
   ]
  },
  {
   "cell_type": "code",
   "execution_count": null,
   "metadata": {
    "collapsed": false
   },
   "outputs": [],
   "source": [
    "def little_grey(doctor):\n",
    "    print(\"Oh Dr\", doctor, \"!\")\n",
    "\n",
    "whatever = little_grey(\"Steamy\")\n",
    "print(whatever)"
   ]
  },
  {
   "cell_type": "markdown",
   "metadata": {},
   "source": [
    "It is this kind of non-returning functions that gets you into trouble if you assign the result, as would be the case e.g. with `my_list = my_list.sort()`, which will set `my_list` to `None`. You don't want to do assignment here, just let the function do its work of sorting `my_list` in-place."
   ]
  },
  {
   "cell_type": "markdown",
   "metadata": {},
   "source": [
    "#### Variable scope"
   ]
  },
  {
   "cell_type": "markdown",
   "metadata": {},
   "source": [
    "Another characteristic of the variables you declare in a function (cf. `result`), as well as the parameters that are passed to a function (cf. `x` and `y`) will *only exist within the 'scope' of that function*, i.e. inside the function itself. The following code will produce an error, because the variable `x` does not exist outside the function:"
   ]
  },
  {
   "cell_type": "code",
   "execution_count": null,
   "metadata": {
    "collapsed": false
   },
   "outputs": [],
   "source": [
    "def setx():\n",
    "    x = 1\n",
    "\n",
    "setx()\n",
    "print(x)"
   ]
  },
  {
   "cell_type": "markdown",
   "metadata": {},
   "source": [
    "Also consider this:\n",
    "    "
   ]
  },
  {
   "cell_type": "code",
   "execution_count": null,
   "metadata": {
    "collapsed": false
   },
   "outputs": [],
   "source": [
    "x = 0\n",
    "def setx():\n",
    "    x = 1\n",
    "setx()\n",
    "print(x)"
   ]
  },
  {
   "cell_type": "markdown",
   "metadata": {},
   "source": [
    "In fact, this code has produced two completely unrelated `x`'s! One in the *global scope* of the script, and one in the scope of the `setx` function. When we print `x` on the last line, we are printing the `x` available in the global scope.\n",
    "\n",
    "Nevertheless, it is possible to read a global variable from within a function, in a strictly read-only fashion. But as soon as you assign something, the variable will be a local copy:"
   ]
  },
  {
   "cell_type": "code",
   "execution_count": null,
   "metadata": {
    "collapsed": false
   },
   "outputs": [],
   "source": [
    "x = 1\n",
    "def getx():\n",
    "    print(x) # This prints the global x\n",
    "\n",
    "def make_local_x():\n",
    "    x = 2 # This makes a local variable x, different from the global x.\n",
    "          # This variable only exists within the scope of the getx function, so the global x remains unchanged\n",
    "    \n",
    "getx()\n",
    "make_local_x()\n",
    "print(x) # This prints the global x, unchanged by make_local_x"
   ]
  },
  {
   "cell_type": "markdown",
   "metadata": {},
   "source": [
    "#### DIY 2"
   ]
  },
  {
   "cell_type": "markdown",
   "metadata": {},
   "source": [
    "Write a function `calculate_average(numbers)`, taking one parameter, a list (or other iterable) containing only numbers (you may assume that), and returning the average/mean:"
   ]
  },
  {
   "cell_type": "code",
   "execution_count": null,
   "metadata": {
    "collapsed": false
   },
   "outputs": [],
   "source": [
    "# write your function calculate_average here\n",
    "\n",
    "# do not modify the code below, for testing only\n",
    "numbers = [1, 2, 3, 4, 5]\n",
    "av = calculate_average(numbers)\n",
    "print(av == 3) # should be True if you did it correctly"
   ]
  },
  {
   "cell_type": "markdown",
   "metadata": {},
   "source": [
    "#### DIY 3"
   ]
  },
  {
   "cell_type": "markdown",
   "metadata": {},
   "source": [
    "Write a function `textstats(filename)` that, given a filename, returns a three-tuple with the following general statistics on the file: number of lines, number of words/tokens, number of characters. Don't worry about tokenisation: you can just split the words along whitespace. To get the number of lines, one possible solution is to split the text on `\"\\n\"`.\n"
   ]
  },
  {
   "cell_type": "code",
   "execution_count": null,
   "metadata": {
    "collapsed": false
   },
   "outputs": [],
   "source": [
    "# write your function textstats here\n",
    "\n",
    "# test\n",
    "lines, tokens, chars = textstats(\"data/austen-emma-excerpt.txt\")\n",
    "print(\"Found\", str(lines), \"lines,\", str(tokens), \"tokens and\", str(chars), \"characters.\")"
   ]
  },
  {
   "cell_type": "markdown",
   "metadata": {},
   "source": [
    "## Scripts"
   ]
  },
  {
   "cell_type": "markdown",
   "metadata": {},
   "source": [
    "Up until now, we have been using the interactive IPython software to write our Python code in Notebooks. We have only been writing really small bits and pieces of code, however, instead of writing longer scripts that can provide a more significant batch of functionality. Now, let us make our first independent Python script together. (Note that this way of working resembles day-to-day coding practice more closely.)\n",
    "\n",
    "Open 'Sublime Text 2', a popular text editor which we will use in this course (http://www.sublimetext.com/). Create a new file -- this might have happened automatically when you opened the editor -- and save it as `script.py` in a convenient location (here, we will assume that you have saved it in your Desktop folder. Note that files containing Python code typically take the `.py` extension.\n",
    "\n",
    "If you are working in a UNIX-like environment (Mac or Linux), you should now add the following code on the very first line of your script:  "
   ]
  },
  {
   "cell_type": "code",
   "execution_count": null,
   "metadata": {
    "collapsed": false
   },
   "outputs": [],
   "source": [
    "#!/usr/bin/env/ python"
   ]
  },
  {
   "cell_type": "markdown",
   "metadata": {},
   "source": [
    "This line will tell your computer which language you want to use to run the script -- in this case, our default installation of Python 3 will be used. In technical terms, the \"#!\" is called a \"shebang\" indication. If you are working in MS Windows, you can add this 'shebang line' as well, but it will have no effect. You will need to explicitly specify the correct program to run the script (in our case, Python).\n",
    "\n",
    "Now, let's add a simple Python function to this file. The `fib()` function will produce the first numbers in the famous Fibonacci series. The function will only print the items in the series that are smaller than `upper`, i.e. the parameter we pass to this function:"
   ]
  },
  {
   "cell_type": "code",
   "execution_count": null,
   "metadata": {
    "collapsed": false
   },
   "outputs": [],
   "source": [
    "def fib(upper):\n",
    "    # write Fibonacci series up to upper\n",
    "    a, b = 0, 1\n",
    "    while b < upper:\n",
    "        print(b)\n",
    "        new_a = b\n",
    "        b = a+b\n",
    "        a = new_a # We need to do this update after updating b, because there, we need to use a's old value\n",
    "    return"
   ]
  },
  {
   "cell_type": "markdown",
   "metadata": {},
   "source": [
    "Next, add a line that actually calls the `fib()` function for `upper=2000`. (Don't forget to take care of the correct indentation!)"
   ]
  },
  {
   "cell_type": "code",
   "execution_count": null,
   "metadata": {
    "collapsed": false
   },
   "outputs": [],
   "source": [
    "fib(2000)"
   ]
  },
  {
   "cell_type": "markdown",
   "metadata": {},
   "source": [
    "Instead of executing this code by hitting ctrl+enter as we have done in the IPython notebook so far, we will now learn how to execute our code differently. We have two ways for doing this: an easy one, and a difficult one. When you work with a code editor like Sublime Text, there is often an easy way to execute your code. In Sublime, for instance, you can first save your file with a \".py\" extension, and then 'build' your code by hitting Ctrl+B (Windows, Unix) or Command+B (Mac OS X). You will now see that the output of your script will be written to your screen in Sublime.\n",
    "\n",
    "For the second option, you can use a terminal, also called command line interface or prompt. Watch out: this can be pretty scary at first... In general, you should always watch out when you use a command line interface to your machine: only execute commands that you (more or less) understand! You typically have complete control over your machine via such an interface, so you need to watch out not to remove any important files. (You could e.g. unintentionally delete your entire operating system from your hard drive with a single command). \n",
    "\n",
    "#### Mac and Linux\n",
    "First we will deal with instructions for doing this in Mac OS X and Linux distributions such as Ubuntu. Mac OS X and Linux tend to behave similarly because they are both 'Unix-based' operating systems. \n",
    "\n",
    "- On a Mac,  you should open your 'Terminal' application by clicking the relevant icon in the folder Applications > Utilities. Alternatively, click the magnifying glass in the top-right of your screen (shortcut: Command key+Spacebar). Next, type 'Terminal' in the box that appears and hit enter when your Mac has found the Terminal app.\n",
    "- On a Linux installation, first open a command line window by navigating to the Terminal via Applications Menu > Accessories > Terminal (Gnome) or Dash > More Apps > Accessories > Terminal (Unity). Under both Gnome and Unity, you should also be able to use the keyboard shortcut `Ctrl+Alt+T` to open a console window.\n",
    "\n",
    "Now 'cd' (= Change Directory) into the directory that contains your `script.py` file (in our case that would mean: `cd ~/Desktop`). Next, execute our script by typing: `python3 script.py`. With this command, we explicitly tell the machine to execute this script using `python` (at least, the default version of Python3 installed on your machine). Normally, the output of the `print(), should now have been sent to your console window. Has it?\n",
    "\n",
    "However, because we added the 'shebang line' at the top of `script.py`, we could have also used the plainer command `./script.py` (which simply means: 'run this program'). To make the program fully executable you might have to \"chmod\" it first (CHange file MODes), using the command `chmod +x script.py`. With this command you tell your machine, that it is safe to execute this script. For additional info on these commands and the options they take, you can always run the `man` command (e.g. `man chmod`). A good tutorial that covers the basics of the bash command line interface on Unix-like operating systems is http://linuxcommand.org/.\n",
    "\n",
    "#### Windows\n",
    "Under a Windows operating system, you can simply doubleclick the script.py file: because of the `.py` extension your OS will automatically run the script via the Python interpreter (note that the `shebang line` in your `script.py` is ignored). Alternatively, go to Start > All programs > Accessories and click on Command Prompt. In the Search or Run box (which you can summon with Windows key + R), you can also type `cmd` and press Enter. This will open a DOS console window.\n",
    "\n",
    "Navigate to the folder that holds your script.py: in our case you could do this via the command: `cd C:\\documents and settings\\your_username\\desktop` or simply `cd desktop` (note that this all depends on the directory structure of your particular computer). Next, execute our script by typing: `python3 script.py`. With this command, we explicitly tell the machine to execute this script using `python` (at least its default version on your machine). Normally, the output of the `print()`, should now have been sent to your console window. Has it? A good tutorial that covers the basics of the bash command line interface in DOS-based operating systems is: http://www.computerhope.com/issues/chusedos.htm\n",
    "\n",
    "You can now also import the functionality from `script.py` into other scripts! Remove (or comment out via a hashtag) the following line, containing the actual function call from `script.py`"
   ]
  },
  {
   "cell_type": "code",
   "execution_count": null,
   "metadata": {
    "collapsed": false
   },
   "outputs": [],
   "source": [
    "fib(2000)"
   ]
  },
  {
   "cell_type": "markdown",
   "metadata": {},
   "source": [
    "Create a new file called `main.py` in the same directory, namely your Desktop folder. Add the shebang line on top, as well as the following statement which will import the functionality from the `script.py` module. Note that the syntax is entirely the same as for importing one of the 'official' functions from the Python Standard Library! Instead of running `script.py`, now try to run `main.py` which will import the `script.fib()` function. Does this work out? You don't have to add the '.py' by the way: your computer will figure out this extension itself."
   ]
  },
  {
   "cell_type": "code",
   "execution_count": null,
   "metadata": {
    "collapsed": false
   },
   "outputs": [],
   "source": [
    "#!/usr/bin/env python\n",
    "import script\n",
    "script.fib(upper=2000)"
   ]
  },
  {
   "cell_type": "markdown",
   "metadata": {},
   "source": [
    "Note that we have to be explicit about where our Python interpreter should look for the fib() function using the syntax with a dot (`module.function()`). If we want to be able to use the shorter version of the function call, we should have used the following import statement:"
   ]
  },
  {
   "cell_type": "code",
   "execution_count": null,
   "metadata": {
    "collapsed": false
   },
   "outputs": [],
   "source": [
    "from script import fib"
   ]
  },
  {
   "cell_type": "markdown",
   "metadata": {},
   "source": [
    "Can you now try try to run `main.py` again, but now with the shorter call `fib(upper=2000)`, without explicitly mentioning the module from which the function originates? Does that work for you?\n",
    "\n",
    "Now check out the files in your Desktop folder: you will notice that an additional file has been created, namely `script.pyc`. (If you can't see file extensions, note that you can explicitly list all files in the current directory using the `dir` and `ls` commands in Windows and Unix-like operating systems, respectively.) The extension of this new file stands for 'Compiled Python File'. Don't worry about this file -- you won't be able to inspect its contents using a text editor anyway. This file contains the numerical 'bytecode' that will be executed by your machine: it is this machine-readable version of your code that has actually been imported into the `main.py` module. You can safely ignore these files, but now you know what they are for. (By the way: note that there is no `main.pyc` file which has been created, because no functionality from this file has been imported into another module.)\n",
    "\n",
    "It's always a good idea to distribute your code over a set of modules (files). In technical terms, your code should be as 'modular' as possible, meaning that similar functions should be grouped into the same module. This will help you keep your code organized especially when you are working on a larger project. If you have a set of functions that you use for loading and parsing files in Python, why not group them under the same module? This way you can organize your own coding more efficiently, as well as share and document your code more easily.  \n",
    "\n",
    "Now you know how how to store and organize your code in separate files and modules. Still, a lot of programmers continue to explore their data using 'interactive Python' via a so-called 'interactive Python interpreter' that more or less resembles the IPython envirionment you have been working in so far. To launch such an interpreter, just type `python3` in your console (not followed by the path to a Python script, like before) and hit enter. This will launch a `live` Python session in your command line console where you can experiment with your data by typing in commands, much like you have done in the IPython environment so far. Try this out! Just type in lines of Python code after the `>>>` prompt and hit enter to execute it immediately."
   ]
  },
  {
   "cell_type": "markdown",
   "metadata": {},
   "source": [
    "---"
   ]
  },
  {
   "cell_type": "markdown",
   "metadata": {},
   "source": [
    "## Final exercises"
   ]
  },
  {
   "cell_type": "markdown",
   "metadata": {},
   "source": [
    "**When you make the exercises below, don't write your code in the IPython notebook anymore but write in a separate file and run them from the command line!**\n",
    "\n",
    "Inspired by *Think Python* by Allen B. Downey (http://thinkpython.com), *Introduction to Programming Using Python* by Y. Liang (Pearson, 2013). Some exercises below have been taken from: http://www.ling.gu.se/~lager/python_exercises.html."
   ]
  },
  {
   "cell_type": "markdown",
   "metadata": {},
   "source": [
    "- `dice.py`: write a script that rolls a dice every time you run it, by generating and printing a random integer between 1 and 6! You can import functionality for doing this via `random.randint()`."
   ]
  },
  {
   "cell_type": "markdown",
   "metadata": {},
   "source": [
    "-  `arithmetic.py`: define a function add() and a function multiply() that sums and multiplies (respectively) all the numbers in a list of numbers. For example, add([1, 2, 3, 4]) should return 10, and multiply([1, 2, 3, 4]) should return 24.\n"
   ]
  },
  {
   "cell_type": "markdown",
   "metadata": {},
   "source": [
    "-  `anagram.py`: two words are anagrams if you can rearrange the letters from one to spell the other. Write a function called is_anagram that takes two strings and returns True if they are anagrams."
   ]
  },
  {
   "cell_type": "markdown",
   "metadata": {},
   "source": [
    "-  `hapax1.py`: a *hapax legomenon* (often abbreviated to hapax) is a word which occurs only once in either the written record of a language, the works of an author, or in a single text. Define a function `legomena` that given the filename of a text will return a list of all its hapax legomena. Make sure your program ignores capitalization as well as punctuation (hint: check out `string.punctuation` online!). Try out the function on your Gutenberg book from the previous Chapter. For simplicity, make sure your Gutenberg file is in the same directory as your hapax script, so that you can just use the file's name as a relative path. Alternatively, you can use an absolute path to the file."
   ]
  },
  {
   "cell_type": "markdown",
   "metadata": {},
   "source": [
    "* `hapax2.py`: copy `hapax1.py` and try to move well-defined steps from your `legomena` function (reading and cleaning the input text, making a frequency dictionary) into separate functions, which are then called in the `legomena` function. This is called *code refactoring*: splitting multi-step functionality over several functions. This is good practice, and will make the next exercise much easier."
   ]
  },
  {
   "cell_type": "markdown",
   "metadata": {},
   "source": [
    "* `hapax3.py`: copy `hapax2.py` and create two additional functions: one that spots hapax `dislegomena` (words occuring only twice) and one that spots hapax `trislegomena` (words occuring only three times) in a text file."
   ]
  },
  {
   "cell_type": "markdown",
   "metadata": {},
   "source": [
    "- `calling_hapax.py`: in this standalone script, import the functions from `hapax3.py` and call all three functions from there. Again, try them out on your Gutenberg-file."
   ]
  },
  {
   "cell_type": "markdown",
   "metadata": {},
   "source": [
    "------------------------------\n",
    "\n",
    "You've reached the end of Chapter 6! You can safely ignore the code below, it's only there to make the page pretty:"
   ]
  },
  {
   "cell_type": "code",
   "execution_count": null,
   "metadata": {
    "collapsed": false
   },
   "outputs": [],
   "source": [
    "from IPython.core.display import HTML\n",
    "def css_styling():\n",
    "    styles = open(\"styles/custom.css\", \"r\").read()\n",
    "    return HTML(styles)\n",
    "css_styling()"
   ]
  }
 ],
 "metadata": {
  "kernelspec": {
   "display_name": "Python 3",
   "language": "python",
   "name": "python3"
  },
  "language_info": {
   "codemirror_mode": {
    "name": "ipython",
    "version": 3
   },
   "file_extension": ".py",
   "mimetype": "text/x-python",
   "name": "python",
   "nbconvert_exporter": "python",
   "pygments_lexer": "ipython3",
   "version": "3.5.2"
  }
 },
 "nbformat": 4,
 "nbformat_minor": 0
}
