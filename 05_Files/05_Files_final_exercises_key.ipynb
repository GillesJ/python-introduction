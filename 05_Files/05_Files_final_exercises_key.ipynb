{
 "cells": [
  {
   "cell_type": "markdown",
   "metadata": {},
   "source": [
    "# Chapter 5: Files"
   ]
  },
  {
   "cell_type": "markdown",
   "metadata": {},
   "source": [
    "In this chapter, we will learn how to work with files on disk, and introduce some important concepts along the way: the use of external libraries, character encodings and file paths."
   ]
  },
  {
   "cell_type": "markdown",
   "metadata": {},
   "source": [
    "---"
   ]
  },
  {
   "cell_type": "markdown",
   "metadata": {},
   "source": [
    "## Final exercises"
   ]
  },
  {
   "cell_type": "markdown",
   "metadata": {},
   "source": [
    "Inspired by *Think Python* by Allen B. Downey (http://thinkpython.com), *Introduction to Programming Using Python* by Y. Liang (Pearson, 2013). Some exercises below have been taken from: http://www.ling.gu.se/~lager/python_exercises.html."
   ]
  },
  {
   "cell_type": "markdown",
   "metadata": {},
   "source": [
    "* Ex. 1: go to Project Gutenberg (http://www.gutenberg.org) and download your favorite out-of-copyright book in plain text format. Make a frequency dictionary of the words in the novel. Sort the words in the dictionary by increasing frequency and write it to a text file called `frequencies.txt`. Make sure your program ignores capitalization. Find out how you can sort a dictionary by value -- there are several ways of doing this, search the web in order to get some help. As a bonus exercise, add code so that the frequency dictionary ignores punctuation (hint: check out `string.punctuation` to get all punctuation)."
   ]
  },
  {
   "cell_type": "code",
   "execution_count": 38,
   "metadata": {
    "collapsed": true
   },
   "outputs": [],
   "source": [
    "import requests\n",
    "import codecs\n",
    "import string\n",
    "# We will automatically download and place the file of Alice in Wonderland in the data dir.\n",
    "# You will have done this manually for your book.\n",
    "gutenberg_url = \"http://www.gutenberg.org/files/11/11-0.txt\" # url for .txt of Alice in Wonderland\n",
    "r = requests.get(gutenberg_url)\n",
    "text = r.text\n",
    "filepath = \"aliceinwonderland.txt\"\n",
    "f = codecs.open(filepath, \"w\", \"utf-8\")\n",
    "f.write(text)\n",
    "f.close()\n",
    "\n",
    "# Actual solution\n",
    "filepath = \"aliceinwonderland.txt\"\n",
    "f = codecs.open(filepath, \"r\", \"utf-8\")\n",
    "text = f.read()\n",
    "f.close()\n",
    "\n",
    "# tokenize and clean the punctuation\n",
    "text = text.lower() # ignore capitalization\n",
    "words = text.split()\n",
    "words_no_punct = []\n",
    "for word in words:\n",
    "    if word not in string.punctuation: #filter tokenized punctuation\n",
    "        letters_only = []\n",
    "        for c in word:\n",
    "            if c not in string.punctuation: # filter words themselves from possible punctuation\n",
    "                letters_only.append(c)\n",
    "        clean_word = \"\".join(letters_only)\n",
    "        words_no_punct.append(clean_word)\n",
    "\n",
    "# make the word frequency dictionary\n",
    "word_freq = {}\n",
    "for word in words:\n",
    "    if word in word_freq:\n",
    "        word_freq[word] += 1\n",
    "    else:\n",
    "        word_freq[word] = 1\n",
    "\n",
    "# print in sorted manner\n",
    "word_freq_tuples = list(word_freq.items()) # get the dict as a list of (key, value) tuples with .items()\n",
    "word_freq_tuples.sort(key=lambda x: x[1], reverse=True) # sort allows you to specify a key to sort by. \n",
    "# this is the lambda function which iterates over every element in the list, of each element we want \n",
    "# to sort by the count value in the (key, value) tuple, i.e. tuple[1]\n",
    "wordfreq_fp = \"frequencies.txt\"\n",
    "f = codecs.open(wordfreq_fp, \"w\", \"utf-8\")\n",
    "for word, freq in word_freq_tuples:\n",
    "    f.write(word + \"\\t\" + str(freq) + \"\\n\")\n",
    "f.close()"
   ]
  },
  {
   "cell_type": "markdown",
   "metadata": {},
   "source": [
    "* Ex. 2: rewrite the novel in the previous exercise, by replacing the name of the principal character in the novel by your own name. (Use the `replace()` function for this.) Write the new version of novel to a file called `starring_me.txt`."
   ]
  },
  {
   "cell_type": "code",
   "execution_count": 41,
   "metadata": {},
   "outputs": [],
   "source": [
    "filepath = \"aliceinwonderland.txt\"\n",
    "f_in = codecs.open(filepath, \"r\", \"utf-8\")\n",
    "text = f_in.read()\n",
    "f_in.close()\n",
    "\n",
    "my_text = text.replace(\"Alice\", \"Kilroy\")\n",
    "my_text_fp = \"starring_me.txt\"\n",
    "f_out = codecs.open(my_text_fp, \"w\", \"utf-8\")\n",
    "f_out.write(my_text)\n",
    "f_out.close()"
   ]
  },
  {
   "cell_type": "markdown",
   "metadata": {},
   "source": [
    "* Ex. 3: Write a program that takes a text file (e.g. `filename.txt`) and creates a new text file (e.g. `filename_numbered.txt`) in which all the lines from the original file are numbered from 1 to n (where n is the number of lines in the file), i.e. prepend the number and a space to each line."
   ]
  },
  {
   "cell_type": "code",
   "execution_count": 43,
   "metadata": {},
   "outputs": [],
   "source": [
    "filepath = \"aliceinwonderland.txt\"\n",
    "f_in = codecs.open(filepath, \"r\", \"utf-8\")\n",
    "text = f_in.readlines()\n",
    "f_in.close()\n",
    "\n",
    "numbered_fp = \"aliceinwonderlandnumbered.txt\"\n",
    "f_out = codecs.open(numbered_fp, \"w\", \"utf-8\")\n",
    "for i, line in enumerate(text):\n",
    "    f_out.write(str(i) + \": \" + line)\n",
    "f_out.close()"
   ]
  },
  {
   "cell_type": "markdown",
   "metadata": {},
   "source": [
    "* Advanced bonus exercise for if you feel like trying something crazy: a *sentence splitter* is a program capable of splitting a text into sentences. The standard set of heuristics for sentence splitting includes (but isn't limited to) the following rules: Sentence boundaries occur at one of \".\" (periods), \"?\" or \"!\", except that:\n",
    "\n",
    "> - Periods followed by whitespace followed by a lowercase letter are not sentence boundaries.\n",
    "> - Periods followed by a digit with no intervening whitespace are not sentence boundaries.\n",
    "> - Periods followed by whitespace and then an uppercase letter, but preceded by any of a short list of titles are not sentence boundaries. Sample titles include Mr., Mrs., Dr., and so on.\n",
    "> - Periods internal to a sequence of letters with no adjacent whitespace are not sentence boundaries, such as in www.aptex.com or e.g.\n",
    "> - Periods followed by certain kinds of punctuation (notably comma and more periods) are probably not sentence boundaries.\n",
    "\n",
    "You might want to check out string functions, like `.islower()` and `.isalpha()` in the official Python documentation online. Your task here is to write a function that given the name of a text file is able to write its content with each sentence on a separate line to a new file whose name is also passed as an argument to the function. The function itself should return a list of sentences. Test your program with the following short text: `\"Mr. Smith bought cheapsite.com for 1.5 million dollars, i.e. he paid a lot for it. Did he mind? Adam Jones Jr. thinks he didn't. In any case, this isn't true... Well, with a probability of .9 it isn't.\"` The result written to the new file should be:\n",
    "\n",
    "Mr. Smith bought cheapsite.com for 1.5 million dollars, i.e. he paid a lot for it.\n",
    "\n",
    "Did he mind?\n",
    "\n",
    "Adam Jones Jr. thinks he didn't.\n",
    "\n",
    "In any case, this isn't true...\n",
    "\n",
    "Well, with a probability of .9 it isn't.\n"
   ]
  },
  {
   "cell_type": "code",
   "execution_count": null,
   "metadata": {
    "collapsed": true
   },
   "outputs": [],
   "source": []
  },
  {
   "cell_type": "markdown",
   "metadata": {},
   "source": [
    "------------------------------\n",
    "\n",
    "You've reached the end of Chapter 5! You can safely ignore the code below, it's only there to make the page pretty:"
   ]
  },
  {
   "cell_type": "code",
   "execution_count": null,
   "metadata": {
    "collapsed": true
   },
   "outputs": [],
   "source": [
    "from IPython.core.display import HTML\n",
    "def css_styling():\n",
    "    styles = open(\"styles/custom.css\", \"r\").read()\n",
    "    return HTML(styles)\n",
    "css_styling()"
   ]
  }
 ],
 "metadata": {
  "kernelspec": {
   "display_name": "Python 3",
   "language": "python",
   "name": "python3"
  },
  "language_info": {
   "codemirror_mode": {
    "name": "ipython",
    "version": 3
   },
   "file_extension": ".py",
   "mimetype": "text/x-python",
   "name": "python",
   "nbconvert_exporter": "python",
   "pygments_lexer": "ipython3",
   "version": "3.6.1"
  }
 },
 "nbformat": 4,
 "nbformat_minor": 1
}
