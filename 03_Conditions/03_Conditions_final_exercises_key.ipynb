{
 "cells": [
  {
   "cell_type": "markdown",
   "metadata": {},
   "source": [
    "# Chapter 3: Conditions"
   ]
  },
  {
   "cell_type": "markdown",
   "metadata": {},
   "source": [
    "## Final Exercises Chapter 3"
   ]
  },
  {
   "cell_type": "markdown",
   "metadata": {},
   "source": [
    "Inspired by *Think Python* by Allen B. Downey (http://thinkpython.com), *Introduction to Programming Using Python* by Y. Liang (Pearson, 2013). Some exercises below have been taken from: http://www.ling.gu.se/~lager/python_exercises.html."
   ]
  },
  {
   "cell_type": "markdown",
   "metadata": {},
   "source": [
    "- Ex. 1: Write a grading application for teachers. You start with an input field where the teachers have to fill in the score. The score has to be an integer between 0 and 20 (no .5 or letters are allowed). If they fill in something different, they should receive a warning message. After this, the program will render (print) the score as 'D' (less than 10/20), 'C' (higher than 10), 'B' (higher than 13) or 'A' (higher than 16). "
   ]
  },
  {
   "cell_type": "code",
   "execution_count": 3,
   "metadata": {
    "collapsed": true
   },
   "outputs": [
    {
     "name": "stdout",
     "output_type": "stream",
     "text": [
      "Please, enter score.13\n",
      "C\n"
     ]
    }
   ],
   "source": [
    "# grading system\n",
    "inputscore = input(\"Please, enter score.\")\n",
    "try:\n",
    "    if int(inputscore) >= 0 and int(inputscore) <= 20: #proper integer input\n",
    "        if int(inputscore) < 10:    \n",
    "            grade = \"D\"\n",
    "        elif int(inputscore) <= 13:    \n",
    "            grade = \"C\"\n",
    "        elif int(inputscore) <= 16:    \n",
    "            grade = \"B\"\n",
    "        elif int(inputscore) <= 20:    \n",
    "            grade = \"A\"\n",
    "        print(grade)\n",
    "    else: #out of bounds integer \n",
    "        raise Valuerror(\"Error: number needs to be between 0 and 20.\")\n",
    "except ValueError: #non-integer\n",
    "    print(\"Error: please enter a rounded number.\")"
   ]
  },
  {
   "cell_type": "markdown",
   "metadata": {},
   "source": [
    "-  Ex. 2: Can you spot the reasoning error in the following code?"
   ]
  },
  {
   "cell_type": "code",
   "execution_count": 2,
   "metadata": {
    "collapsed": true
   },
   "outputs": [
    {
     "name": "stdout",
     "output_type": "stream",
     "text": [
      "Please, enter score.12\n",
      "C\n"
     ]
    }
   ],
   "source": [
    "score = input(\"score between 0 and 100: \")\n",
    "score = int(score)\n",
    "\n",
    "# # original with wrong order:\n",
    "# if score >= 60.0:\n",
    "#     grade = 'D'\n",
    "# elif score >= 70.0:\n",
    "#     grade = 'C'\n",
    "# elif score >= 80.0:\n",
    "#     grade = 'B'\n",
    "# elif score >= 90.0:\n",
    "#     grade = 'A'\n",
    "# else:\n",
    "#     grade = 'F'\n",
    "# print(\"wrong grade: \" + grade)\n",
    "\n",
    "# The problem here is that the if elif statements are following in the wrong order. \n",
    "# Any value >= 60 will not continue down. \n",
    "\n",
    "if score >= 90.0:\n",
    "    grade = 'A'\n",
    "elif score >= 80.0:\n",
    "    grade = 'B'\n",
    "elif score >= 70.0:\n",
    "    grade = 'C'\n",
    "elif score >= 60.0:\n",
    "    grade = 'D'\n",
    "else:\n",
    "    grade = 'F'\n",
    "print(\"recommended \" + grade)"
   ]
  },
  {
   "cell_type": "markdown",
   "metadata": {},
   "source": [
    "- Ex. 3: Write a script that generates a personal title in English. When the addressee is a male person, we will use \"Mr.\", when it is a young girl \"Miss\", when it is a married woman \"Mrs.\" plus the name of her husband, and when the marital status is unknown or we think that a neutral title is better, \"Ms.\"."
   ]
  },
  {
   "cell_type": "code",
   "execution_count": 4,
   "metadata": {
    "collapsed": true
   },
   "outputs": [
    {
     "name": "stdout",
     "output_type": "stream",
     "text": [
      "Please enter your last name.LLCOOLJ\n",
      "Please enter the last name of your partner. Type N for no partner.BIGGIE\n",
      "Please enter your age.19\n",
      "What is your sex: F/M?F\n",
      "Mrs. biggie\n"
     ]
    }
   ],
   "source": [
    "name = input(\"Please enter your last name.\")\n",
    "name_partner = input(\"Please enter the last name of your partner. Type N for no partner.\")\n",
    "age = int(input(\"Please enter your age.\"))\n",
    "sex = input(\"What is your sex: F/M?\").lower()\n",
    "\n",
    "if sex == \"m\": # male case\n",
    "    print(f\"Mr. {name}\")\n",
    "    \n",
    "else: # female case\n",
    "    \n",
    "    if age < 18: # young female\n",
    "        print(f\"Miss {name}\")\n",
    "    else:\n",
    "        if name_partner != \"n\": # married\n",
    "            print(f\"Mrs. {name_partner}\")\n",
    "        else: # unknown/no marital status\n",
    "            print(f\"Ms. {name}\")"
   ]
  },
  {
   "cell_type": "markdown",
   "metadata": {},
   "source": [
    "---"
   ]
  },
  {
   "cell_type": "markdown",
   "metadata": {},
   "source": [
    "Congrats: you've reached the end of Chapter 3! Ignore the code block below; it's only here to make the page prettier."
   ]
  },
  {
   "cell_type": "code",
   "execution_count": null,
   "metadata": {
    "collapsed": true
   },
   "outputs": [],
   "source": [
    "from IPython.core.display import HTML\n",
    "def css_styling():\n",
    "    styles = open(\"styles/custom.css\", \"r\").read()\n",
    "    return HTML(styles)\n",
    "css_styling()"
   ]
  }
 ],
 "metadata": {
  "kernelspec": {
   "display_name": "Python 3",
   "language": "python",
   "name": "python3"
  },
  "language_info": {
   "codemirror_mode": {
    "name": "ipython",
    "version": 3
   },
   "file_extension": ".py",
   "mimetype": "text/x-python",
   "name": "python",
   "nbconvert_exporter": "python",
   "pygments_lexer": "ipython3",
   "version": "3.6.1"
  }
 },
 "nbformat": 4,
 "nbformat_minor": 1
}
